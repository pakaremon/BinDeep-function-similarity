{
  "cells": [
    {
      "cell_type": "code",
      "execution_count": null,
      "metadata": {
        "colab": {
          "base_uri": "https://localhost:8080/"
        },
        "id": "xUwqHXefpuGg",
        "outputId": "e53fd1cf-b2eb-439b-c1f1-b1f032b61df0"
      },
      "outputs": [
        {
          "output_type": "stream",
          "name": "stdout",
          "text": [
            "Mounted at /content/drive\n"
          ]
        }
      ],
      "source": [
        "from google.colab import drive\n",
        "drive.mount('/content/drive')\n"
      ]
    },
    {
      "cell_type": "code",
      "execution_count": null,
      "metadata": {
        "colab": {
          "base_uri": "https://localhost:8080/"
        },
        "id": "rmyXoN0FCRl7",
        "outputId": "4f150468-67dc-41b5-b8d3-38a85b790e1c"
      },
      "outputs": [
        {
          "output_type": "stream",
          "name": "stdout",
          "text": [
            "Requirement already satisfied: tabulate in /usr/local/lib/python3.10/dist-packages (0.9.0)\n"
          ]
        }
      ],
      "source": [
        "!pip install tabulate"
      ]
    },
    {
      "cell_type": "code",
      "execution_count": null,
      "metadata": {
        "colab": {
          "base_uri": "https://localhost:8080/"
        },
        "id": "Ks9ZxaWTG8dX",
        "outputId": "27a90721-2647-43ff-c52d-5c6f6ce56e36"
      },
      "outputs": [
        {
          "output_type": "stream",
          "name": "stdout",
          "text": [
            "Collecting cs50\n",
            "  Downloading cs50-9.3.4-py3-none-any.whl (21 kB)\n",
            "Requirement already satisfied: Flask>=1.0 in /usr/local/lib/python3.10/dist-packages (from cs50) (2.2.5)\n",
            "Requirement already satisfied: packaging in /usr/local/lib/python3.10/dist-packages (from cs50) (24.0)\n",
            "Requirement already satisfied: SQLAlchemy<3,>=2 in /usr/local/lib/python3.10/dist-packages (from cs50) (2.0.30)\n",
            "Requirement already satisfied: sqlparse in /usr/local/lib/python3.10/dist-packages (from cs50) (0.5.0)\n",
            "Requirement already satisfied: termcolor in /usr/local/lib/python3.10/dist-packages (from cs50) (2.4.0)\n",
            "Requirement already satisfied: wheel in /usr/local/lib/python3.10/dist-packages (from cs50) (0.43.0)\n",
            "Requirement already satisfied: Werkzeug>=2.2.2 in /usr/local/lib/python3.10/dist-packages (from Flask>=1.0->cs50) (3.0.3)\n",
            "Requirement already satisfied: Jinja2>=3.0 in /usr/local/lib/python3.10/dist-packages (from Flask>=1.0->cs50) (3.1.4)\n",
            "Requirement already satisfied: itsdangerous>=2.0 in /usr/local/lib/python3.10/dist-packages (from Flask>=1.0->cs50) (2.2.0)\n",
            "Requirement already satisfied: click>=8.0 in /usr/local/lib/python3.10/dist-packages (from Flask>=1.0->cs50) (8.1.7)\n",
            "Requirement already satisfied: typing-extensions>=4.6.0 in /usr/local/lib/python3.10/dist-packages (from SQLAlchemy<3,>=2->cs50) (4.12.1)\n",
            "Requirement already satisfied: greenlet!=0.4.17 in /usr/local/lib/python3.10/dist-packages (from SQLAlchemy<3,>=2->cs50) (3.0.3)\n",
            "Requirement already satisfied: MarkupSafe>=2.0 in /usr/local/lib/python3.10/dist-packages (from Jinja2>=3.0->Flask>=1.0->cs50) (2.1.5)\n",
            "Installing collected packages: cs50\n",
            "Successfully installed cs50-9.3.4\n"
          ]
        }
      ],
      "source": [
        "!pip install cs50\n"
      ]
    },
    {
      "cell_type": "code",
      "execution_count": null,
      "metadata": {
        "id": "01mgRXglLttw"
      },
      "outputs": [],
      "source": [
        "import json\n",
        "import pickle\n",
        "import os\n",
        "import re\n",
        "import csv\n",
        "import time\n",
        "import random\n",
        "import numpy as np\n",
        "import pandas as pd\n",
        "from sklearn.model_selection import train_test_split\n",
        "from sklearn.preprocessing import LabelEncoder\n",
        "from gensim.models import Word2Vec\n",
        "import nltk\n",
        "from tensorflow.keras.models import load_model, model_from_json\n",
        "\n",
        "from cs50 import SQL\n",
        "from tabulate import tabulate\n",
        "\n",
        "from sklearn.metrics import make_scorer, accuracy_score, f1_score, recall_score, precision_score,  confusion_matrix, roc_auc_score\n",
        "\n",
        "import tensorflow as tf\n",
        "from tensorflow.keras.layers import Input, Embedding, LSTM, Conv1D, MaxPooling1D, Flatten, Dense, Lambda\n",
        "from tensorflow.keras.models import Model\n",
        "from tensorflow.keras.optimizers import Adam\n",
        "from tensorflow.keras import backend as K\n",
        "from gensim.models import Word2Vec\n"
      ]
    },
    {
      "cell_type": "code",
      "execution_count": null,
      "metadata": {
        "colab": {
          "base_uri": "https://localhost:8080/"
        },
        "id": "Id1hrJzZhcwm",
        "outputId": "e6d70602-7cfb-40e4-cfab-887396fcd73a"
      },
      "outputs": [
        {
          "output_type": "stream",
          "name": "stderr",
          "text": [
            "[nltk_data] Downloading package punkt to /root/nltk_data...\n",
            "[nltk_data]   Unzipping tokenizers/punkt.zip.\n"
          ]
        },
        {
          "output_type": "execute_result",
          "data": {
            "text/plain": [
              "True"
            ]
          },
          "metadata": {},
          "execution_count": 5
        }
      ],
      "source": [
        "nltk.download('punkt')"
      ]
    },
    {
      "cell_type": "markdown",
      "metadata": {
        "id": "J-BquNHZDySW"
      },
      "source": [
        "# read database"
      ]
    },
    {
      "cell_type": "code",
      "execution_count": null,
      "metadata": {
        "id": "IWUxpEdFD0nG"
      },
      "outputs": [],
      "source": [
        "db = SQL(\"sqlite:////content/drive/MyDrive/HK2_2023-2024/NT522/Dataset/bin_similar/bin_similar.db\")"
      ]
    },
    {
      "cell_type": "code",
      "execution_count": null,
      "metadata": {
        "id": "bknhpE0HSOdo"
      },
      "outputs": [],
      "source": [
        "\n",
        "# get filter function id have mother 30 instruction lines\n",
        "df_function_id = pd.read_csv(\"/content/drive/MyDrive/HK2_2023-2024/NT522/Dataset/other_stuff/filter_function_id.csv\")"
      ]
    },
    {
      "cell_type": "code",
      "execution_count": null,
      "metadata": {
        "id": "5ARUouqxJ9ar"
      },
      "outputs": [],
      "source": [
        "filterd_function_ids = list(df_function_id['function_id'].tolist())"
      ]
    },
    {
      "cell_type": "code",
      "execution_count": null,
      "metadata": {
        "id": "buXK3E4oToXj"
      },
      "outputs": [],
      "source": [
        "# algorithms to obtain dataset tabulat dataset\n",
        "# we will focus on archirecture and\n",
        "# function1 | function2 | label\n",
        "# follwing describle: https://bedecked-beam-210.notion.site/Dataset-b8b4e490eb8c4fb0a126ea17f4cd6fe4?pvs=4\n",
        "\n",
        "def get_function_ids(optimizer, complier,compiler_version,  binary_name, architecture):\n",
        "  '''\n",
        "  optimizer: string\n",
        "  complier: string\n",
        "  binary_name: string\n",
        "  architecture: string\n",
        "  return: list of function id\n",
        "\n",
        "  '''\n",
        "  rows = db.execute(\"SELECT id FROM function_name WHERE  id IN (SELECT function_id FROM binary_function_mapping WHERE binary_id = (SELECT id FROM binary_name WHERE binary_name = ? AND compiler = ? AND compiler_version = ?  AND architecture = ?)) \",  optimizer + \"_\" + binary_name , complier, compiler_version, architecture )\n",
        "  return [row['id'] for row in rows]\n",
        "\n",
        "def get_disassambly(function_id):\n",
        "  disassambly_fuctions = []\n",
        "  rows = db.execute(\"SELECT disassambly FROM function_disassambly WHERE function_id = ?\", function_id)\n",
        "  data = rows[0]['disassambly']\n",
        "  try:\n",
        "    dt = pickle.loads(bytes(data, 'latin-1'))\n",
        "  except:\n",
        "    print(\"can't load function id = \", function_id)\n",
        "    pass\n",
        "  else:\n",
        "    disassambly_fuctions = dt\n",
        "  return disassambly_fuctions\n"
      ]
    },
    {
      "cell_type": "code",
      "execution_count": null,
      "metadata": {
        "id": "H_iBu4xVMXVV"
      },
      "outputs": [],
      "source": [
        "def _get_common_functions_binary(binary_name):\n",
        "  '''\n",
        "  binary_name: string\n",
        "  return: list of function name\n",
        "  '''\n",
        "  rows = db.execute(\"SELECT function_name FROM function_name WHERE id IN (SELECT function_id FROM binary_function_mapping WHERE binary_id = (SELECT id FROM binary_name WHERE binary_name LIKE ?))\", \"%\" + binary_name )\n",
        "  return [row['function_name'] for row in rows]\n",
        "\n",
        "def get_id_function_name_binary(optimizer, complier,compiler_version,  binary_name, architecture, function_name ):\n",
        "  '''\n",
        "  optimizer: string\n",
        "  complier: string\n",
        "  binary_name: string\n",
        "  architecture: string\n",
        "  return: function id\n",
        "  '''\n",
        "  rows = db.execute(\"SELECT id FROM function_name WHERE id IN (SELECT function_id FROM binary_function_mapping WHERE binary_id = (SELECT id FROM binary_name WHERE binary_name = ? AND compiler = ? AND compiler_version = ? AND architecture = ? )) AND function_name = ?\", optimizer + \"_\" + binary_name, complier, compiler_version, architecture, function_name )\n",
        "  if len(rows) == 0:\n",
        "    print(\"can't find function name = \", function_name)\n",
        "    return None\n",
        "  return rows[0]['id']\n",
        "\n",
        "def get_function_name_by_id(function_id):\n",
        "  ''' get function name by id function'''\n",
        "\n",
        "  rows = db.execute(\"SELECT function_name FROM function_name WHERE id = ?\", function_id)\n",
        "  if len(rows) == 0:\n",
        "    print(\"can't find function id = \", function_id)\n",
        "    return None\n",
        "  return rows[0]['function_name']\n",
        "\n",
        "def get_list_id_function(binary_name, architecture, function_name):\n",
        "  rows = db.execute(\"SELECT id FROM function_name WHERE id IN (SELECT function_id FROM binary_function_mapping WHERE binary_id IN (SELECT id FROM binary_name WHERE binary_name LIKE ?  AND architecture = ?)) AND function_name = ?\", \"%\" + binary_name,architecture, function_name)\n",
        "  if len(rows) == 0:\n",
        "    print(\"can't find function name = \", function_name)\n",
        "    return None\n",
        "  return [row['id'] for row in rows]\n"
      ]
    },
    {
      "cell_type": "code",
      "execution_count": null,
      "metadata": {
        "id": "TjeJsh8RKalT"
      },
      "outputs": [],
      "source": [
        "# \"nmap\":[\"ncat\", \"nmap\", \"nping\"],\n",
        "nmap_bin = [\"ncat\", \"nmap\", \"nping\"]\n",
        "list_of_bin = {\n",
        "     \"clamav\":[\"sigtool\", \"clambc\", \"clamconf\", \"clamscan\", \"freshclam\", \"libclamav.so.9.0.0\"],\n",
        "\n",
        "     \"curl\":[\"curl\"],\n",
        "     \"nmap\":[\"ncat\", \"nmap\", \"nping\"],\n",
        "     \"openssl\":[\"afalg.so\", \"capi.so\", \"dasync.so\", \"fips.so\", \"legacy.so\", \"libcrypto.so.3\", \"libssl.so.3\",\"openssl\", \"ossltest.so\", \"padlock.so\"],\n",
        "     \"unrar\":[\"unrar\"],\n",
        "     \"zlib\":[\"libz.so.1.2.11\", \"minigzip\", \"minigzip64\", \"minigzipsh\"]\n",
        "}\n",
        "\n",
        "common_functions = {}\n",
        "for binary in list_of_bin.keys():\n",
        "  common_functions[binary]= {}\n",
        "  for function in list_of_bin[binary]:\n",
        "    common_functions[binary][function] = _get_common_functions_binary(function)\n"
      ]
    },
    {
      "cell_type": "code",
      "execution_count": null,
      "metadata": {
        "id": "-yowQUPuB88L"
      },
      "outputs": [],
      "source": [
        "data = {}\n",
        "for key in common_functions.keys():\n",
        "  functions = []\n",
        "  for value in common_functions[key].values():\n",
        "    functions.extend(value)\n",
        "  data[key] =\n",
        "\n",
        "\n",
        "\n",
        "\n",
        "\n",
        "\n"
      ]
    },
    {
      "cell_type": "code",
      "execution_count": null,
      "metadata": {
        "id": "OZLUOg9LZsCn"
      },
      "outputs": [],
      "source": [
        "#create index sql\n",
        "try:\n",
        "    db.execute(\"\"\"\n",
        "    CREATE INDEX IF NOT EXISTS idx_binary_name_name_architecture\n",
        "    ON binary_name (binary_name, architecture);\n",
        "    \"\"\")\n",
        "    db.execute(\"\"\"\n",
        "    CREATE INDEX IF NOT EXISTS idx_binary_function_mapping_binary_id\n",
        "    ON binary_function_mapping (binary_id);\n",
        "    \"\"\")\n",
        "    db.execute(\"\"\"\n",
        "    CREATE INDEX IF NOT EXISTS idx_binary_function_mapping_function_id\n",
        "    ON binary_function_mapping (function_id);\n",
        "    \"\"\")\n",
        "except Exception as e:\n",
        "    print(f\"Error occurred: {e}\")"
      ]
    },
    {
      "cell_type": "code",
      "execution_count": null,
      "metadata": {
        "id": "XZ_3aeyZtr5l"
      },
      "outputs": [],
      "source": [
        "# positive pairs\n",
        "# The same architecure\n",
        "# Cross-optimization\n",
        "# Cross-compiler\n",
        "\n",
        "\n",
        "\n"
      ]
    },
    {
      "cell_type": "markdown",
      "metadata": {
        "id": "fD6HWqjhtns1"
      },
      "source": [
        "# get negative pairs"
      ]
    },
    {
      "cell_type": "code",
      "execution_count": null,
      "metadata": {
        "id": "FHmbUn_tKLWi"
      },
      "outputs": [],
      "source": [
        "\n",
        "\n",
        "data = {}\n",
        "for key in common_functions.keys():\n",
        "    data[key] = {}\n",
        "    for subkey, values in common_functions[key].items():\n",
        "        data[key][subkey] = {}\n",
        "        for item in values:\n",
        "          data[key][subkey][item] = get_list_id_function(binary_name=subkey, architecture='x86', function_name=item) + get_list_id_function(binary_name=subkey, architecture='x64', function_name=item)\n",
        "\n",
        "\n"
      ]
    },
    {
      "cell_type": "code",
      "execution_count": null,
      "metadata": {
        "id": "i1gl77k_OkXI"
      },
      "outputs": [],
      "source": [
        "with open(\"/content/drive/MyDrive/HK2_2023-2024/NT522/ProcessData/function_ids.pkl\", \"wb\") as pikl_file:\n",
        "  pickle.dump(data,pikl_file)"
      ]
    },
    {
      "cell_type": "code",
      "execution_count": null,
      "metadata": {
        "id": "ON45HrwKhJda"
      },
      "outputs": [],
      "source": [
        "\n",
        "\n",
        "with open(\"/content/drive/MyDrive/HK2_2023-2024/NT522/ProcessData/function_ids.pkl\", \"rb\") as pikl_file:\n",
        "    data = pickle.load(pikl_file)\n"
      ]
    },
    {
      "cell_type": "code",
      "execution_count": null,
      "metadata": {
        "id": "U_ViZ-yWydFa"
      },
      "outputs": [],
      "source": [
        "import sys\n",
        "for top_key, nested_dict in data.items():\n",
        "      for sub_key, list_dict in nested_dict.items():\n",
        "          for list_key, list_values in list_dict.items():\n",
        "              # Update the values in the list\n",
        "\n",
        "            list_values_set = set(list_values)\n",
        "            filtered_ids = list_values_set.intersection(filterd_function_ids)\n",
        "            data[top_key][sub_key][list_key] = list(filtered_ids)"
      ]
    },
    {
      "cell_type": "code",
      "execution_count": null,
      "metadata": {
        "id": "-5TNIv2A4x3F"
      },
      "outputs": [],
      "source": [
        "dt_functions = data"
      ]
    },
    {
      "cell_type": "code",
      "execution_count": null,
      "metadata": {
        "id": "PF5QQSy_hRKb"
      },
      "outputs": [],
      "source": [
        "#negative pair functions\n",
        "\n",
        "negative_pairs = []\n",
        "\n",
        "while(len(negative_pairs) <= 27000):\n",
        "  for item in dt_functions.keys():\n",
        "\n",
        "    random_bin = random.choice([key for key in list(dt_functions.keys()) if key != item])\n",
        "    subbin1 = random.choice(list(dt_functions[item].keys()))\n",
        "    subbin2 = random.choice(list(dt_functions[random_bin].keys()))\n",
        "\n",
        "    function1 = random.choice(list(dt_functions[item][subbin1].keys()))\n",
        "    function2 = random.choice(list(dt_functions[random_bin][subbin2].keys()))\n",
        "\n",
        "    if (function1 != function2) and (len(dt_functions[item][subbin1][function1]) > 0 and len(dt_functions[random_bin][subbin2][function2]) > 0):\n",
        "\n",
        "      id_function1 = random.choice(dt_functions[item][subbin1][function1])\n",
        "      id_function2 = random.choice(dt_functions[random_bin][subbin2][function2])\n",
        "      if (id_function1, id_function2) not in negative_pairs:\n",
        "        negative_pairs.append((id_function1, id_function2))\n",
        "\n",
        "\n",
        "\n",
        "\n",
        "\n",
        "\n",
        "\n",
        "\n",
        "\n"
      ]
    },
    {
      "cell_type": "code",
      "execution_count": null,
      "metadata": {
        "id": "vM0PKOSH7jQC"
      },
      "outputs": [],
      "source": [
        "with open(\"/content/drive/MyDrive/HK2_2023-2024/NT522/ProcessData/positive_pair_function.csv\", \"r\") as csv_file:\n",
        "  reader = csv.reader(csv_file)\n",
        "  positive_pairs = [row for row in reader]\n",
        "with open(\"/content/drive/MyDrive/HK2_2023-2024/NT522/ProcessData/cross_complier_ids_pairs.csv\", \"w\", newline='') as csv_file:\n",
        "  writer = csv.writer(csv_file)\n",
        "  writer.writerow(['function1', 'function2', 'Class'])\n",
        "  for item in positive_pairs:\n",
        "    writer.writerow([item[0], item[1], 1])\n",
        "  for item in negative_pairs:\n",
        "    writer.writerow([item[0], item[1], 0])\n",
        "\n"
      ]
    },
    {
      "cell_type": "code",
      "execution_count": null,
      "metadata": {
        "id": "GJv6Y_dM_6Db"
      },
      "outputs": [],
      "source": [
        "dftest = pd.read_csv(\"/content/drive/MyDrive/HK2_2023-2024/NT522/ProcessData/cross_complier_ids_pairs.csv\")"
      ]
    },
    {
      "cell_type": "code",
      "execution_count": null,
      "metadata": {
        "id": "bpfX2PJAQ3Lf"
      },
      "outputs": [],
      "source": [
        "# Cross-compiler\n",
        "# function pairs\n",
        "#positive pairs\n",
        "# Only the compilers are different\n",
        "\n",
        "\n",
        "\n",
        "optimizer_list = [ \"O0\", \"O1\", \"O2\", \"O3\"]\n",
        "\n",
        "positive_pairs_cross_compiler = []\n",
        "with open(\"/content/drive/MyDrive/HK2_2023-2024/NT522/ProcessData/positive_pair_function.csv\", 'w', newline='') as csv_file:\n",
        "  writer = csv.writer(csv_file)\n",
        "\n",
        "  for bin in list_of_bin.keys():\n",
        "    for bin_type in list_of_bin[bin]:\n",
        "      for function in common_functions[bin_type]:\n",
        "        for optimizer in optimizer_list:\n",
        "          architetures = random.choice(['x64', 'x86'])\n",
        "\n",
        "\n",
        "          id_function1 = get_id_function_name_binary(optimizer, \"gcc\", random.choice([\"4.8\", \"5\", \"9\", \"7\"]), bin_type, architetures, function)\n",
        "          id_function2 = get_id_function_name_binary(optimizer, \"clang\", random.choice([\"3.5\", \"5.0\", \"7\", \"9\"]), bin_type, architetures, function)\n",
        "          if id_function1 in filterd_function_ids and id_function2 in filterd_function_ids:\n",
        "            positive_pairs_cross_compiler.append((id_function1, id_function2))\n",
        "            writer.writerow([id_function1, id_function2])\n",
        "\n",
        "            if len(positive_pairs_cross_compiler) > 100000:\n",
        "              break\n",
        "\n",
        "\n",
        "\n",
        "\n",
        "\n",
        "#negaitve pairs\n"
      ]
    },
    {
      "cell_type": "code",
      "execution_count": null,
      "metadata": {
        "id": "pp4MuLd7_zG9"
      },
      "outputs": [],
      "source": [
        "# Cross-optimization\n",
        "# function pairs\n",
        "# Only the optimization levels are different\n",
        "# for simplity we only chose O0 and O2\n",
        "optimizer_list = [ \"O0\", \"O1\", \"O2\", \"O3\"]\n",
        "positive_pairs_cross_optimization = []\n",
        "for bin_type in nmap_bin:\n",
        "  for function in common_functions[bin_type]:\n",
        "    id_function1 = get_id_function_name_binary(\"O0\", \"gcc\", \"7\", bin_type, \"x64\", function)\n",
        "    id_function2 = get_id_function_name_binary(\"O2\", \"gcc\", \"7\", bin_type, \"x64\", function)\n",
        "    if id_function1 in filterd_function_ids and id_function2 in filterd_function_ids:\n",
        "      positive_pairs_cross_optimization.append((id_function1, id_function2))\n",
        "\n"
      ]
    },
    {
      "cell_type": "code",
      "execution_count": null,
      "metadata": {
        "id": "Vp_0jOGjFll1"
      },
      "outputs": [],
      "source": [
        "# Cross-version\n",
        "# function pairs\n",
        "#Only the function versions are different\n",
        "# for simplity we only chose gcc version 5 and version 7\n",
        "gcc_versions = [4.8, 5, 7, 9]\n",
        "\n",
        "positive_pairs_cross_version = []\n",
        "\n",
        "for bin_type in nmap_bin:\n",
        "  for function in common_functions[bin_type]:\n",
        "    id_function1 = get_id_function_name_binary(\"O0\", \"gcc\", \"5\", bin_type, \"x64\", function)\n",
        "    id_function2 = get_id_function_name_binary(\"O0\", \"gcc\", \"7\", bin_type, \"x64\", function)\n",
        "    if id_function1 in filterd_function_ids and id_function2 in filterd_function_ids:\n",
        "      positive_pairs_cross_version.append((id_function1, id_function2))\n",
        "\n",
        "\n",
        "\n",
        "\n"
      ]
    },
    {
      "cell_type": "code",
      "execution_count": null,
      "metadata": {
        "id": "njyIez9RGbm6"
      },
      "outputs": [],
      "source": [
        "# Cross-architecture\n",
        "# function pairs\n",
        "# Only the CPU architectures are different\n",
        "# we only chose x86 and x64 for simplity\n",
        "\n",
        "architetures = ['arm32', 'arm64', 'x64', 'x86']\n",
        "positive_pairs_cross_architecture = []\n",
        "for bin_type in nmap_bin:\n",
        "  for function in common_functions[bin_type]:\n",
        "    id_function1 = get_id_function_name_binary(\"O0\", \"gcc\", \"7\", bin_type, \"x64\", function)\n",
        "    id_function2 = get_id_function_name_binary(\"O0\", \"gcc\", \"7\", bin_type, \"x86\", function)\n",
        "    if id_function1 in filterd_function_ids and id_function2 in filterd_function_ids:\n",
        "      positive_pairs_cross_architecture.append((id_function1, id_function2))\n",
        "\n",
        "\n"
      ]
    },
    {
      "cell_type": "code",
      "execution_count": null,
      "metadata": {
        "id": "db_1_hNy_11b"
      },
      "outputs": [],
      "source": [
        "# Mixed function pairs\n",
        "# The Compilers, optimization levels,versions,and architectures may be all different\n",
        "positive_pairs_mixed = []\n",
        "for bin_type in nmap_bin:\n",
        "  for function in common_functions[bin_type]:\n",
        "    id_function1 = get_id_function_name_binary(\"O0\", \"gcc\", \"7\", bin_type, \"x64\", function)\n",
        "    id_function2 = get_id_function_name_binary(\"O1\", \"clang\", \"9\", bin_type, \"x86\", function)\n",
        "    if id_function1 in filterd_function_ids and id_function2 in filterd_function_ids:\n",
        "      positive_pairs_mixed.append((id_function1, id_function2))\n"
      ]
    },
    {
      "cell_type": "code",
      "execution_count": null,
      "metadata": {
        "id": "OfaQ4aMTVvt3"
      },
      "outputs": [],
      "source": [
        "positive_pairs = positive_pairs_cross_compiler + positive_pairs_cross_optimization + positive_pairs_cross_version + positive_pairs_cross_architecture + positive_pairs_mixed"
      ]
    },
    {
      "cell_type": "code",
      "execution_count": null,
      "metadata": {
        "id": "Lk8tzRkdsy0Y"
      },
      "outputs": [],
      "source": [
        "# negative samples we get 5000 samples from ran dom subset\n",
        "nmaps_ids = []\n",
        "for bin_type in nmap_bin:\n",
        "  nmap_ids = get_function_ids(\"O0\", \"gcc\", \"7\", bin_type , \"x64\")\n",
        "  nmaps_ids.extend([id for id in nmap_ids  if id in filterd_function_ids ])\n"
      ]
    },
    {
      "cell_type": "code",
      "execution_count": null,
      "metadata": {
        "id": "JJT24ZaBU3Ac"
      },
      "outputs": [],
      "source": [
        "#we randomly select functions in the different binary files with the different function names.\n",
        "\n",
        "\n",
        "paramaters = {\n",
        "    \"optimizer\": [ \"O1\",  \"O3\"],\n",
        "    \"compiler\": [\"gcc\", \"clang\"],\n",
        "    \"complier_version\": [\"7\", \"9\"],\n",
        "    \"architetures\": ['x64', 'x86']\n",
        "}\n",
        "\n",
        "list_of_bin = {\n",
        "     \"clamav\":[\"sigtool\", \"clambc\", \"clamconf\", \"clamscan\", \"freshclam\", \"libclamav.so.9.0.0\"],\n",
        "\n",
        "     \"curl\":[\"curl\"],\n",
        "    #  \"nmap\":[\"ncat\", \"nmap\", \"nping\"],\n",
        "     \"openssl\":[\"afalg.so\", \"capi.so\", \"dasync.so\", \"fips.so\", \"legacy.so\", \"libcrypto.so.3\", \"libssl.so.3\",\n",
        "     \"openssl\", \"ossltest.so\", \"padlock.so\"],\n",
        "     \"unrar\":[\"unrar\"],\n",
        "     \"zlib\":[\"libz.so.1.2.11\", \"minigzip\", \"minigzip64\", \"minigzipsh\"]\n",
        "}\n",
        "\n",
        "\n",
        "\n",
        "check_points = {}\n",
        "\n",
        "negative_pairs = []\n",
        "filterd_function_ids_np = np.array(filterd_function_ids)\n",
        "for _ in range(len(positive_pairs)):\n",
        "  list_id_function2 = []\n",
        "  id_function1 = random.choice(nmaps_ids)\n",
        "  function_name1 = get_function_name_by_id(id_function1)\n",
        "  #GET random binary not in nmap\n",
        "  random_bin  = random.choice(list_of_bin[random.choice(list(list_of_bin.keys()))])\n",
        "  functions_list = _get_common_functions_binary(random_bin)\n",
        "\n",
        "\n",
        "  check_item = list((random.choice(paramaters['optimizer']),random.choice(paramaters['compiler']) ,random.choice(paramaters[\"complier_version\"]) , random_bin , random.choice(paramaters['architetures'])))\n",
        "  if '_'.join(check_item) not in check_points.keys():\n",
        "\n",
        "    list_id_function2 = get_function_ids(check_item[0],check_item[1],check_item[2],check_item[3],check_item[4])\n",
        "    list_id_function2_np = np.array(list_id_function2)\n",
        "\n",
        "    # list_id_function2 = [ id for id in list_id_function2 if id in filterd_function_ids]\n",
        "    list_id_function2 = list_id_function2_np[np.in1d(list_id_function2_np, filterd_function_ids_np)]\n",
        "    list_id_function2 = list_id_function2.tolist()\n",
        "    check_points['_'.join(check_item)] = list_id_function2\n",
        "\n",
        "  list_id_function2 = check_points['_'.join(check_item)]\n",
        "\n",
        "  function_name2 = function_name1\n",
        "  id_function2 = None\n",
        "  while function_name1 == function_name2:\n",
        "      if not list_id_function2:\n",
        "        # Skip the loop if list_id_function2 is empty\n",
        "        break\n",
        "      id_function2 = random.choice(list_id_function2)\n",
        "      function_name2 = get_function_name_by_id(id_function2)\n",
        "\n",
        "\n",
        "  if id_function2 != None:\n",
        "    negative_pairs.append((id_function1, id_function2))\n",
        "\n",
        "\n",
        "\n",
        "\n",
        "\n",
        "\n",
        "\n"
      ]
    },
    {
      "cell_type": "code",
      "execution_count": null,
      "metadata": {
        "id": "ym8YEvMmTWrD"
      },
      "outputs": [],
      "source": [
        "negative_pairs = list(set(negative_pairs))"
      ]
    },
    {
      "cell_type": "code",
      "execution_count": null,
      "metadata": {
        "id": "VWdoXeBuyL37"
      },
      "outputs": [],
      "source": [
        "with open(\"/content/drive/MyDrive/HK2_2023-2024/NT522/ProcessData/pairs_function_id_nmap.csv\", \"w\", newline='') as file_rite:\n",
        "  writer = csv.writer(file_rite)\n",
        "  writer.writerow([\"id_function1\", \"id_function2\", \"label\"])\n",
        "  for pair in positive_pairs:\n",
        "    writer.writerow([pair[0],pair[1], 1])\n",
        "  for pair in negative_pairs:\n",
        "    writer.writerow([pair[0],pair[1], 0])"
      ]
    },
    {
      "cell_type": "markdown",
      "metadata": {
        "id": "Z8bpxZTG80jc"
      },
      "source": [
        "# normilized instruction for x86 and x64 dataset only"
      ]
    },
    {
      "cell_type": "code",
      "execution_count": null,
      "metadata": {
        "id": "d7YrgxCx1EBf"
      },
      "outputs": [],
      "source": [
        "df_data = pd.read_csv(\"/content/drive/MyDrive/HK2_2023-2024/NT522/ProcessData/cross_complier_ids_pairs.csv\")"
      ]
    },
    {
      "cell_type": "code",
      "execution_count": null,
      "metadata": {
        "colab": {
          "base_uri": "https://localhost:8080/",
          "height": 423
        },
        "id": "f7z6uG1S1Mqy",
        "outputId": "e6402793-ea85-407d-afb1-fa235d9aaaf2"
      },
      "outputs": [
        {
          "data": {
            "application/vnd.google.colaboratory.intrinsic+json": {
              "summary": "{\n  \"name\": \"df_data\",\n  \"rows\": 54046,\n  \"fields\": [\n    {\n      \"column\": \"function1\",\n      \"properties\": {\n        \"dtype\": \"number\",\n        \"std\": 889000,\n        \"min\": 4182,\n        \"max\": 2490011,\n        \"num_unique_values\": 45851,\n        \"samples\": [\n          146574,\n          263801,\n          2425480\n        ],\n        \"semantic_type\": \"\",\n        \"description\": \"\"\n      }\n    },\n    {\n      \"column\": \"function2\",\n      \"properties\": {\n        \"dtype\": \"number\",\n        \"std\": 878282,\n        \"min\": 4182,\n        \"max\": 2490011,\n        \"num_unique_values\": 45767,\n        \"samples\": [\n          978206,\n          2439107,\n          125504\n        ],\n        \"semantic_type\": \"\",\n        \"description\": \"\"\n      }\n    },\n    {\n      \"column\": \"Class\",\n      \"properties\": {\n        \"dtype\": \"number\",\n        \"std\": 0,\n        \"min\": 0,\n        \"max\": 1,\n        \"num_unique_values\": 2,\n        \"samples\": [\n          0,\n          1\n        ],\n        \"semantic_type\": \"\",\n        \"description\": \"\"\n      }\n    }\n  ]\n}",
              "type": "dataframe",
              "variable_name": "df_data"
            },
            "text/html": [
              "\n",
              "  <div id=\"df-51a4917e-5fa6-4a3a-adb4-952d340f11dc\" class=\"colab-df-container\">\n",
              "    <div>\n",
              "<style scoped>\n",
              "    .dataframe tbody tr th:only-of-type {\n",
              "        vertical-align: middle;\n",
              "    }\n",
              "\n",
              "    .dataframe tbody tr th {\n",
              "        vertical-align: top;\n",
              "    }\n",
              "\n",
              "    .dataframe thead th {\n",
              "        text-align: right;\n",
              "    }\n",
              "</style>\n",
              "<table border=\"1\" class=\"dataframe\">\n",
              "  <thead>\n",
              "    <tr style=\"text-align: right;\">\n",
              "      <th></th>\n",
              "      <th>function1</th>\n",
              "      <th>function2</th>\n",
              "      <th>Class</th>\n",
              "    </tr>\n",
              "  </thead>\n",
              "  <tbody>\n",
              "    <tr>\n",
              "      <th>0</th>\n",
              "      <td>10402</td>\n",
              "      <td>6242</td>\n",
              "      <td>1</td>\n",
              "    </tr>\n",
              "    <tr>\n",
              "      <th>1</th>\n",
              "      <td>22102</td>\n",
              "      <td>18982</td>\n",
              "      <td>1</td>\n",
              "    </tr>\n",
              "    <tr>\n",
              "      <th>2</th>\n",
              "      <td>21322</td>\n",
              "      <td>19242</td>\n",
              "      <td>1</td>\n",
              "    </tr>\n",
              "    <tr>\n",
              "      <th>3</th>\n",
              "      <td>24702</td>\n",
              "      <td>18462</td>\n",
              "      <td>1</td>\n",
              "    </tr>\n",
              "    <tr>\n",
              "      <th>4</th>\n",
              "      <td>21845</td>\n",
              "      <td>19765</td>\n",
              "      <td>1</td>\n",
              "    </tr>\n",
              "    <tr>\n",
              "      <th>...</th>\n",
              "      <td>...</td>\n",
              "      <td>...</td>\n",
              "      <td>...</td>\n",
              "    </tr>\n",
              "    <tr>\n",
              "      <th>54041</th>\n",
              "      <td>2376276</td>\n",
              "      <td>608370</td>\n",
              "      <td>0</td>\n",
              "    </tr>\n",
              "    <tr>\n",
              "      <th>54042</th>\n",
              "      <td>2394910</td>\n",
              "      <td>682791</td>\n",
              "      <td>0</td>\n",
              "    </tr>\n",
              "    <tr>\n",
              "      <th>54043</th>\n",
              "      <td>2455993</td>\n",
              "      <td>2137701</td>\n",
              "      <td>0</td>\n",
              "    </tr>\n",
              "    <tr>\n",
              "      <th>54044</th>\n",
              "      <td>2441102</td>\n",
              "      <td>505183</td>\n",
              "      <td>0</td>\n",
              "    </tr>\n",
              "    <tr>\n",
              "      <th>54045</th>\n",
              "      <td>2465917</td>\n",
              "      <td>353171</td>\n",
              "      <td>0</td>\n",
              "    </tr>\n",
              "  </tbody>\n",
              "</table>\n",
              "<p>54046 rows × 3 columns</p>\n",
              "</div>\n",
              "    <div class=\"colab-df-buttons\">\n",
              "\n",
              "  <div class=\"colab-df-container\">\n",
              "    <button class=\"colab-df-convert\" onclick=\"convertToInteractive('df-51a4917e-5fa6-4a3a-adb4-952d340f11dc')\"\n",
              "            title=\"Convert this dataframe to an interactive table.\"\n",
              "            style=\"display:none;\">\n",
              "\n",
              "  <svg xmlns=\"http://www.w3.org/2000/svg\" height=\"24px\" viewBox=\"0 -960 960 960\">\n",
              "    <path d=\"M120-120v-720h720v720H120Zm60-500h600v-160H180v160Zm220 220h160v-160H400v160Zm0 220h160v-160H400v160ZM180-400h160v-160H180v160Zm440 0h160v-160H620v160ZM180-180h160v-160H180v160Zm440 0h160v-160H620v160Z\"/>\n",
              "  </svg>\n",
              "    </button>\n",
              "\n",
              "  <style>\n",
              "    .colab-df-container {\n",
              "      display:flex;\n",
              "      gap: 12px;\n",
              "    }\n",
              "\n",
              "    .colab-df-convert {\n",
              "      background-color: #E8F0FE;\n",
              "      border: none;\n",
              "      border-radius: 50%;\n",
              "      cursor: pointer;\n",
              "      display: none;\n",
              "      fill: #1967D2;\n",
              "      height: 32px;\n",
              "      padding: 0 0 0 0;\n",
              "      width: 32px;\n",
              "    }\n",
              "\n",
              "    .colab-df-convert:hover {\n",
              "      background-color: #E2EBFA;\n",
              "      box-shadow: 0px 1px 2px rgba(60, 64, 67, 0.3), 0px 1px 3px 1px rgba(60, 64, 67, 0.15);\n",
              "      fill: #174EA6;\n",
              "    }\n",
              "\n",
              "    .colab-df-buttons div {\n",
              "      margin-bottom: 4px;\n",
              "    }\n",
              "\n",
              "    [theme=dark] .colab-df-convert {\n",
              "      background-color: #3B4455;\n",
              "      fill: #D2E3FC;\n",
              "    }\n",
              "\n",
              "    [theme=dark] .colab-df-convert:hover {\n",
              "      background-color: #434B5C;\n",
              "      box-shadow: 0px 1px 3px 1px rgba(0, 0, 0, 0.15);\n",
              "      filter: drop-shadow(0px 1px 2px rgba(0, 0, 0, 0.3));\n",
              "      fill: #FFFFFF;\n",
              "    }\n",
              "  </style>\n",
              "\n",
              "    <script>\n",
              "      const buttonEl =\n",
              "        document.querySelector('#df-51a4917e-5fa6-4a3a-adb4-952d340f11dc button.colab-df-convert');\n",
              "      buttonEl.style.display =\n",
              "        google.colab.kernel.accessAllowed ? 'block' : 'none';\n",
              "\n",
              "      async function convertToInteractive(key) {\n",
              "        const element = document.querySelector('#df-51a4917e-5fa6-4a3a-adb4-952d340f11dc');\n",
              "        const dataTable =\n",
              "          await google.colab.kernel.invokeFunction('convertToInteractive',\n",
              "                                                    [key], {});\n",
              "        if (!dataTable) return;\n",
              "\n",
              "        const docLinkHtml = 'Like what you see? Visit the ' +\n",
              "          '<a target=\"_blank\" href=https://colab.research.google.com/notebooks/data_table.ipynb>data table notebook</a>'\n",
              "          + ' to learn more about interactive tables.';\n",
              "        element.innerHTML = '';\n",
              "        dataTable['output_type'] = 'display_data';\n",
              "        await google.colab.output.renderOutput(dataTable, element);\n",
              "        const docLink = document.createElement('div');\n",
              "        docLink.innerHTML = docLinkHtml;\n",
              "        element.appendChild(docLink);\n",
              "      }\n",
              "    </script>\n",
              "  </div>\n",
              "\n",
              "\n",
              "<div id=\"df-86b18c21-6587-4498-9e4f-6cd998cacfe5\">\n",
              "  <button class=\"colab-df-quickchart\" onclick=\"quickchart('df-86b18c21-6587-4498-9e4f-6cd998cacfe5')\"\n",
              "            title=\"Suggest charts\"\n",
              "            style=\"display:none;\">\n",
              "\n",
              "<svg xmlns=\"http://www.w3.org/2000/svg\" height=\"24px\"viewBox=\"0 0 24 24\"\n",
              "     width=\"24px\">\n",
              "    <g>\n",
              "        <path d=\"M19 3H5c-1.1 0-2 .9-2 2v14c0 1.1.9 2 2 2h14c1.1 0 2-.9 2-2V5c0-1.1-.9-2-2-2zM9 17H7v-7h2v7zm4 0h-2V7h2v10zm4 0h-2v-4h2v4z\"/>\n",
              "    </g>\n",
              "</svg>\n",
              "  </button>\n",
              "\n",
              "<style>\n",
              "  .colab-df-quickchart {\n",
              "      --bg-color: #E8F0FE;\n",
              "      --fill-color: #1967D2;\n",
              "      --hover-bg-color: #E2EBFA;\n",
              "      --hover-fill-color: #174EA6;\n",
              "      --disabled-fill-color: #AAA;\n",
              "      --disabled-bg-color: #DDD;\n",
              "  }\n",
              "\n",
              "  [theme=dark] .colab-df-quickchart {\n",
              "      --bg-color: #3B4455;\n",
              "      --fill-color: #D2E3FC;\n",
              "      --hover-bg-color: #434B5C;\n",
              "      --hover-fill-color: #FFFFFF;\n",
              "      --disabled-bg-color: #3B4455;\n",
              "      --disabled-fill-color: #666;\n",
              "  }\n",
              "\n",
              "  .colab-df-quickchart {\n",
              "    background-color: var(--bg-color);\n",
              "    border: none;\n",
              "    border-radius: 50%;\n",
              "    cursor: pointer;\n",
              "    display: none;\n",
              "    fill: var(--fill-color);\n",
              "    height: 32px;\n",
              "    padding: 0;\n",
              "    width: 32px;\n",
              "  }\n",
              "\n",
              "  .colab-df-quickchart:hover {\n",
              "    background-color: var(--hover-bg-color);\n",
              "    box-shadow: 0 1px 2px rgba(60, 64, 67, 0.3), 0 1px 3px 1px rgba(60, 64, 67, 0.15);\n",
              "    fill: var(--button-hover-fill-color);\n",
              "  }\n",
              "\n",
              "  .colab-df-quickchart-complete:disabled,\n",
              "  .colab-df-quickchart-complete:disabled:hover {\n",
              "    background-color: var(--disabled-bg-color);\n",
              "    fill: var(--disabled-fill-color);\n",
              "    box-shadow: none;\n",
              "  }\n",
              "\n",
              "  .colab-df-spinner {\n",
              "    border: 2px solid var(--fill-color);\n",
              "    border-color: transparent;\n",
              "    border-bottom-color: var(--fill-color);\n",
              "    animation:\n",
              "      spin 1s steps(1) infinite;\n",
              "  }\n",
              "\n",
              "  @keyframes spin {\n",
              "    0% {\n",
              "      border-color: transparent;\n",
              "      border-bottom-color: var(--fill-color);\n",
              "      border-left-color: var(--fill-color);\n",
              "    }\n",
              "    20% {\n",
              "      border-color: transparent;\n",
              "      border-left-color: var(--fill-color);\n",
              "      border-top-color: var(--fill-color);\n",
              "    }\n",
              "    30% {\n",
              "      border-color: transparent;\n",
              "      border-left-color: var(--fill-color);\n",
              "      border-top-color: var(--fill-color);\n",
              "      border-right-color: var(--fill-color);\n",
              "    }\n",
              "    40% {\n",
              "      border-color: transparent;\n",
              "      border-right-color: var(--fill-color);\n",
              "      border-top-color: var(--fill-color);\n",
              "    }\n",
              "    60% {\n",
              "      border-color: transparent;\n",
              "      border-right-color: var(--fill-color);\n",
              "    }\n",
              "    80% {\n",
              "      border-color: transparent;\n",
              "      border-right-color: var(--fill-color);\n",
              "      border-bottom-color: var(--fill-color);\n",
              "    }\n",
              "    90% {\n",
              "      border-color: transparent;\n",
              "      border-bottom-color: var(--fill-color);\n",
              "    }\n",
              "  }\n",
              "</style>\n",
              "\n",
              "  <script>\n",
              "    async function quickchart(key) {\n",
              "      const quickchartButtonEl =\n",
              "        document.querySelector('#' + key + ' button');\n",
              "      quickchartButtonEl.disabled = true;  // To prevent multiple clicks.\n",
              "      quickchartButtonEl.classList.add('colab-df-spinner');\n",
              "      try {\n",
              "        const charts = await google.colab.kernel.invokeFunction(\n",
              "            'suggestCharts', [key], {});\n",
              "      } catch (error) {\n",
              "        console.error('Error during call to suggestCharts:', error);\n",
              "      }\n",
              "      quickchartButtonEl.classList.remove('colab-df-spinner');\n",
              "      quickchartButtonEl.classList.add('colab-df-quickchart-complete');\n",
              "    }\n",
              "    (() => {\n",
              "      let quickchartButtonEl =\n",
              "        document.querySelector('#df-86b18c21-6587-4498-9e4f-6cd998cacfe5 button');\n",
              "      quickchartButtonEl.style.display =\n",
              "        google.colab.kernel.accessAllowed ? 'block' : 'none';\n",
              "    })();\n",
              "  </script>\n",
              "</div>\n",
              "\n",
              "  <div id=\"id_272df0e1-6f9c-4116-9809-5ebe7a322759\">\n",
              "    <style>\n",
              "      .colab-df-generate {\n",
              "        background-color: #E8F0FE;\n",
              "        border: none;\n",
              "        border-radius: 50%;\n",
              "        cursor: pointer;\n",
              "        display: none;\n",
              "        fill: #1967D2;\n",
              "        height: 32px;\n",
              "        padding: 0 0 0 0;\n",
              "        width: 32px;\n",
              "      }\n",
              "\n",
              "      .colab-df-generate:hover {\n",
              "        background-color: #E2EBFA;\n",
              "        box-shadow: 0px 1px 2px rgba(60, 64, 67, 0.3), 0px 1px 3px 1px rgba(60, 64, 67, 0.15);\n",
              "        fill: #174EA6;\n",
              "      }\n",
              "\n",
              "      [theme=dark] .colab-df-generate {\n",
              "        background-color: #3B4455;\n",
              "        fill: #D2E3FC;\n",
              "      }\n",
              "\n",
              "      [theme=dark] .colab-df-generate:hover {\n",
              "        background-color: #434B5C;\n",
              "        box-shadow: 0px 1px 3px 1px rgba(0, 0, 0, 0.15);\n",
              "        filter: drop-shadow(0px 1px 2px rgba(0, 0, 0, 0.3));\n",
              "        fill: #FFFFFF;\n",
              "      }\n",
              "    </style>\n",
              "    <button class=\"colab-df-generate\" onclick=\"generateWithVariable('df_data')\"\n",
              "            title=\"Generate code using this dataframe.\"\n",
              "            style=\"display:none;\">\n",
              "\n",
              "  <svg xmlns=\"http://www.w3.org/2000/svg\" height=\"24px\"viewBox=\"0 0 24 24\"\n",
              "       width=\"24px\">\n",
              "    <path d=\"M7,19H8.4L18.45,9,17,7.55,7,17.6ZM5,21V16.75L18.45,3.32a2,2,0,0,1,2.83,0l1.4,1.43a1.91,1.91,0,0,1,.58,1.4,1.91,1.91,0,0,1-.58,1.4L9.25,21ZM18.45,9,17,7.55Zm-12,3A5.31,5.31,0,0,0,4.9,8.1,5.31,5.31,0,0,0,1,6.5,5.31,5.31,0,0,0,4.9,4.9,5.31,5.31,0,0,0,6.5,1,5.31,5.31,0,0,0,8.1,4.9,5.31,5.31,0,0,0,12,6.5,5.46,5.46,0,0,0,6.5,12Z\"/>\n",
              "  </svg>\n",
              "    </button>\n",
              "    <script>\n",
              "      (() => {\n",
              "      const buttonEl =\n",
              "        document.querySelector('#id_272df0e1-6f9c-4116-9809-5ebe7a322759 button.colab-df-generate');\n",
              "      buttonEl.style.display =\n",
              "        google.colab.kernel.accessAllowed ? 'block' : 'none';\n",
              "\n",
              "      buttonEl.onclick = () => {\n",
              "        google.colab.notebook.generateWithVariable('df_data');\n",
              "      }\n",
              "      })();\n",
              "    </script>\n",
              "  </div>\n",
              "\n",
              "    </div>\n",
              "  </div>\n"
            ],
            "text/plain": [
              "       function1  function2  Class\n",
              "0          10402       6242      1\n",
              "1          22102      18982      1\n",
              "2          21322      19242      1\n",
              "3          24702      18462      1\n",
              "4          21845      19765      1\n",
              "...          ...        ...    ...\n",
              "54041    2376276     608370      0\n",
              "54042    2394910     682791      0\n",
              "54043    2455993    2137701      0\n",
              "54044    2441102     505183      0\n",
              "54045    2465917     353171      0\n",
              "\n",
              "[54046 rows x 3 columns]"
            ]
          },
          "execution_count": 11,
          "metadata": {},
          "output_type": "execute_result"
        }
      ],
      "source": [
        "df_data"
      ]
    },
    {
      "cell_type": "code",
      "execution_count": null,
      "metadata": {
        "id": "2n8wIlCB2mp-"
      },
      "outputs": [],
      "source": [
        "import re\n",
        "import json\n",
        "import csv\n",
        "\n",
        "TYPE_ONE = 1\n",
        "TYPE_TWO = 2\n",
        "TYPE_THREE = 3\n",
        "TYPE_FOUR = 4\n",
        "TYPE_FIVE = 5\n",
        "TYPE_SIX = 6\n",
        "TYPE_SEVEN = 7\n",
        "TYPE_EIGHT = 8\n",
        "\n",
        "register = [\n",
        "    'rax', 'rbx', 'rcx', 'rdx', 'rsi', 'rdi', 'rbp', 'rsp', #64 bits\n",
        "    'eax', 'ebx', 'ecx', 'edx', 'esi', 'edi', 'ebp', 'esp', # 32 bits\n",
        "    'r8', 'r9', 'r10', 'r11', 'r12', 'r13', 'r14', 'r15',\n",
        "    'ah', 'al', 'ax', 'bh', 'bl', 'bx', 'ch', 'cl', 'cx',\n",
        "    'dh', 'dl', 'dx', 'sp', 'bp', 'si', 'di'\n",
        "]\n",
        "jmp_call = [\n",
        "    'jnc', 'jl', 'jmp', 'jb', 'je', 'jns', 'jnle', 'jno', 'jpo', 'jp',\n",
        "    'jpe', 'js', 'jne', 'jz', 'jo', 'jnl', 'jg', 'jrcxz', 'jc', 'jge',\n",
        "    'jnz', 'jae', 'jng', 'jnp', 'jcxz', 'jnae', 'jnge', 'jbe', 'jna',\n",
        "    'jle', 'ja', 'jecxz', 'jnb', 'jnbe'\n",
        "]\n",
        "\n",
        "type_mapping = {\n",
        "    1: \"TypeOne\",\n",
        "    2: \"TypeTwo\",\n",
        "    3: \"TypeThree\",\n",
        "    4: \"TypeFour\",\n",
        "    5: \"TypeFive\",\n",
        "    6: \"TypeSix\",\n",
        "    7: \"TypeSeven\",\n",
        "    8: \"TypeEight\" #other\n",
        "}\n",
        "\n",
        "def remove_noise(instruction):\n",
        "    '''\n",
        "        remove keyword qword, shor, sword v.v and ,\n",
        "\n",
        "    instruction: instruction line\n",
        "    ret: return normilized instruction\n",
        "    '''\n",
        "    new_instruction = re.sub(r'((qword|short|dword|byte)(\\sptr)?)|,', '', instruction)\n",
        "    #remove comment\n",
        "    new_instruction = re.sub(r'\\s*;.*$', '', new_instruction)\n",
        "    return new_instruction\n",
        "\n",
        "\n",
        "def check_operand_type(operand, opcode):\n",
        "  '''\n",
        "  Convert each operand in to 8 type\n",
        "  operand: operand for each instruction\n",
        "  opcode: mnemonic of instruction\n",
        "  ret: the type of operand after convert\n",
        "  '''\n",
        "  #check memory references\n",
        "  if matches := re.search(r'\\[(.*)\\]', operand):\n",
        "      #check  Memory Reg [Base Reg + Index Reg + Displacement]\n",
        "      if matches.group(1).count('+') == 2:\n",
        "          return TYPE_FOUR\n",
        "      elif matches.group(1).count('+') == 1:\n",
        "          return TYPE_THREE\n",
        "      else:\n",
        "          return TYPE_TWO\n",
        "  #check is register\n",
        "  elif operand in register:\n",
        "      return TYPE_ONE\n",
        "  #check Immediate Far Address\n",
        "  elif opcode == \"call\":\n",
        "      return TYPE_SIX\n",
        "  #check jmp instruction\n",
        "  elif opcode in jmp_call:\n",
        "      return TYPE_SEVEN\n",
        "\n",
        "  elif (matches := re.search(r'\\d+h?', operand )):\n",
        "      return TYPE_FIVE\n",
        "\n",
        "\n",
        "  return TYPE_EIGHT\n",
        "\n",
        "def normalized_instruction(instruction):\n",
        "    '''\n",
        "        normalized instruction in assambly code fuction, and classify to 8 type\n",
        "\n",
        "        expample:\n",
        "        Original instruction     | Normalized instruction\n",
        "        -----------------------------------------------------\n",
        "        push ebp                 | push TypeOne\n",
        "        mov ebp, esp             | mov TypeOne, TypeOne\n",
        "        sub esp, 18h             | sub TypeOne, TypeFive\n",
        "      mov dword ptr [esp+74h], 0 | mov TypeThree, TypeFive\n",
        "        lea eax, [ebp+esi*2+0]   | lea TypeOne, TypeFour\n",
        "        cmp eax, 210h            | cmp TypeOne, TypeFive\n",
        "        jl loc 804B271           | jl TypeSeven\n",
        "        mov eax, 1               | mov TypeOne, TypeFive\n",
        "        call exit                | call TypeSix\n",
        "\n",
        "    '''\n",
        "    instruction = remove_noise(instruction)\n",
        "    new_instruction = []\n",
        "    list_openrands = instruction.split()\n",
        "    opcode = list_openrands[0]\n",
        "    new_instruction.append(opcode)\n",
        "    if len(list_openrands) == 3:\n",
        "        new_instruction.append(type_mapping[check_operand_type(list_openrands[1], opcode)])\n",
        "        new_instruction.append(type_mapping[check_operand_type(list_openrands[2], opcode)])\n",
        "\n",
        "    elif len(list_openrands) == 2:\n",
        "        new_instruction.append(type_mapping[check_operand_type(list_openrands[1], opcode)])\n",
        "    else:\n",
        "        #other type\n",
        "        new_instruction.append(type_mapping[TYPE_EIGHT])\n",
        "\n",
        "\n",
        "    return \" \".join(new_instruction)"
      ]
    },
    {
      "cell_type": "code",
      "execution_count": null,
      "metadata": {
        "id": "FKHn4dIT3I8o"
      },
      "outputs": [],
      "source": [
        "# def normalize_function(function):\n",
        "#   for instruction in function:\n",
        "#     yield normalized_instruction(instruction)\n",
        "\n",
        "# def optimized_generator(id_function):\n",
        "#   for instruction_line in normalize_function(get_disassambly(id_function)):\n",
        "#       yield instruction_line\n",
        "\n",
        "def normalize_function(function):\n",
        "    # Inlining normalized_instruction processing directly\n",
        "    return (normalized_instruction(instruction) for instruction in function)\n",
        "\n",
        "def optimized_generator(id_function):\n",
        "    # Directly yielding from the normalized instructions\n",
        "    disassembly = get_disassambly(id_function)\n",
        "    return (normalized_instruction(instruction) for instruction in disassembly)"
      ]
    },
    {
      "cell_type": "code",
      "execution_count": null,
      "metadata": {
        "colab": {
          "base_uri": "https://localhost:8080/",
          "height": 219
        },
        "id": "9Tpg2RFLC3oK",
        "outputId": "092fd029-0268-40c1-9bcd-53378873ce40"
      },
      "outputs": [
        {
          "ename": "NameError",
          "evalue": "name 'df_data' is not defined",
          "output_type": "error",
          "traceback": [
            "\u001b[0;31m---------------------------------------------------------------------------\u001b[0m",
            "\u001b[0;31mNameError\u001b[0m                                 Traceback (most recent call last)",
            "\u001b[0;32m<ipython-input-12-e608731e78f4>\u001b[0m in \u001b[0;36m<cell line: 2>\u001b[0;34m()\u001b[0m\n\u001b[1;32m      1\u001b[0m \u001b[0;31m# Calculate the number of rows in each chunk\u001b[0m\u001b[0;34m\u001b[0m\u001b[0;34m\u001b[0m\u001b[0m\n\u001b[0;32m----> 2\u001b[0;31m \u001b[0mchunk_size\u001b[0m \u001b[0;34m=\u001b[0m \u001b[0mlen\u001b[0m\u001b[0;34m(\u001b[0m\u001b[0mdf_data\u001b[0m\u001b[0;34m)\u001b[0m \u001b[0;34m//\u001b[0m \u001b[0;36m10\u001b[0m\u001b[0;34m\u001b[0m\u001b[0;34m\u001b[0m\u001b[0m\n\u001b[0m\u001b[1;32m      3\u001b[0m \u001b[0;34m\u001b[0m\u001b[0m\n\u001b[1;32m      4\u001b[0m \u001b[0mdf_list\u001b[0m \u001b[0;34m=\u001b[0m \u001b[0;34m[\u001b[0m\u001b[0;34m]\u001b[0m\u001b[0;34m\u001b[0m\u001b[0;34m\u001b[0m\u001b[0m\n\u001b[1;32m      5\u001b[0m \u001b[0;32mfor\u001b[0m \u001b[0mi\u001b[0m \u001b[0;32min\u001b[0m \u001b[0mrange\u001b[0m\u001b[0;34m(\u001b[0m\u001b[0;36m10\u001b[0m\u001b[0;34m)\u001b[0m\u001b[0;34m:\u001b[0m\u001b[0;34m\u001b[0m\u001b[0;34m\u001b[0m\u001b[0m\n",
            "\u001b[0;31mNameError\u001b[0m: name 'df_data' is not defined"
          ]
        }
      ],
      "source": [
        "# Calculate the number of rows in each chunk\n",
        "chunk_size = len(df_data) // 10\n",
        "\n",
        "df_list = []\n",
        "for i in range(10):\n",
        "    # Calculate the start and end index for the current chunk\n",
        "    start_idx = i * chunk_size\n",
        "    end_idx = (i + 1) * chunk_size if i < 9 else len(df_data)\n",
        "\n",
        "    # Get the current chunk of data\n",
        "    chunk_data = df_data.iloc[start_idx:end_idx]\n",
        "\n",
        "    # Create a new DataFrame from the chunk data\n",
        "    chunk_df = pd.DataFrame(chunk_data)\n",
        "    df_list.append(chunk_df)"
      ]
    },
    {
      "cell_type": "code",
      "execution_count": null,
      "metadata": {
        "id": "PGYvn9P5DEjK"
      },
      "outputs": [],
      "source": [
        "i  = 0\n",
        "for item in df_list:\n",
        "  item.to_csv(f\"/content/drive/MyDrive/HK2_2023-2024/NT522/ProcessData/df_data/df_data_{i}-{i+len(item)}.csv\", index=False)\n",
        "  i += len(item)"
      ]
    },
    {
      "cell_type": "code",
      "execution_count": null,
      "metadata": {
        "colab": {
          "background_save": true
        },
        "id": "SDV8Wlk8Zetl"
      },
      "outputs": [],
      "source": [
        "db = SQL(\"sqlite:////content/drive/MyDrive/HK2_2023-2024/NT522/Dataset/bin_similar/bin_similar.db\")"
      ]
    },
    {
      "cell_type": "code",
      "execution_count": null,
      "metadata": {
        "colab": {
          "background_save": true
        },
        "id": "UOpxTwFQ1McZ"
      },
      "outputs": [],
      "source": [
        "df_data = pd.read_csv(\"/content/drive/MyDrive/HK2_2023-2024/NT522/ProcessData/df_data/df_data_0-5404.csv\")\n",
        "with open(\"/content/drive/MyDrive/HK2_2023-2024/NT522/ProcessData/extract_data/df_data_extract_0-5404.csv\", \"w\", newline='') as file_rite:\n",
        "  writer = csv.writer(file_rite)\n",
        "  writer.writerow([\"function1\", \"function2\", \"label\"])\n",
        "  for row in df_data.itertuples():\n",
        "    id_function1 = row.function1\n",
        "    id_function2 = row.function2\n",
        "    label = row.Class\n",
        "\n",
        "    function_disassembly1 =  list(optimized_generator(id_function1))\n",
        "    function_disassembly2 =  list(optimized_generator(id_function2))\n",
        "\n",
        "    writer.writerow([','.join(function_disassembly1), ','.join(function_disassembly2), label])\n",
        "\n",
        "\n"
      ]
    },
    {
      "cell_type": "code",
      "execution_count": null,
      "metadata": {
        "colab": {
          "base_uri": "https://localhost:8080/"
        },
        "id": "5EDbKcShZz6Z",
        "outputId": "a9e6887a-4041-4d06-815a-272dada02367"
      },
      "outputs": [
        {
          "name": "stdout",
          "output_type": "stream",
          "text": [
            "python3: can't open file '/content/drive/MyDrive/HK2_2023-2024/NT522/source/PreProcessData/normalized_data.py': [Errno 2] No such file or directory\n"
          ]
        }
      ],
      "source": [
        "!python /content/drive/MyDrive/HK2_2023-2024/NT522/source/PreProcessData/normalized_data.py"
      ]
    },
    {
      "cell_type": "markdown",
      "source": [
        "# LSTM models"
      ],
      "metadata": {
        "id": "2M57ToZB_X7N"
      }
    },
    {
      "cell_type": "code",
      "execution_count": null,
      "metadata": {
        "id": "HAlxPSkozOEG"
      },
      "outputs": [],
      "source": [
        "import numpy as np\n",
        "import tensorflow as tf\n",
        "from tensorflow.keras.models import Sequential\n",
        "from tensorflow.keras.layers import Embedding, LSTM, Dense, Dropout\n",
        "from tensorflow.keras.optimizers import Adam\n",
        "from tensorflow.keras.losses import CategoricalCrossentropy\n",
        "\n",
        "class LSTMClassifier:\n",
        "    def __init__(self, word2vec_model, max_sequence_length=1000, lstm_units=50, num_classes=2, dropout_rate=0.5):\n",
        "        self.word2vec_model = word2vec_model\n",
        "        self.vocab_size = len(word2vec_model.wv.vocab)\n",
        "        self.embedding_dim = 300\n",
        "        self.max_sequence_length = max_sequence_length\n",
        "        self.lstm_units = lstm_units\n",
        "        self.num_classes = num_classes\n",
        "        self.dropout_rate = dropout_rate\n",
        "        self.model = self.build_model()\n",
        "\n",
        "    def build_embedding_matrix(self):\n",
        "        embedding_matrix = np.zeros((self.vocab_size, self.embedding_dim))\n",
        "        for i, word in enumerate(self.word2vec_model.wv.index2word):\n",
        "            embedding_matrix[i] = self.word2vec_model.wv[word]\n",
        "        return embedding_matrix\n",
        "\n",
        "    def build_model(self):\n",
        "        model = Sequential()\n",
        "\n",
        "        # Embedding layer with pre-trained weights\n",
        "        embedding_matrix = self.build_embedding_matrix()\n",
        "        model.add(Embedding(input_dim=self.vocab_size,\n",
        "                            output_dim=self.embedding_dim,\n",
        "                            weights=[embedding_matrix],\n",
        "                            input_length=self.max_sequence_length,\n",
        "                            trainable=False))\n",
        "\n",
        "        # LSTM layer\n",
        "        model.add(LSTM(units=self.lstm_units, return_sequences=False))\n",
        "\n",
        "        # Dropout layer to prevent overfitting\n",
        "        model.add(Dropout(rate=self.dropout_rate))\n",
        "\n",
        "        # Dense output layer with softmax activation\n",
        "        model.add(Dense(units=self.num_classes, activation='softmax'))\n",
        "\n",
        "        # Compile the model\n",
        "        model.compile(optimizer=Adam(),\n",
        "                      loss=CategoricalCrossentropy(),\n",
        "                      metrics=['accuracy'])\n",
        "\n",
        "        return model\n",
        "\n",
        "    def summary(self):\n",
        "        return self.model.summary()\n",
        "\n",
        "    def train(self, X_train, y_train, epochs=10, batch_size=32, validation_split=0.2):\n",
        "        return self.model.fit(X_train, y_train, epochs=epochs, batch_size=batch_size, validation_split=validation_split)\n",
        "\n",
        "# Example usage:\n",
        "# Assuming word2vec_model is your pre-trained word2vec model\n",
        "# classifier = LSTMClassifier(word2vec_model)\n",
        "# classifier.summary()\n",
        "# classifier.train(X_train, y_train, epochs=10, batch_size=32, validation_split=0.2)\n"
      ]
    },
    {
      "cell_type": "markdown",
      "metadata": {
        "id": "17V5_vwWGtyl"
      },
      "source": [
        "# word2Vec Skip gram, word embbedding, deep learning CNN+LSTM đặc tính Opcode + mnemonic"
      ]
    },
    {
      "cell_type": "code",
      "execution_count": null,
      "metadata": {
        "colab": {
          "base_uri": "https://localhost:8080/"
        },
        "id": "2FgjIGx6-64v",
        "outputId": "cd39c6e6-bb7e-4906-a9cc-4b7d113e64c8"
      },
      "outputs": [
        {
          "output_type": "stream",
          "name": "stdout",
          "text": [
            "/content/drive/MyDrive/HK2_2023-2024/NT522/ProcessData/extract_data/data_37828-43232.csv\n",
            "/content/drive/MyDrive/HK2_2023-2024/NT522/ProcessData/extract_data/data_27020-32424.csv\n",
            "/content/drive/MyDrive/HK2_2023-2024/NT522/ProcessData/extract_data/data_21616-27020.csv\n",
            "/content/drive/MyDrive/HK2_2023-2024/NT522/ProcessData/extract_data/data_32424-37828.csv\n",
            "/content/drive/MyDrive/HK2_2023-2024/NT522/ProcessData/extract_data/data_16212-21616.csv\n",
            "/content/drive/MyDrive/HK2_2023-2024/NT522/ProcessData/extract_data/data_10808-16212.csv\n",
            "/content/drive/MyDrive/HK2_2023-2024/NT522/ProcessData/extract_data/data_43232-48636.csv\n",
            "/content/drive/MyDrive/HK2_2023-2024/NT522/ProcessData/extract_data/data_5404-10808.csv\n",
            "/content/drive/MyDrive/HK2_2023-2024/NT522/ProcessData/extract_data/data_0-5404.csv\n",
            "/content/drive/MyDrive/HK2_2023-2024/NT522/ProcessData/extract_data/data_48636-54046.csv\n",
            "                                               function1  \\\n",
            "0      push TypeOne,push TypeOne,push TypeOne,mov Typ...   \n",
            "1      push TypeOne,mov TypeOne TypeOne,push TypeOne,...   \n",
            "2      push TypeOne,mov TypeOne TypeOne,push TypeOne,...   \n",
            "3      push TypeOne,push TypeOne,sub TypeOne TypeFive...   \n",
            "4      push TypeOne,push TypeOne,push TypeOne,push Ty...   \n",
            "...                                                  ...   \n",
            "54041  push TypeOne,mov TypeOne TypeOne,sub TypeOne T...   \n",
            "54042  push TypeOne,push TypeOne,push TypeOne,push Ty...   \n",
            "54043  push TypeOne,mov TypeOne TypeOne,sub TypeOne T...   \n",
            "54044  push TypeOne,push TypeOne,call TypeSix,add Typ...   \n",
            "54045  push TypeOne,mov TypeOne TypeOne,sub TypeOne T...   \n",
            "\n",
            "                                               function2  label  \n",
            "0      sub TypeOne TypeFive,mov TypeOne TypeFour,mov ...      0  \n",
            "1      push TypeOne,mov TypeOne TypeOne,push TypeOne,...      0  \n",
            "2      push TypeOne,push TypeOne,push TypeOne,push Ty...      0  \n",
            "3      push TypeOne,push TypeOne,sub TypeOne TypeFive...      0  \n",
            "4      sub TypeOne TypeFive,push TypeFive,push TypeFi...      0  \n",
            "...                                                  ...    ...  \n",
            "54041  push TypeOne,mov TypeOne TypeOne,sub TypeOne T...      0  \n",
            "54042  push TypeOne,mov TypeOne TypeOne,sub TypeOne T...      0  \n",
            "54043  mov TypeOne TypeThree,call TypeSix,add TypeOne...      0  \n",
            "54044  push TypeOne,mov TypeOne TypeOne,sub TypeOne T...      0  \n",
            "54045  push TypeOne,push TypeOne,mov TypeOne TypeOne,...      0  \n",
            "\n",
            "[54046 rows x 3 columns]\n"
          ]
        }
      ],
      "source": [
        "\n",
        "directory = '/content/drive/MyDrive/HK2_2023-2024/NT522/ProcessData/extract_data'\n",
        "\n",
        "\n",
        "all_files = os.listdir(directory)\n",
        "\n",
        "\n",
        "csv_files = [file for file in all_files if file.endswith('.csv')]\n",
        "\n",
        "\n",
        "dfs = []\n",
        "\n",
        "# Loop through the CSV files and read them into DataFrames\n",
        "for file in csv_files:\n",
        "    file_path = os.path.join(directory, file)\n",
        "    print(file_path)\n",
        "    df = pd.read_csv(file_path)\n",
        "    dfs.append(df)\n",
        "\n",
        "# Concatenate all DataFrames into a single DataFrame\n",
        "combined_df = pd.concat(dfs, ignore_index=True)\n",
        "\n",
        "print(combined_df)"
      ]
    },
    {
      "cell_type": "code",
      "execution_count": null,
      "metadata": {
        "id": "ewcwEhrLH-4G"
      },
      "outputs": [],
      "source": [
        "df = combined_df.copy()"
      ]
    },
    {
      "cell_type": "code",
      "execution_count": null,
      "metadata": {
        "id": "IbU-zxTAke2k"
      },
      "outputs": [],
      "source": [
        "def pad_or_truncate_instructions(instruction_sequence, max_length=1000):\n",
        "    if len(instruction_sequence) < max_length:\n",
        "        # Pad with \"nop\" instructions\n",
        "        instruction_sequence += [\"nop\"] * (max_length - len(instruction_sequence))\n",
        "    elif len(instruction_sequence) > max_length:\n",
        "        # Truncate to keep only the first max_length instructions\n",
        "        instruction_sequence = instruction_sequence[:max_length]\n",
        "    return ' '.join(instruction_sequence)\n",
        "\n",
        "# Split each cell by commas and apply padding/truncating\n",
        "df['function1'] = df['function1'].apply(lambda x: pad_or_truncate_instructions(x.split(',')))\n",
        "df['function2'] = df['function2'].apply(lambda x: pad_or_truncate_instructions(x.split(',')))\n",
        "\n",
        "\n"
      ]
    },
    {
      "cell_type": "code",
      "execution_count": null,
      "metadata": {
        "id": "EZrDH_MdISXB",
        "colab": {
          "base_uri": "https://localhost:8080/",
          "height": 206
        },
        "outputId": "25344ce8-fd47-4188-bbe6-e14de18dccac"
      },
      "outputs": [
        {
          "output_type": "execute_result",
          "data": {
            "text/plain": [
              "                                           function1  \\\n",
              "0  push TypeOne push TypeOne push TypeOne mov Typ...   \n",
              "1  push TypeOne mov TypeOne TypeOne push TypeOne ...   \n",
              "2  push TypeOne mov TypeOne TypeOne push TypeOne ...   \n",
              "3  push TypeOne push TypeOne sub TypeOne TypeFive...   \n",
              "4  push TypeOne push TypeOne push TypeOne push Ty...   \n",
              "\n",
              "                                           function2  label  \n",
              "0  sub TypeOne TypeFive mov TypeOne TypeFour mov ...      0  \n",
              "1  push TypeOne mov TypeOne TypeOne push TypeOne ...      0  \n",
              "2  push TypeOne push TypeOne push TypeOne push Ty...      0  \n",
              "3  push TypeOne push TypeOne sub TypeOne TypeFive...      0  \n",
              "4  sub TypeOne TypeFive push TypeFive push TypeFi...      0  "
            ],
            "text/html": [
              "\n",
              "  <div id=\"df-b193876c-b904-4410-9a71-538d32891db0\" class=\"colab-df-container\">\n",
              "    <div>\n",
              "<style scoped>\n",
              "    .dataframe tbody tr th:only-of-type {\n",
              "        vertical-align: middle;\n",
              "    }\n",
              "\n",
              "    .dataframe tbody tr th {\n",
              "        vertical-align: top;\n",
              "    }\n",
              "\n",
              "    .dataframe thead th {\n",
              "        text-align: right;\n",
              "    }\n",
              "</style>\n",
              "<table border=\"1\" class=\"dataframe\">\n",
              "  <thead>\n",
              "    <tr style=\"text-align: right;\">\n",
              "      <th></th>\n",
              "      <th>function1</th>\n",
              "      <th>function2</th>\n",
              "      <th>label</th>\n",
              "    </tr>\n",
              "  </thead>\n",
              "  <tbody>\n",
              "    <tr>\n",
              "      <th>0</th>\n",
              "      <td>push TypeOne push TypeOne push TypeOne mov Typ...</td>\n",
              "      <td>sub TypeOne TypeFive mov TypeOne TypeFour mov ...</td>\n",
              "      <td>0</td>\n",
              "    </tr>\n",
              "    <tr>\n",
              "      <th>1</th>\n",
              "      <td>push TypeOne mov TypeOne TypeOne push TypeOne ...</td>\n",
              "      <td>push TypeOne mov TypeOne TypeOne push TypeOne ...</td>\n",
              "      <td>0</td>\n",
              "    </tr>\n",
              "    <tr>\n",
              "      <th>2</th>\n",
              "      <td>push TypeOne mov TypeOne TypeOne push TypeOne ...</td>\n",
              "      <td>push TypeOne push TypeOne push TypeOne push Ty...</td>\n",
              "      <td>0</td>\n",
              "    </tr>\n",
              "    <tr>\n",
              "      <th>3</th>\n",
              "      <td>push TypeOne push TypeOne sub TypeOne TypeFive...</td>\n",
              "      <td>push TypeOne push TypeOne sub TypeOne TypeFive...</td>\n",
              "      <td>0</td>\n",
              "    </tr>\n",
              "    <tr>\n",
              "      <th>4</th>\n",
              "      <td>push TypeOne push TypeOne push TypeOne push Ty...</td>\n",
              "      <td>sub TypeOne TypeFive push TypeFive push TypeFi...</td>\n",
              "      <td>0</td>\n",
              "    </tr>\n",
              "  </tbody>\n",
              "</table>\n",
              "</div>\n",
              "    <div class=\"colab-df-buttons\">\n",
              "\n",
              "  <div class=\"colab-df-container\">\n",
              "    <button class=\"colab-df-convert\" onclick=\"convertToInteractive('df-b193876c-b904-4410-9a71-538d32891db0')\"\n",
              "            title=\"Convert this dataframe to an interactive table.\"\n",
              "            style=\"display:none;\">\n",
              "\n",
              "  <svg xmlns=\"http://www.w3.org/2000/svg\" height=\"24px\" viewBox=\"0 -960 960 960\">\n",
              "    <path d=\"M120-120v-720h720v720H120Zm60-500h600v-160H180v160Zm220 220h160v-160H400v160Zm0 220h160v-160H400v160ZM180-400h160v-160H180v160Zm440 0h160v-160H620v160ZM180-180h160v-160H180v160Zm440 0h160v-160H620v160Z\"/>\n",
              "  </svg>\n",
              "    </button>\n",
              "\n",
              "  <style>\n",
              "    .colab-df-container {\n",
              "      display:flex;\n",
              "      gap: 12px;\n",
              "    }\n",
              "\n",
              "    .colab-df-convert {\n",
              "      background-color: #E8F0FE;\n",
              "      border: none;\n",
              "      border-radius: 50%;\n",
              "      cursor: pointer;\n",
              "      display: none;\n",
              "      fill: #1967D2;\n",
              "      height: 32px;\n",
              "      padding: 0 0 0 0;\n",
              "      width: 32px;\n",
              "    }\n",
              "\n",
              "    .colab-df-convert:hover {\n",
              "      background-color: #E2EBFA;\n",
              "      box-shadow: 0px 1px 2px rgba(60, 64, 67, 0.3), 0px 1px 3px 1px rgba(60, 64, 67, 0.15);\n",
              "      fill: #174EA6;\n",
              "    }\n",
              "\n",
              "    .colab-df-buttons div {\n",
              "      margin-bottom: 4px;\n",
              "    }\n",
              "\n",
              "    [theme=dark] .colab-df-convert {\n",
              "      background-color: #3B4455;\n",
              "      fill: #D2E3FC;\n",
              "    }\n",
              "\n",
              "    [theme=dark] .colab-df-convert:hover {\n",
              "      background-color: #434B5C;\n",
              "      box-shadow: 0px 1px 3px 1px rgba(0, 0, 0, 0.15);\n",
              "      filter: drop-shadow(0px 1px 2px rgba(0, 0, 0, 0.3));\n",
              "      fill: #FFFFFF;\n",
              "    }\n",
              "  </style>\n",
              "\n",
              "    <script>\n",
              "      const buttonEl =\n",
              "        document.querySelector('#df-b193876c-b904-4410-9a71-538d32891db0 button.colab-df-convert');\n",
              "      buttonEl.style.display =\n",
              "        google.colab.kernel.accessAllowed ? 'block' : 'none';\n",
              "\n",
              "      async function convertToInteractive(key) {\n",
              "        const element = document.querySelector('#df-b193876c-b904-4410-9a71-538d32891db0');\n",
              "        const dataTable =\n",
              "          await google.colab.kernel.invokeFunction('convertToInteractive',\n",
              "                                                    [key], {});\n",
              "        if (!dataTable) return;\n",
              "\n",
              "        const docLinkHtml = 'Like what you see? Visit the ' +\n",
              "          '<a target=\"_blank\" href=https://colab.research.google.com/notebooks/data_table.ipynb>data table notebook</a>'\n",
              "          + ' to learn more about interactive tables.';\n",
              "        element.innerHTML = '';\n",
              "        dataTable['output_type'] = 'display_data';\n",
              "        await google.colab.output.renderOutput(dataTable, element);\n",
              "        const docLink = document.createElement('div');\n",
              "        docLink.innerHTML = docLinkHtml;\n",
              "        element.appendChild(docLink);\n",
              "      }\n",
              "    </script>\n",
              "  </div>\n",
              "\n",
              "\n",
              "<div id=\"df-e06bec49-1187-4e37-8f21-cae3849929f6\">\n",
              "  <button class=\"colab-df-quickchart\" onclick=\"quickchart('df-e06bec49-1187-4e37-8f21-cae3849929f6')\"\n",
              "            title=\"Suggest charts\"\n",
              "            style=\"display:none;\">\n",
              "\n",
              "<svg xmlns=\"http://www.w3.org/2000/svg\" height=\"24px\"viewBox=\"0 0 24 24\"\n",
              "     width=\"24px\">\n",
              "    <g>\n",
              "        <path d=\"M19 3H5c-1.1 0-2 .9-2 2v14c0 1.1.9 2 2 2h14c1.1 0 2-.9 2-2V5c0-1.1-.9-2-2-2zM9 17H7v-7h2v7zm4 0h-2V7h2v10zm4 0h-2v-4h2v4z\"/>\n",
              "    </g>\n",
              "</svg>\n",
              "  </button>\n",
              "\n",
              "<style>\n",
              "  .colab-df-quickchart {\n",
              "      --bg-color: #E8F0FE;\n",
              "      --fill-color: #1967D2;\n",
              "      --hover-bg-color: #E2EBFA;\n",
              "      --hover-fill-color: #174EA6;\n",
              "      --disabled-fill-color: #AAA;\n",
              "      --disabled-bg-color: #DDD;\n",
              "  }\n",
              "\n",
              "  [theme=dark] .colab-df-quickchart {\n",
              "      --bg-color: #3B4455;\n",
              "      --fill-color: #D2E3FC;\n",
              "      --hover-bg-color: #434B5C;\n",
              "      --hover-fill-color: #FFFFFF;\n",
              "      --disabled-bg-color: #3B4455;\n",
              "      --disabled-fill-color: #666;\n",
              "  }\n",
              "\n",
              "  .colab-df-quickchart {\n",
              "    background-color: var(--bg-color);\n",
              "    border: none;\n",
              "    border-radius: 50%;\n",
              "    cursor: pointer;\n",
              "    display: none;\n",
              "    fill: var(--fill-color);\n",
              "    height: 32px;\n",
              "    padding: 0;\n",
              "    width: 32px;\n",
              "  }\n",
              "\n",
              "  .colab-df-quickchart:hover {\n",
              "    background-color: var(--hover-bg-color);\n",
              "    box-shadow: 0 1px 2px rgba(60, 64, 67, 0.3), 0 1px 3px 1px rgba(60, 64, 67, 0.15);\n",
              "    fill: var(--button-hover-fill-color);\n",
              "  }\n",
              "\n",
              "  .colab-df-quickchart-complete:disabled,\n",
              "  .colab-df-quickchart-complete:disabled:hover {\n",
              "    background-color: var(--disabled-bg-color);\n",
              "    fill: var(--disabled-fill-color);\n",
              "    box-shadow: none;\n",
              "  }\n",
              "\n",
              "  .colab-df-spinner {\n",
              "    border: 2px solid var(--fill-color);\n",
              "    border-color: transparent;\n",
              "    border-bottom-color: var(--fill-color);\n",
              "    animation:\n",
              "      spin 1s steps(1) infinite;\n",
              "  }\n",
              "\n",
              "  @keyframes spin {\n",
              "    0% {\n",
              "      border-color: transparent;\n",
              "      border-bottom-color: var(--fill-color);\n",
              "      border-left-color: var(--fill-color);\n",
              "    }\n",
              "    20% {\n",
              "      border-color: transparent;\n",
              "      border-left-color: var(--fill-color);\n",
              "      border-top-color: var(--fill-color);\n",
              "    }\n",
              "    30% {\n",
              "      border-color: transparent;\n",
              "      border-left-color: var(--fill-color);\n",
              "      border-top-color: var(--fill-color);\n",
              "      border-right-color: var(--fill-color);\n",
              "    }\n",
              "    40% {\n",
              "      border-color: transparent;\n",
              "      border-right-color: var(--fill-color);\n",
              "      border-top-color: var(--fill-color);\n",
              "    }\n",
              "    60% {\n",
              "      border-color: transparent;\n",
              "      border-right-color: var(--fill-color);\n",
              "    }\n",
              "    80% {\n",
              "      border-color: transparent;\n",
              "      border-right-color: var(--fill-color);\n",
              "      border-bottom-color: var(--fill-color);\n",
              "    }\n",
              "    90% {\n",
              "      border-color: transparent;\n",
              "      border-bottom-color: var(--fill-color);\n",
              "    }\n",
              "  }\n",
              "</style>\n",
              "\n",
              "  <script>\n",
              "    async function quickchart(key) {\n",
              "      const quickchartButtonEl =\n",
              "        document.querySelector('#' + key + ' button');\n",
              "      quickchartButtonEl.disabled = true;  // To prevent multiple clicks.\n",
              "      quickchartButtonEl.classList.add('colab-df-spinner');\n",
              "      try {\n",
              "        const charts = await google.colab.kernel.invokeFunction(\n",
              "            'suggestCharts', [key], {});\n",
              "      } catch (error) {\n",
              "        console.error('Error during call to suggestCharts:', error);\n",
              "      }\n",
              "      quickchartButtonEl.classList.remove('colab-df-spinner');\n",
              "      quickchartButtonEl.classList.add('colab-df-quickchart-complete');\n",
              "    }\n",
              "    (() => {\n",
              "      let quickchartButtonEl =\n",
              "        document.querySelector('#df-e06bec49-1187-4e37-8f21-cae3849929f6 button');\n",
              "      quickchartButtonEl.style.display =\n",
              "        google.colab.kernel.accessAllowed ? 'block' : 'none';\n",
              "    })();\n",
              "  </script>\n",
              "</div>\n",
              "\n",
              "    </div>\n",
              "  </div>\n"
            ],
            "application/vnd.google.colaboratory.intrinsic+json": {
              "type": "dataframe",
              "variable_name": "df",
              "summary": "{\n  \"name\": \"df\",\n  \"rows\": 54046,\n  \"fields\": [\n    {\n      \"column\": \"function1\",\n      \"properties\": {\n        \"dtype\": \"string\",\n        \"num_unique_values\": 38476,\n        \"samples\": [\n          \"push TypeOne sub TypeOne TypeFive mov TypeOne TypeFour call TypeSix add TypeOne TypeFive test TypeOne TypeOne jz TypeSeven mov TypeOne TypeThree mov TypeOne TypeTwo mov TypeOne TypeTwo test TypeOne TypeOne jz TypeSeven mov TypeOne TypeThree test TypeOne TypeOne jz TypeSeven mov TypeFour TypeOne mov TypeFour TypeOne call TypeSix add TypeOne TypeFive pop TypeOne retn TypeEight align TypeFive call TypeSix lea TypeEight mov TypeFour TypeOne lea TypeEight mov TypeFour TypeOne mov TypeFour TypeFive call TypeSix mov TypeFour TypeFive mov TypeFour TypeFive mov TypeFour TypeFive call TypeSix add TypeOne TypeFive xor TypeOne TypeOne pop TypeOne retn TypeEight call TypeSix lea TypeEight mov TypeFour TypeOne lea TypeEight mov TypeFour TypeOne mov TypeFour TypeFive call TypeSix mov TypeFour TypeFive mov TypeFour TypeFive mov TypeFour TypeFive call TypeSix xor TypeOne TypeOne jmp TypeSeven nop nop nop nop nop nop nop nop nop nop nop nop nop nop nop nop nop nop nop nop nop nop nop nop nop nop nop nop nop nop nop nop nop nop nop nop nop nop nop nop nop nop nop nop nop nop nop nop nop nop nop nop nop nop nop nop nop nop nop nop nop nop nop nop nop nop nop nop nop nop nop nop nop nop nop nop nop nop nop nop nop nop nop nop nop nop nop nop nop nop nop nop nop nop nop nop nop nop nop nop nop nop nop nop nop nop nop nop nop nop nop nop nop nop nop nop nop nop nop nop nop nop nop nop nop nop nop nop nop nop nop nop nop nop nop nop nop nop nop nop nop nop nop nop nop nop nop nop nop nop nop nop nop nop nop nop nop nop nop nop nop nop nop nop nop nop nop nop nop nop nop nop nop nop nop nop nop nop nop nop nop nop nop nop nop nop nop nop nop nop nop nop nop nop nop nop nop nop nop nop nop nop nop nop nop nop nop nop nop nop nop nop nop nop nop nop nop nop nop nop nop nop nop nop nop nop nop nop nop nop nop nop nop nop nop nop nop nop nop nop nop nop nop nop nop nop nop nop nop nop nop nop nop nop nop nop nop nop nop nop nop nop nop nop nop nop nop nop nop nop nop nop nop nop nop nop nop nop nop nop nop nop nop nop nop nop nop nop nop nop nop nop nop nop nop nop nop nop nop nop nop nop nop nop nop nop nop nop nop nop nop nop nop nop nop nop nop nop nop nop nop nop nop nop nop nop nop nop nop nop nop nop nop nop nop nop nop nop nop nop nop nop nop nop nop nop nop nop nop nop nop nop nop nop nop nop nop nop nop nop nop nop nop nop nop nop nop nop nop nop nop nop nop nop nop nop nop nop nop nop nop nop nop nop nop nop nop nop nop nop nop nop nop nop nop nop nop nop nop nop nop nop nop nop nop nop nop nop nop nop nop nop nop nop nop nop nop nop nop nop nop nop nop nop nop nop nop nop nop nop nop nop nop nop nop nop nop nop nop nop nop nop nop nop nop nop nop nop nop nop nop nop nop nop nop nop nop nop nop nop nop nop nop nop nop nop nop nop nop nop nop nop nop nop nop nop nop nop nop nop nop nop nop nop nop nop nop nop nop nop nop nop nop nop nop nop nop nop nop nop nop nop nop nop nop nop nop nop nop nop nop nop nop nop nop nop nop nop nop nop nop nop nop nop nop nop nop nop nop nop nop nop nop nop nop nop nop nop nop nop nop nop nop nop nop nop nop nop nop nop nop nop nop nop nop nop nop nop nop nop nop nop nop nop nop nop nop nop nop nop nop nop nop nop nop nop nop nop nop nop nop nop nop nop nop nop nop nop nop nop nop nop nop nop nop nop nop nop nop nop nop nop nop nop nop nop nop nop nop nop nop nop nop nop nop nop nop nop nop nop nop nop nop nop nop nop nop nop nop nop nop nop nop nop nop nop nop nop nop nop nop nop nop nop nop nop nop nop nop nop nop nop nop nop nop nop nop nop nop nop nop nop nop nop nop nop nop nop nop nop nop nop nop nop nop nop nop nop nop nop nop nop nop nop nop nop nop nop nop nop nop nop nop nop nop nop nop nop nop nop nop nop nop nop nop nop nop nop nop nop nop nop nop nop nop nop nop nop nop nop nop nop nop nop nop nop nop nop nop nop nop nop nop nop nop nop nop nop nop nop nop nop nop nop nop nop nop nop nop nop nop nop nop nop nop nop nop nop nop nop nop nop nop nop nop nop nop nop nop nop nop nop nop nop nop nop nop nop nop nop nop nop nop nop nop nop nop nop nop nop nop nop nop nop nop nop nop nop nop nop nop nop nop nop nop nop nop nop nop nop nop nop nop nop nop nop nop nop nop nop nop nop nop nop nop nop nop nop nop nop nop nop nop nop nop nop nop nop nop nop nop nop nop nop nop nop nop nop nop nop nop nop nop nop nop nop nop nop nop nop nop nop nop nop nop nop nop nop nop nop nop nop nop nop nop nop nop nop nop nop nop nop nop nop nop nop nop nop nop nop nop nop nop nop nop nop nop nop nop nop nop nop nop nop nop nop nop nop nop nop nop nop nop nop nop nop nop nop nop nop nop nop nop nop nop nop nop nop nop nop nop nop nop nop nop nop nop nop nop nop nop nop nop nop nop nop nop nop nop nop\",\n          \"push TypeOne push TypeOne push TypeOne push TypeOne call TypeSix add TypeOne TypeFive sub TypeOne TypeFive call TypeSix test TypeOne TypeOne mov TypeOne TypeOne jnz TypeSeven add TypeOne TypeFive mov TypeOne TypeOne pop TypeOne pop TypeOne pop TypeOne pop TypeOne retn TypeEight align TypeFive lea TypeEight sub TypeOne TypeFive xor TypeOne TypeOne push TypeFive push TypeOne push TypeFive call TypeSix add TypeOne TypeFive test TypeOne TypeOne mov TypeOne TypeOne jz TypeSeven mov TypeOne TypeFour sub TypeOne TypeFive mov TypeThree TypeOne mov TypeOne TypeFour and TypeOne TypeFive mov TypeThree TypeOne mov TypeOne TypeFour and TypeOne TypeFive mov TypeThree TypeOne mov TypeOne TypeFour mov TypeThree TypeOne push TypeEight call TypeSix pop TypeOne pop TypeOne push TypeOne push TypeEight call TypeSix add TypeOne TypeFive test TypeOne TypeOne mov TypeOne TypeOne jz TypeSeven mov TypeEight test TypeOne TypeOne jz TypeSeven sub TypeOne TypeFive push TypeOne call TypeSix mov TypeOne TypeTwo add TypeOne TypeFive cmp TypeOne TypeOne jl TypeSeven sub TypeOne TypeFive push TypeFive push TypeOne push TypeOne mov TypeOne TypeFive call TypeSix add TypeOne TypeFive sub TypeOne TypeFive push TypeEight call TypeSix add TypeOne TypeFive mov TypeOne TypeOne add TypeOne TypeFive pop TypeOne pop TypeOne pop TypeOne pop TypeOne retn TypeEight align TypeFive sub TypeOne TypeFive push TypeEight mov TypeOne TypeFive call TypeSix add TypeOne TypeFive test TypeOne TypeOne jz TypeSeven sub TypeOne TypeFive xor TypeOne TypeOne push TypeFive push TypeOne push TypeOne call TypeSix add TypeOne TypeFive jmp TypeSeven sub TypeOne TypeFive push TypeOne push TypeEight call TypeSix add TypeOne TypeFive push TypeThree push TypeTwo push TypeThree call TypeThree add TypeOne TypeFive jmp TypeSeven nop nop nop nop nop nop nop nop nop nop nop nop nop nop nop nop nop nop nop nop nop nop nop nop nop nop nop nop nop nop nop nop nop nop nop nop nop nop nop nop nop nop nop nop nop nop nop nop nop nop nop nop nop nop nop nop nop nop nop nop nop nop nop nop nop nop nop nop nop nop nop nop nop nop nop nop nop nop nop nop nop nop nop nop nop nop nop nop nop nop nop nop nop nop nop nop nop nop nop nop nop nop nop nop nop nop nop nop nop nop nop nop nop nop nop nop nop nop nop nop nop nop nop nop nop nop nop nop nop nop nop nop nop nop nop nop nop nop nop nop nop nop nop nop nop nop nop nop nop nop nop nop nop nop nop nop nop nop nop nop nop nop nop nop nop nop nop nop nop nop nop nop nop nop nop nop nop nop nop nop nop nop nop nop nop nop nop nop nop nop nop nop nop nop nop nop nop nop nop nop nop nop nop nop nop nop nop nop nop nop nop nop nop nop nop nop nop nop nop nop nop nop nop nop nop nop nop nop nop nop nop nop nop nop nop nop nop nop nop nop nop nop nop nop nop nop nop nop nop nop nop nop nop nop nop nop nop nop nop nop nop nop nop nop nop nop nop nop nop nop nop nop nop nop nop nop nop nop nop nop nop nop nop nop nop nop nop nop nop nop nop nop nop nop nop nop nop nop nop nop nop nop nop nop nop nop nop nop nop nop nop nop nop nop nop nop nop nop nop nop nop nop nop nop nop nop nop nop nop nop nop nop nop nop nop nop nop nop nop nop nop nop nop nop nop nop nop nop nop nop nop nop nop nop nop nop nop nop nop nop nop nop nop nop nop nop nop nop nop nop nop nop nop nop nop nop nop nop nop nop nop nop nop nop nop nop nop nop nop nop nop nop nop nop nop nop nop nop nop nop nop nop nop nop nop nop nop nop nop nop nop nop nop nop nop nop nop nop nop nop nop nop nop nop nop nop nop nop nop nop nop nop nop nop nop nop nop nop nop nop nop nop nop nop nop nop nop nop nop nop nop nop nop nop nop nop nop nop nop nop nop nop nop nop nop nop nop nop nop nop nop nop nop nop nop nop nop nop nop nop nop nop nop nop nop nop nop nop nop nop nop nop nop nop nop nop nop nop nop nop nop nop nop nop nop nop nop nop nop nop nop nop nop nop nop nop nop nop nop nop nop nop nop nop nop nop nop nop nop nop nop nop nop nop nop nop nop nop nop nop nop nop nop nop nop nop nop nop nop nop nop nop nop nop nop nop nop nop nop nop nop nop nop nop nop nop nop nop nop nop nop nop nop nop nop nop nop nop nop nop nop nop nop nop nop nop nop nop nop nop nop nop nop nop nop nop nop nop nop nop nop nop nop nop nop nop nop nop nop nop nop nop nop nop nop nop nop nop nop nop nop nop nop nop nop nop nop nop nop nop nop nop nop nop nop nop nop nop nop nop nop nop nop nop nop nop nop nop nop nop nop nop nop nop nop nop nop nop nop nop nop nop nop nop nop nop nop nop nop nop nop nop nop nop nop nop nop nop nop nop nop nop nop nop nop nop nop nop nop nop nop nop nop nop nop nop nop nop nop nop nop nop nop nop nop nop nop nop nop nop nop nop nop nop nop nop nop nop nop nop nop nop nop nop nop nop nop nop nop nop nop nop nop nop nop nop nop nop nop nop nop nop nop nop nop nop nop nop nop nop nop nop nop nop nop nop nop nop nop nop nop nop nop nop nop nop nop nop nop nop nop nop nop nop nop nop nop nop nop nop nop nop nop nop nop nop nop nop nop nop nop nop nop nop nop nop nop nop nop nop nop nop nop nop nop nop nop nop nop nop nop nop nop nop nop nop nop nop nop nop nop nop nop nop nop nop nop nop nop nop nop nop nop nop nop nop nop nop nop nop nop nop nop nop nop nop nop nop nop nop nop nop nop nop nop nop nop nop nop nop nop nop nop nop nop nop nop nop nop nop nop nop nop nop nop nop nop nop nop nop nop nop nop nop nop nop nop nop nop nop nop nop nop\",\n          \"push TypeOne push TypeOne sub TypeOne TypeFive cmp TypeOne TypeOne jb TypeSeven mov TypeOne TypeOne mov TypeOne TypeOne mov TypeOne TypeOne mov TypeOne TypeOne call TypeSix mov TypeOne TypeOne xor TypeOne TypeOne test TypeOne TypeOne jle TypeSeven mov TypeThree TypeOne mov TypeOne TypeFive add TypeOne TypeFive pop TypeOne pop TypeOne retn TypeEight align TypeFive call TypeSix lea TypeOne TypeFive lea TypeOne TypeEight mov TypeOne TypeFive call TypeSix xor TypeOne TypeOne xor TypeOne TypeOne mov TypeOne TypeFive mov TypeOne TypeFive call TypeSix add TypeOne TypeFive xor TypeOne TypeOne pop TypeOne pop TypeOne retn TypeEight nop nop nop nop nop nop nop nop nop nop nop nop nop nop nop nop nop nop nop nop nop nop nop nop nop nop nop nop nop nop nop nop nop nop nop nop nop nop nop nop nop nop nop nop nop nop nop nop nop nop nop nop nop nop nop nop nop nop nop nop nop nop nop nop nop nop nop nop nop nop nop nop nop nop nop nop nop nop nop nop nop nop nop nop nop nop nop nop nop nop nop nop nop nop nop nop nop nop nop nop nop nop nop nop nop nop nop nop nop nop nop nop nop nop nop nop nop nop nop nop nop nop nop nop nop nop nop nop nop nop nop nop nop nop nop nop nop nop nop nop nop nop nop nop nop nop nop nop nop nop nop nop nop nop nop nop nop nop nop nop nop nop nop nop nop nop nop nop nop nop nop nop nop nop nop nop nop nop nop nop nop nop nop nop nop nop nop nop nop nop nop nop nop nop nop nop nop nop nop nop nop nop nop nop nop nop nop nop nop nop nop nop nop nop nop nop nop nop nop nop nop nop nop nop nop nop nop nop nop nop nop nop nop nop nop nop nop nop nop nop nop nop nop nop nop nop nop nop nop nop nop nop nop nop nop nop nop nop nop nop nop nop nop nop nop nop nop nop nop nop nop nop nop nop nop nop nop nop nop nop nop nop nop nop nop nop nop nop nop nop nop nop nop nop nop nop nop nop nop nop nop nop nop nop nop nop nop nop nop nop nop nop nop nop nop nop nop nop nop nop nop nop nop nop nop nop nop nop nop nop nop nop nop nop nop nop nop nop nop nop nop nop nop nop nop nop nop nop nop nop nop nop nop nop nop nop nop nop nop nop nop nop nop nop nop nop nop nop nop nop nop nop nop nop nop nop nop nop nop nop nop nop nop nop nop nop nop nop nop nop nop nop nop nop nop nop nop nop nop nop nop nop nop nop nop nop nop nop nop nop nop nop nop nop nop nop nop nop nop nop nop nop nop nop nop nop nop nop nop nop nop nop nop nop nop nop nop nop nop nop nop nop nop nop nop nop nop nop nop nop nop nop nop nop nop nop nop nop nop nop nop nop nop nop nop nop nop nop nop nop nop nop nop nop nop nop nop nop nop nop nop nop nop nop nop nop nop nop nop nop nop nop nop nop nop nop nop nop nop nop nop nop nop nop nop nop nop nop nop nop nop nop nop nop nop nop nop nop nop nop nop nop nop nop nop nop nop nop nop nop nop nop nop nop nop nop nop nop nop nop nop nop nop nop nop nop nop nop nop nop nop nop nop nop nop nop nop nop nop nop nop nop nop nop nop nop nop nop nop nop nop nop nop nop nop nop nop nop nop nop nop nop nop nop nop nop nop nop nop nop nop nop nop nop nop nop nop nop nop nop nop nop nop nop nop nop nop nop nop nop nop nop nop nop nop nop nop nop nop nop nop nop nop nop nop nop nop nop nop nop nop nop nop nop nop nop nop nop nop nop nop nop nop nop nop nop nop nop nop nop nop nop nop nop nop nop nop nop nop nop nop nop nop nop nop nop nop nop nop nop nop nop nop nop nop nop nop nop nop nop nop nop nop nop nop nop nop nop nop nop nop nop nop nop nop nop nop nop nop nop nop nop nop nop nop nop nop nop nop nop nop nop nop nop nop nop nop nop nop nop nop nop nop nop nop nop nop nop nop nop nop nop nop nop nop nop nop nop nop nop nop nop nop nop nop nop nop nop nop nop nop nop nop nop nop nop nop nop nop nop nop nop nop nop nop nop nop nop nop nop nop nop nop nop nop nop nop nop nop nop nop nop nop nop nop nop nop nop nop nop nop nop nop nop nop nop nop nop nop nop nop nop nop nop nop nop nop nop nop nop nop nop nop nop nop nop nop nop nop nop nop nop nop nop nop nop nop nop nop nop nop nop nop nop nop nop nop nop nop nop nop nop nop nop nop nop nop nop nop nop nop nop nop nop nop nop nop nop nop nop nop nop nop nop nop nop nop nop nop nop nop nop nop nop nop nop nop nop nop nop nop nop nop nop nop nop nop nop nop nop nop nop nop nop nop nop nop nop nop nop nop nop nop nop nop nop nop nop nop nop nop nop nop nop nop nop nop nop nop nop nop nop nop nop nop nop nop nop nop nop nop nop nop nop nop nop nop nop nop nop nop nop nop nop nop nop nop nop nop nop nop nop nop nop nop nop nop nop nop nop nop nop nop nop\"\n        ],\n        \"semantic_type\": \"\",\n        \"description\": \"\"\n      }\n    },\n    {\n      \"column\": \"function2\",\n      \"properties\": {\n        \"dtype\": \"string\",\n        \"num_unique_values\": 36986,\n        \"samples\": [\n          \"push TypeOne push TypeOne push TypeOne push TypeOne sub TypeOne TypeFive mov TypeOne TypeFour mov TypeOne TypeFour mov TypeOne TypeFour call TypeSix pop TypeOne add TypeOne TypeFive mov TypeOne TypeTwo mov TypeFour TypeFive mov TypeTwo TypeFive cmp TypeFour TypeFive jz TypeSeven mov TypeTwo TypeFive xor TypeOne TypeOne mov TypeOne TypeOne add TypeOne TypeFive pop TypeOne pop TypeOne pop TypeOne pop TypeOne retn TypeEight sub TypeOne TypeFive lea TypeOne TypeFour push TypeOne call TypeSix add TypeOne TypeFive mov TypeOne TypeFour mov TypeOne TypeFour mov TypeFour TypeOne mov TypeFour TypeOne sub TypeOne TypeFive lea TypeOne TypeFour push TypeFive push TypeOne push TypeOne call TypeSix add TypeOne TypeFive test TypeOne TypeOne js TypeSeven mov TypeOne TypeOne mov TypeFour TypeOne mov TypeFour TypeOne shr TypeOne TypeFive mov TypeFour TypeFive mov TypeFour TypeOne shld TypeEight lea TypeOne TypeThree mov TypeFour TypeOne mov TypeFour TypeOne mov TypeOne TypeThree mov TypeFour TypeOne cmp TypeOne TypeFive jz TypeSeven push TypeFive push TypeOne push TypeFive push TypeFive call TypeSix add TypeOne TypeFive cmp TypeOne TypeFive jz TypeSeven test TypeOne TypeOne jnz TypeSeven mov TypeFour TypeFive push TypeThree push TypeThree push TypeFour push TypeFour call TypeSix add TypeOne TypeFive mov TypeOne TypeThree mov TypeOne TypeThree cmp TypeOne TypeOne sbb TypeOne TypeOne jl TypeSeven lea TypeEight push TypeOne push TypeOne push TypeOne push TypeFour call TypeSix add TypeOne TypeFive mov TypeFour TypeFive cmp TypeThree TypeFive jnz TypeSeven push TypeThree push TypeThree push TypeFour push TypeFour call TypeSix add TypeOne TypeFive mov TypeOne TypeFour mov TypeOne TypeThree mov TypeOne TypeOne sar TypeOne TypeFive cmp TypeOne TypeOne sbb TypeOne TypeOne jl TypeSeven sub TypeOne TypeFive mov TypeOne TypeFour mov TypeOne TypeOne push TypeFive call TypeSix add TypeOne TypeFive mov TypeOne TypeFour test TypeOne TypeOne jnz TypeSeven jmp TypeSeven sub TypeOne TypeFive lea TypeEight push TypeOne push TypeOne call TypeSix add TypeOne TypeFive mov TypeOne TypeFive jmp TypeSeven test TypeThree TypeFive jnz TypeSeven test TypeOne TypeFive jz TypeSeven mov TypeOne TypeFour mov TypeOne TypeOne mov TypeOne TypeTwo call TypeSix mov TypeOne TypeFour test TypeOne TypeOne jnz TypeSeven jmp TypeSeven mov TypeOne TypeFour mov TypeOne TypeOne mov TypeOne TypeTwo call TypeSix test TypeOne TypeOne jz TypeSeven mov TypeOne TypeFour xor TypeOne TypeOne mov TypeFour TypeFive jmp TypeSeven sub TypeOne TypeFive lea TypeEight push TypeOne push TypeOne call TypeSix add TypeOne TypeFive mov TypeOne TypeFour test TypeOne TypeOne jz TypeSeven mov TypeOne TypeFour mov TypeThree TypeOne call TypeSix mov TypeTwo TypeOne mov TypeOne TypeThree test TypeOne TypeOne jz TypeSeven sub TypeOne TypeFive lea TypeOne TypeFour push TypeFive push TypeOne push TypeOne call TypeSix add TypeOne TypeFive mov TypeOne TypeThree sub TypeOne TypeFive push TypeFive lea TypeOne TypeFour push TypeOne push TypeFour call TypeSix add TypeOne TypeFive lea TypeEight push TypeOne push TypeOne lea TypeOne TypeFour push TypeOne push TypeOne push TypeFour call TypeSix add TypeOne TypeFive mov TypeOne TypeThree mov TypeOne TypeFour cmp TypeThree TypeFive mov TypeOne TypeFour cmovz TypeOne TypeFour cmovz TypeOne TypeFour mov TypeThree TypeOne mov TypeThree TypeOne sub TypeOne TypeFive mov TypeOne TypeFour mov TypeOne TypeOne push TypeFive call TypeSix add TypeOne TypeFive cmp TypeOne TypeFive jnz TypeSeven cmp TypeThree TypeFive mov TypeFour TypeFive jnz TypeSeven mov TypeFour TypeOne mov TypeOne TypeThree cmp TypeOne TypeFive jz TypeSeven lea TypeOne TypeThree push TypeFive push TypeOne push TypeFive push TypeFive call TypeSix add TypeOne TypeFive cmp TypeOne TypeFive jz TypeSeven test TypeOne TypeOne jnz TypeSeven mov TypeFour TypeFive push TypeThree push TypeThree push TypeFour push TypeFour call TypeSix add TypeOne TypeFive mov TypeOne TypeThree mov TypeOne TypeThree cmp TypeOne TypeOne sbb TypeOne TypeOne jl TypeSeven lea TypeEight push TypeOne push TypeOne push TypeOne push TypeFour call TypeSix add TypeOne TypeFive mov TypeFour TypeFive mov TypeOne TypeFive jmp TypeSeven test TypeThree TypeFive jnz TypeSeven test TypeOne TypeFive jz TypeSeven mov TypeOne TypeThree mov TypeOne TypeOne call TypeSix mov TypeOne TypeFour test TypeOne TypeOne jnz TypeSeven jmp TypeSeven mov TypeOne TypeThree mov TypeOne TypeOne call TypeSix test TypeOne TypeOne jz TypeSeven mov TypeFour TypeFive mov TypeOne TypeFive mov TypeOne TypeThree mov TypeOne TypeFour mov TypeFour TypeOne mov TypeOne TypeFour xor TypeOne TypeOne mov TypeThree TypeOne mov TypeThree TypeFive mov TypeOne TypeFour cmp TypeThree TypeFive mov TypeOne TypeFive setz TypeOne and TypeOne TypeThree shl TypeOne TypeFive or TypeOne TypeOne mov TypeThree TypeOne mov TypeOne TypeFour cmp TypeOne TypeFive jz TypeSeven sub TypeOne TypeFive push TypeOne push TypeOne call TypeSix add TypeOne TypeFive mov TypeFour TypeFive mov TypeOne TypeFour mov TypeOne TypeOne mov TypeOne TypeOne call TypeSix mov TypeOne TypeOne test TypeOne TypeOne jnz TypeSeven mov TypeOne TypeFour test TypeOne TypeOne mov TypeFour TypeFive mov TypeTwo TypeFive jnz TypeSeven sub TypeOne TypeFive push TypeFive push TypeFour call TypeSix mov TypeOne TypeFour add TypeOne TypeFive sub TypeOne TypeFive push TypeFour push TypeOne call TypeSix add TypeOne TypeFive push TypeOne call TypeSix add TypeOne TypeFive jmp TypeSeven sub TypeOne TypeFive lea TypeEight push TypeOne push TypeFour call TypeSix add TypeOne TypeFive mov TypeOne TypeFour test TypeOne TypeOne jz TypeSeven mov TypeOne TypeFour mov TypeThree TypeOne call TypeSix mov TypeTwo TypeOne mov TypeOne TypeThree test TypeOne TypeOne jz TypeSeven sub TypeOne TypeFive lea TypeOne TypeFour push TypeFive push TypeOne push TypeOne call TypeSix add TypeOne TypeFive mov TypeOne TypeOne mov TypeOne TypeThree sub TypeOne TypeFive push TypeFive lea TypeOne TypeFour push TypeOne push TypeFour call TypeSix add TypeOne TypeFive lea TypeEight push TypeOne push TypeOne lea TypeOne TypeFour push TypeOne push TypeOne push TypeOne call TypeSix add TypeOne TypeFive mov TypeOne TypeThree mov TypeOne TypeFour cmp TypeThree TypeFive mov TypeOne TypeFour cmovz TypeOne TypeFour cmovz TypeOne TypeFour mov TypeThree TypeOne mov TypeThree TypeOne sub TypeOne TypeFive mov TypeOne TypeFour mov TypeOne TypeOne push TypeFive call TypeSix add TypeOne TypeFive cmp TypeOne TypeFive jnz TypeSeven mov TypeOne TypeFour cmp TypeTwo TypeFive jnz TypeSeven mov TypeFour TypeOne xor TypeOne TypeOne cmp TypeFour TypeFive jz TypeSeven cmp TypeThree TypeFive jnz TypeSeven sub TypeOne TypeFive mov TypeOne TypeFour mov TypeOne TypeOne push TypeFive call TypeSix add TypeOne TypeFive test TypeOne TypeOne mov TypeFour TypeOne jz TypeSeven mov TypeOne TypeThree test TypeOne TypeOne js TypeSeven test TypeOne TypeFive jnz TypeSeven mov TypeOne TypeFour test TypeOne TypeFive jnz TypeSeven lea TypeOne TypeThree jmp TypeSeven mov TypeOne TypeFour lea TypeOne TypeThree jmp TypeSeven mov TypeOne TypeFour lea TypeOne TypeThree jmp TypeSeven lea TypeOne TypeThree mov TypeOne TypeTwo mov TypeOne TypeThree sub TypeOne TypeFive push TypeFive lea TypeOne TypeFour push TypeOne push TypeFour call TypeSix add TypeOne TypeFive lea TypeEight push TypeOne push TypeOne push TypeOne push TypeOne push TypeOne call TypeSix add TypeOne TypeFive cmp TypeThree TypeFive mov TypeOne TypeFour mov TypeOne TypeFive cmovz TypeOne TypeOne jmp TypeSeven nop nop nop nop nop nop nop nop nop nop nop nop nop nop nop nop nop nop nop nop nop nop nop nop nop nop nop nop nop nop nop nop nop nop nop nop nop nop nop nop nop nop nop nop nop nop nop nop nop nop nop nop nop nop nop nop nop nop nop nop nop nop nop nop nop nop nop nop nop nop nop nop nop nop nop nop nop nop nop nop nop nop nop nop nop nop nop nop nop nop nop nop nop nop nop nop nop nop nop nop nop nop nop nop nop nop nop nop nop nop nop nop nop nop nop nop nop nop nop nop nop nop nop nop nop nop nop nop nop nop nop nop nop nop nop nop nop nop nop nop nop nop nop nop nop nop nop nop nop nop nop nop nop nop nop nop nop nop nop nop nop nop nop nop nop nop nop nop nop nop nop nop nop nop nop nop nop nop nop nop nop nop nop nop nop nop nop nop nop nop nop nop nop nop nop nop nop nop nop nop nop nop nop nop nop nop nop nop nop nop nop nop nop nop nop nop nop nop nop nop nop nop nop nop nop nop nop nop nop nop nop nop nop nop nop nop nop nop nop nop nop nop nop nop nop nop nop nop nop nop nop nop nop nop nop nop nop nop nop nop nop nop nop nop nop nop nop nop nop nop nop nop nop nop nop nop nop nop nop nop nop nop nop nop nop nop nop nop nop nop nop nop nop nop nop nop nop nop nop nop nop nop nop nop nop nop nop nop nop nop nop nop nop nop nop nop nop nop nop nop nop nop nop nop nop nop nop nop nop nop nop nop nop nop nop nop nop nop nop nop nop nop nop nop nop nop nop nop nop nop nop nop nop nop nop nop nop nop nop nop nop nop nop nop nop nop nop nop nop nop nop nop nop nop nop nop nop nop nop nop nop nop nop nop nop nop nop nop nop nop nop nop nop nop nop nop nop nop nop nop nop nop nop nop nop nop nop nop nop nop nop nop nop nop nop nop nop nop nop nop nop nop nop nop nop nop nop nop nop nop nop nop nop nop nop nop nop nop nop nop nop nop nop nop nop nop nop nop nop nop nop nop nop nop nop nop nop nop nop nop nop nop nop nop nop nop nop nop nop nop nop nop nop nop nop nop nop nop nop nop nop nop nop nop nop nop nop nop nop nop nop nop nop nop nop nop nop nop nop nop nop nop nop nop nop nop nop nop nop nop nop nop nop nop nop nop nop nop nop nop nop nop nop nop nop nop nop nop nop nop nop nop nop nop nop nop nop nop nop nop nop nop nop nop nop nop nop nop nop nop nop nop nop nop nop nop nop nop nop nop nop nop nop nop nop nop nop nop nop nop nop nop nop nop nop nop nop nop nop\",\n          \"push TypeOne push TypeOne push TypeOne cmp TypeOne TypeOne jnb TypeSeven call TypeSix lea TypeOne TypeFive lea TypeOne TypeFive mov TypeOne TypeFive call TypeSix xor TypeOne TypeOne mov TypeOne TypeFive mov TypeOne TypeFive jmp TypeSeven mov TypeOne TypeOne mov TypeOne TypeOne mov TypeOne TypeThree mov TypeOne TypeOne mov TypeOne TypeOne call TypeThree test TypeOne TypeOne jz TypeSeven mov TypeTwo TypeOne mov TypeOne TypeFive jmp TypeSeven call TypeSix lea TypeOne TypeFive lea TypeOne TypeFive mov TypeOne TypeFive call TypeSix xor TypeOne TypeOne mov TypeOne TypeFive mov TypeOne TypeFive xor TypeOne TypeOne xor TypeOne TypeOne call TypeSix mov TypeOne TypeOne add TypeOne TypeFive pop TypeOne pop TypeOne retn TypeEight nop nop nop nop nop nop nop nop nop nop nop nop nop nop nop nop nop nop nop nop nop nop nop nop nop nop nop nop nop nop nop nop nop nop nop nop nop nop nop nop nop nop nop nop nop nop nop nop nop nop nop nop nop nop nop nop nop nop nop nop nop nop nop nop nop nop nop nop nop nop nop nop nop nop nop nop nop nop nop nop nop nop nop nop nop nop nop nop nop nop nop nop nop nop nop nop nop nop nop nop nop nop nop nop nop nop nop nop nop nop nop nop nop nop nop nop nop nop nop nop nop nop nop nop nop nop nop nop nop nop nop nop nop nop nop nop nop nop nop nop nop nop nop nop nop nop nop nop nop nop nop nop nop nop nop nop nop nop nop nop nop nop nop nop nop nop nop nop nop nop nop nop nop nop nop nop nop nop nop nop nop nop nop nop nop nop nop nop nop nop nop nop nop nop nop nop nop nop nop nop nop nop nop nop nop nop nop nop nop nop nop nop nop nop nop nop nop nop nop nop nop nop nop nop nop nop nop nop nop nop nop nop nop nop nop nop nop nop nop nop nop nop nop nop nop nop nop nop nop nop nop nop nop nop nop nop nop nop nop nop nop nop nop nop nop nop nop nop nop nop nop nop nop nop nop nop nop nop nop nop nop nop nop nop nop nop nop nop nop nop nop nop nop nop nop nop nop nop nop nop nop nop nop nop nop nop nop nop nop nop nop nop nop nop nop nop nop nop nop nop nop nop nop nop nop nop nop nop nop nop nop nop nop nop nop nop nop nop nop nop nop nop nop nop nop nop nop nop nop nop nop nop nop nop nop nop nop nop nop nop nop nop nop nop nop nop nop nop nop nop nop nop nop nop nop nop nop nop nop nop nop nop nop nop nop nop nop nop nop nop nop nop nop nop nop nop nop nop nop nop nop nop nop nop nop nop nop nop nop nop nop nop nop nop nop nop nop nop nop nop nop nop nop nop nop nop nop nop nop nop nop nop nop nop nop nop nop nop nop nop nop nop nop nop nop nop nop nop nop nop nop nop nop nop nop nop nop nop nop nop nop nop nop nop nop nop nop nop nop nop nop nop nop nop nop nop nop nop nop nop nop nop nop nop nop nop nop nop nop nop nop nop nop nop nop nop nop nop nop nop nop nop nop nop nop nop nop nop nop nop nop nop nop nop nop nop nop nop nop nop nop nop nop nop nop nop nop nop nop nop nop nop nop nop nop nop nop nop nop nop nop nop nop nop nop nop nop nop nop nop nop nop nop nop nop nop nop nop nop nop nop nop nop nop nop nop nop nop nop nop nop nop nop nop nop nop nop nop nop nop nop nop nop nop nop nop nop nop nop nop nop nop nop nop nop nop nop nop nop nop nop nop nop nop nop nop nop nop nop nop nop nop nop nop nop nop nop nop nop nop nop nop nop nop nop nop nop nop nop nop nop nop nop nop nop nop nop nop nop nop nop nop nop nop nop nop nop nop nop nop nop nop nop nop nop nop nop nop nop nop nop nop nop nop nop nop nop nop nop nop nop nop nop nop nop nop nop nop nop nop nop nop nop nop nop nop nop nop nop nop nop nop nop nop nop nop nop nop nop nop nop nop nop nop nop nop nop nop nop nop nop nop nop nop nop nop nop nop nop nop nop nop nop nop nop nop nop nop nop nop nop nop nop nop nop nop nop nop nop nop nop nop nop nop nop nop nop nop nop nop nop nop nop nop nop nop nop nop nop nop nop nop nop nop nop nop nop nop nop nop nop nop nop nop nop nop nop nop nop nop nop nop nop nop nop nop nop nop nop nop nop nop nop nop nop nop nop nop nop nop nop nop nop nop nop nop nop nop nop nop nop nop nop nop nop nop nop nop nop nop nop nop nop nop nop nop nop nop nop nop nop nop nop nop nop nop nop nop nop nop nop nop nop nop nop nop nop nop nop nop nop nop nop nop nop nop nop nop nop nop nop nop nop nop nop nop nop nop nop nop nop nop nop nop nop nop nop nop nop nop nop nop nop nop nop nop nop nop nop nop nop nop nop nop nop nop nop nop nop nop nop nop nop nop nop nop nop nop nop nop nop nop nop nop nop nop nop nop nop nop nop nop nop nop nop nop nop nop nop nop nop nop nop nop nop nop nop nop nop nop nop nop nop nop nop nop nop nop nop nop nop nop nop nop nop nop nop nop nop\",\n          \"push TypeOne push TypeOne push TypeOne push TypeOne push TypeOne mov TypeOne TypeOne mov TypeOne TypeOne lea TypeOne TypeEight mov TypeOne TypeOne call TypeSix test TypeOne TypeOne jz TypeSeven mov TypeOne TypeThree mov TypeOne TypeOne call TypeSix test TypeOne TypeOne jz TypeSeven lea TypeOne TypeEight mov TypeOne TypeOne call TypeSix test TypeOne TypeOne jz TypeSeven movzx TypeOne TypeThree and TypeOne TypeFive mov TypeOne TypeOne call TypeSix test TypeOne TypeOne jz TypeSeven lea TypeOne TypeFive mov TypeOne TypeOne call TypeSix mov TypeOne TypeOne test TypeOne TypeOne jz TypeSeven lea TypeOne TypeThree mov TypeOne TypeThree mov TypeOne TypeOne mov TypeOne TypeOne call TypeSix test TypeOne TypeOne jnz TypeSeven mov TypeOne TypeThree mov TypeOne TypeOne mov TypeOne TypeOne call TypeSix test TypeOne TypeOne jz TypeSeven lea TypeOne TypeEight mov TypeOne TypeOne call TypeSix test TypeOne TypeOne jz TypeSeven mov TypeOne TypeThree mov TypeOne TypeOne call TypeSix test TypeOne TypeOne jz TypeSeven lea TypeOne TypeEight mov TypeOne TypeOne call TypeSix mov TypeOne TypeFive test TypeOne TypeOne jz TypeSeven mov TypeOne TypeThree mov TypeOne TypeOne call TypeSix test TypeOne TypeOne jnz TypeSeven call TypeSix lea TypeOne TypeFive lea TypeOne TypeFive mov TypeOne TypeFive jmp TypeSeven call TypeSix lea TypeOne TypeFive lea TypeOne TypeFive mov TypeOne TypeFive jmp TypeSeven call TypeSix lea TypeOne TypeFive lea TypeOne TypeFive mov TypeOne TypeFive jmp TypeSeven call TypeSix lea TypeOne TypeFive lea TypeOne TypeFive mov TypeOne TypeFive jmp TypeSeven call TypeSix lea TypeOne TypeFive lea TypeOne TypeFive mov TypeOne TypeFive call TypeSix xor TypeOne TypeOne mov TypeOne TypeFive mov TypeOne TypeFive xor TypeOne TypeOne xor TypeOne TypeOne call TypeSix mov TypeOne TypeOne add TypeOne TypeFive pop TypeOne pop TypeOne pop TypeOne pop TypeOne retn TypeEight nop nop nop nop nop nop nop nop nop nop nop nop nop nop nop nop nop nop nop nop nop nop nop nop nop nop nop nop nop nop nop nop nop nop nop nop nop nop nop nop nop nop nop nop nop nop nop nop nop nop nop nop nop nop nop nop nop nop nop nop nop nop nop nop nop nop nop nop nop nop nop nop nop nop nop nop nop nop nop nop nop nop nop nop nop nop nop nop nop nop nop nop nop nop nop nop nop nop nop nop nop nop nop nop nop nop nop nop nop nop nop nop nop nop nop nop nop nop nop nop nop nop nop nop nop nop nop nop nop nop nop nop nop nop nop nop nop nop nop nop nop nop nop nop nop nop nop nop nop nop nop nop nop nop nop nop nop nop nop nop nop nop nop nop nop nop nop nop nop nop nop nop nop nop nop nop nop nop nop nop nop nop nop nop nop nop nop nop nop nop nop nop nop nop nop nop nop nop nop nop nop nop nop nop nop nop nop nop nop nop nop nop nop nop nop nop nop nop nop nop nop nop nop nop nop nop nop nop nop nop nop nop nop nop nop nop nop nop nop nop nop nop nop nop nop nop nop nop nop nop nop nop nop nop nop nop nop nop nop nop nop nop nop nop nop nop nop nop nop nop nop nop nop nop nop nop nop nop nop nop nop nop nop nop nop nop nop nop nop nop nop nop nop nop nop nop nop nop nop nop nop nop nop nop nop nop nop nop nop nop nop nop nop nop nop nop nop nop nop nop nop nop nop nop nop nop nop nop nop nop nop nop nop nop nop nop nop nop nop nop nop nop nop nop nop nop nop nop nop nop nop nop nop nop nop nop nop nop nop nop nop nop nop nop nop nop nop nop nop nop nop nop nop nop nop nop nop nop nop nop nop nop nop nop nop nop nop nop nop nop nop nop nop nop nop nop nop nop nop nop nop nop nop nop nop nop nop nop nop nop nop nop nop nop nop nop nop nop nop nop nop nop nop nop nop nop nop nop nop nop nop nop nop nop nop nop nop nop nop nop nop nop nop nop nop nop nop nop nop nop nop nop nop nop nop nop nop nop nop nop nop nop nop nop nop nop nop nop nop nop nop nop nop nop nop nop nop nop nop nop nop nop nop nop nop nop nop nop nop nop nop nop nop nop nop nop nop nop nop nop nop nop nop nop nop nop nop nop nop nop nop nop nop nop nop nop nop nop nop nop nop nop nop nop nop nop nop nop nop nop nop nop nop nop nop nop nop nop nop nop nop nop nop nop nop nop nop nop nop nop nop nop nop nop nop nop nop nop nop nop nop nop nop nop nop nop nop nop nop nop nop nop nop nop nop nop nop nop nop nop nop nop nop nop nop nop nop nop nop nop nop nop nop nop nop nop nop nop nop nop nop nop nop nop nop nop nop nop nop nop nop nop nop nop nop nop nop nop nop nop nop nop nop nop nop nop nop nop nop nop nop nop nop nop nop nop nop nop nop nop nop nop nop nop nop nop nop nop nop nop nop nop nop nop nop nop nop nop nop nop nop nop nop nop nop nop nop nop nop nop nop nop nop nop nop nop nop nop nop nop nop nop nop nop nop nop nop nop nop nop nop nop nop nop nop nop nop nop nop nop nop nop nop nop nop nop nop nop nop nop nop nop nop nop nop nop nop nop nop nop nop nop nop nop nop nop nop nop nop nop nop nop nop nop nop nop nop nop nop nop nop nop nop nop nop nop nop nop nop nop nop nop nop nop nop nop nop nop nop nop nop nop nop nop nop nop nop nop nop nop nop nop nop nop nop nop nop nop nop nop nop nop nop nop nop nop nop nop nop nop nop nop nop nop nop nop nop nop nop nop nop nop nop nop nop nop nop nop nop nop nop nop nop nop nop nop nop nop nop nop nop nop nop nop nop nop nop nop nop nop nop nop nop nop nop nop nop nop nop nop nop nop nop nop nop nop nop nop nop nop nop nop nop nop nop nop nop nop nop nop nop nop nop nop nop nop nop nop nop nop nop nop nop nop nop nop nop nop nop nop nop nop nop nop nop nop nop nop nop nop nop nop nop nop\"\n        ],\n        \"semantic_type\": \"\",\n        \"description\": \"\"\n      }\n    },\n    {\n      \"column\": \"label\",\n      \"properties\": {\n        \"dtype\": \"number\",\n        \"std\": 0,\n        \"min\": 0,\n        \"max\": 1,\n        \"num_unique_values\": 2,\n        \"samples\": [\n          1,\n          0\n        ],\n        \"semantic_type\": \"\",\n        \"description\": \"\"\n      }\n    }\n  ]\n}"
            }
          },
          "metadata": {},
          "execution_count": 10
        }
      ],
      "source": [
        "df.head()"
      ]
    },
    {
      "cell_type": "code",
      "execution_count": null,
      "metadata": {
        "colab": {
          "base_uri": "https://localhost:8080/",
          "height": 436
        },
        "id": "Qys9zXdN32SP",
        "outputId": "b993c0f5-b74b-4677-a510-f7e05d5a2e76"
      },
      "outputs": [
        {
          "output_type": "stream",
          "name": "stderr",
          "text": [
            "Exception ignored in: <function _xla_gc_callback at 0x7a5bad1c77f0>\n",
            "Traceback (most recent call last):\n",
            "  File \"/usr/local/lib/python3.10/dist-packages/jax/_src/lib/__init__.py\", line 98, in _xla_gc_callback\n",
            "    def _xla_gc_callback(*args):\n",
            "KeyboardInterrupt: \n"
          ]
        },
        {
          "output_type": "error",
          "ename": "KeyboardInterrupt",
          "evalue": "",
          "traceback": [
            "\u001b[0;31m---------------------------------------------------------------------------\u001b[0m",
            "\u001b[0;31mKeyboardInterrupt\u001b[0m                         Traceback (most recent call last)",
            "\u001b[0;32m<ipython-input-22-5dfa30004464>\u001b[0m in \u001b[0;36m<cell line: 5>\u001b[0;34m()\u001b[0m\n\u001b[1;32m      3\u001b[0m \u001b[0;34m\u001b[0m\u001b[0m\n\u001b[1;32m      4\u001b[0m \u001b[0;31m# Tokenize instructions\u001b[0m\u001b[0;34m\u001b[0m\u001b[0;34m\u001b[0m\u001b[0m\n\u001b[0;32m----> 5\u001b[0;31m \u001b[0mtokenized_instructions\u001b[0m \u001b[0;34m=\u001b[0m \u001b[0;34m[\u001b[0m\u001b[0minstr\u001b[0m\u001b[0;34m.\u001b[0m\u001b[0msplit\u001b[0m\u001b[0;34m(\u001b[0m\u001b[0;34m)\u001b[0m \u001b[0;32mfor\u001b[0m \u001b[0minstr\u001b[0m \u001b[0;32min\u001b[0m \u001b[0minstructions\u001b[0m\u001b[0;34m]\u001b[0m\u001b[0;34m\u001b[0m\u001b[0;34m\u001b[0m\u001b[0m\n\u001b[0m\u001b[1;32m      6\u001b[0m \u001b[0;34m\u001b[0m\u001b[0m\n\u001b[1;32m      7\u001b[0m \u001b[0;31m# Train Word2Vec model\u001b[0m\u001b[0;34m\u001b[0m\u001b[0;34m\u001b[0m\u001b[0m\n",
            "\u001b[0;32m<ipython-input-22-5dfa30004464>\u001b[0m in \u001b[0;36m<listcomp>\u001b[0;34m(.0)\u001b[0m\n\u001b[1;32m      3\u001b[0m \u001b[0;34m\u001b[0m\u001b[0m\n\u001b[1;32m      4\u001b[0m \u001b[0;31m# Tokenize instructions\u001b[0m\u001b[0;34m\u001b[0m\u001b[0;34m\u001b[0m\u001b[0m\n\u001b[0;32m----> 5\u001b[0;31m \u001b[0mtokenized_instructions\u001b[0m \u001b[0;34m=\u001b[0m \u001b[0;34m[\u001b[0m\u001b[0minstr\u001b[0m\u001b[0;34m.\u001b[0m\u001b[0msplit\u001b[0m\u001b[0;34m(\u001b[0m\u001b[0;34m)\u001b[0m \u001b[0;32mfor\u001b[0m \u001b[0minstr\u001b[0m \u001b[0;32min\u001b[0m \u001b[0minstructions\u001b[0m\u001b[0;34m]\u001b[0m\u001b[0;34m\u001b[0m\u001b[0;34m\u001b[0m\u001b[0m\n\u001b[0m\u001b[1;32m      6\u001b[0m \u001b[0;34m\u001b[0m\u001b[0m\n\u001b[1;32m      7\u001b[0m \u001b[0;31m# Train Word2Vec model\u001b[0m\u001b[0;34m\u001b[0m\u001b[0;34m\u001b[0m\u001b[0m\n",
            "\u001b[0;31mKeyboardInterrupt\u001b[0m: "
          ]
        }
      ],
      "source": [
        "# Combine both function1 and function2 into a single list of instructions\n",
        "instructions = df['function1'].tolist() + df['function2'].tolist()\n",
        "\n",
        "# Tokenize instructions\n",
        "tokenized_instructions = [instr.split() for instr in instructions]\n",
        "\n",
        "# Train Word2Vec model\n",
        "word2vec_model = Word2Vec(sentences=tokenized_instructions, vector_size=300, window=5, min_count=1, sg=1)"
      ]
    },
    {
      "cell_type": "code",
      "execution_count": null,
      "metadata": {
        "id": "b2aZaSGHKT1B"
      },
      "outputs": [],
      "source": [
        "model_path = \"/content/drive/MyDrive/HK2_2023-2024/NT522/ProcessData/word2vecmodel/word2vec_model.model\"\n",
        "# word2vec_model.save(model_path)"
      ]
    },
    {
      "cell_type": "code",
      "execution_count": null,
      "metadata": {
        "id": "lSzVHVgWKk2x"
      },
      "outputs": [],
      "source": [
        "word2vec_model= Word2Vec.load(model_path)"
      ]
    },
    {
      "cell_type": "code",
      "execution_count": null,
      "metadata": {
        "id": "hU8QplyNNzKm"
      },
      "outputs": [],
      "source": [
        "from tensorflow.keras.preprocessing.sequence import pad_sequences\n",
        "# Tokenize the instructions\n",
        "df['function1'] = df['function1'].apply(lambda x: x.split())\n",
        "df['function2'] = df['function2'].apply(lambda x: x.split())\n",
        "\n",
        "\n",
        "\n",
        "# Create a dictionary mapping from words to their index in the Word2Vec vocabulary\n",
        "word_index = {word: idx for idx, word in enumerate(word2vec_model.wv.index_to_key)}\n",
        "\n",
        "# Function to convert instructions to their corresponding indices\n",
        "def instructions_to_indices(instructions, word_index):\n",
        "    return [word_index[word] if word in word_index else 0 for word in instructions]\n",
        "\n",
        "# Convert instructions to indices\n",
        "df['function1_indices'] = df['function1'].apply(lambda x: instructions_to_indices(x, word_index))\n",
        "df['function2_indices'] = df['function2'].apply(lambda x: instructions_to_indices(x, word_index))\n",
        "\n",
        "# Pad or truncate the instruction sequences\n",
        "max_length = 1000\n",
        "df['function1_indices'] = pad_sequences(df['function1_indices'], maxlen=max_length, padding='post', truncating='post').tolist()\n",
        "df['function2_indices'] = pad_sequences(df['function2_indices'], maxlen=max_length, padding='post', truncating='post').tolist()\n",
        "\n",
        "# Prepare the input data\n",
        "X1 = np.array(df['function1_indices'].tolist())\n",
        "X2 = np.array(df['function2_indices'].tolist())\n",
        "y = np.array(df['label'].values)\n",
        "\n",
        "# Split the data into training and testing sets\n",
        "X1_train, X1_test, X2_train, X2_test, y_train, y_test = train_test_split(X1, X2, y, test_size=0.2, random_state=42)"
      ]
    },
    {
      "cell_type": "code",
      "execution_count": null,
      "metadata": {
        "colab": {
          "base_uri": "https://localhost:8080/"
        },
        "id": "bvo2vDJo412H",
        "outputId": "303bb5c5-6dbd-4055-c750-bdf77c32bcb3"
      },
      "outputs": [
        {
          "output_type": "stream",
          "name": "stdout",
          "text": [
            "Model: \"model_1\"\n",
            "__________________________________________________________________________________________________\n",
            " Layer (type)                Output Shape                 Param #   Connected to                  \n",
            "==================================================================================================\n",
            " input_2 (InputLayer)        [(None, 1000)]               0         []                            \n",
            "                                                                                                  \n",
            " input_3 (InputLayer)        [(None, 1000)]               0         []                            \n",
            "                                                                                                  \n",
            " model (Functional)          (None, 300)                  4495818   ['input_2[0][0]',             \n",
            "                                                          0          'input_3[0][0]']             \n",
            "                                                                                                  \n",
            " lambda (Lambda)             (None, 300)                  0         ['model[0][0]',               \n",
            "                                                                     'model[1][0]']               \n",
            "                                                                                                  \n",
            " dense_1 (Dense)             (None, 1)                    301       ['lambda[0][0]']              \n",
            "                                                                                                  \n",
            "==================================================================================================\n",
            "Total params: 44958481 (171.50 MB)\n",
            "Trainable params: 44876581 (171.19 MB)\n",
            "Non-trainable params: 81900 (319.92 KB)\n",
            "__________________________________________________________________________________________________\n"
          ]
        }
      ],
      "source": [
        "\n",
        "\n",
        "class SiameseNetwork:\n",
        "    def __init__(self, input_shape, word2vec_model):\n",
        "        self.input_shape = input_shape\n",
        "        self.word2vec_model = word2vec_model\n",
        "\n",
        "    def build_network_branch(self):\n",
        "        input_layer = Input(shape=self.input_shape)\n",
        "\n",
        "        # Embedding layer\n",
        "        embedding_layer = Embedding(input_dim=len(self.word2vec_model.wv),  # Vocabulary size from Word2Vec\n",
        "                                    output_dim=300,  # Output dimension as specified\n",
        "                                    weights=[self.word2vec_model.wv.vectors],  # Pre-trained weights from Word2Vec\n",
        "                                    input_length=self.input_shape[0],  # Input sequence length\n",
        "                                    trainable=False)(input_layer)\n",
        "\n",
        "        # LSTM layer\n",
        "        lstm_layer = LSTM(units=20, return_sequences=True)(embedding_layer)\n",
        "\n",
        "        # CNN layer\n",
        "        cnn_layer = Conv1D(filters=300, kernel_size=5, strides=1, activation='relu')(lstm_layer)\n",
        "\n",
        "        # Max pooling layer\n",
        "        max_pooling_layer = MaxPooling1D(pool_size=2, strides=2)(cnn_layer)\n",
        "\n",
        "        # Flatten the output\n",
        "        flatten_layer = Flatten()(max_pooling_layer)\n",
        "\n",
        "        # Dense layer\n",
        "        dense_layer = Dense(units=300, activation='relu')(flatten_layer)\n",
        "\n",
        "        return Model(inputs=input_layer, outputs=dense_layer)\n",
        "\n",
        "    def build_siamese_network(self):\n",
        "        # Build the two branches of the Siamese network\n",
        "        siamese_branch = self.build_network_branch()\n",
        "\n",
        "        # Input layers for the two functions\n",
        "        input_1 = Input(shape=self.input_shape)\n",
        "        input_2 = Input(shape=self.input_shape)\n",
        "\n",
        "        # Generate the embeddings for the two functions\n",
        "        processed_1 = siamese_branch(input_1)\n",
        "        processed_2 = siamese_branch(input_2)\n",
        "\n",
        "        # Calculate the absolute difference between the two embeddings\n",
        "        L1_layer = Lambda(lambda tensors: K.abs(tensors[0] - tensors[1]))\n",
        "        L1_distance = L1_layer([processed_1, processed_2])\n",
        "\n",
        "        # Final Dense layer for classification\n",
        "        output_layer = Dense(units=1, activation='sigmoid')(L1_distance)\n",
        "\n",
        "        # Create the Siamese network model\n",
        "        siamese_model = Model(inputs=[input_1, input_2], outputs=output_layer)\n",
        "        return siamese_model\n",
        "\n",
        "\n",
        "\n",
        "# Define input shape\n",
        "input_shape = (1000,)\n",
        "\n",
        "# Instantiate the SiameseNetwork class\n",
        "siamese_network = SiameseNetwork(input_shape=input_shape, word2vec_model=word2vec_model)\n",
        "\n",
        "# Build the Siamese network\n",
        "siamese_model = siamese_network.build_siamese_network()\n",
        "\n",
        "# Compile the model\n",
        "siamese_model.compile(optimizer=Adam(), loss='binary_crossentropy', metrics=['accuracy'])\n",
        "\n",
        "# Display the model summary\n",
        "siamese_model.summary()"
      ]
    },
    {
      "cell_type": "code",
      "execution_count": null,
      "metadata": {
        "colab": {
          "base_uri": "https://localhost:8080/"
        },
        "id": "3BoX11D8gz25",
        "outputId": "6da09048-2f64-4a6a-9745-6539b3e7c8b7"
      },
      "outputs": [
        {
          "name": "stdout",
          "output_type": "stream",
          "text": [
            "Epoch 1/10\n",
            "1352/1352 [==============================] - 829s 611ms/step - loss: 0.3176 - accuracy: 0.8786 - val_loss: 0.2185 - val_accuracy: 0.9190\n",
            "Epoch 2/10\n",
            "1352/1352 [==============================] - 810s 599ms/step - loss: 0.1725 - accuracy: 0.9380 - val_loss: 0.2064 - val_accuracy: 0.9294\n",
            "Epoch 3/10\n",
            "1352/1352 [==============================] - 841s 622ms/step - loss: 0.0916 - accuracy: 0.9702 - val_loss: 0.1987 - val_accuracy: 0.9321\n",
            "Epoch 4/10\n",
            "1352/1352 [==============================] - 827s 612ms/step - loss: 0.0508 - accuracy: 0.9859 - val_loss: 0.2197 - val_accuracy: 0.9386\n",
            "Epoch 5/10\n",
            "1352/1352 [==============================] - 828s 613ms/step - loss: 0.0299 - accuracy: 0.9927 - val_loss: 0.2821 - val_accuracy: 0.9441\n",
            "Epoch 6/10\n",
            "1352/1352 [==============================] - 820s 607ms/step - loss: 0.0257 - accuracy: 0.9948 - val_loss: 0.3821 - val_accuracy: 0.9384\n",
            "Epoch 7/10\n",
            "1352/1352 [==============================] - 873s 646ms/step - loss: 0.0236 - accuracy: 0.9954 - val_loss: 0.3293 - val_accuracy: 0.9408\n",
            "Epoch 8/10\n",
            "1352/1352 [==============================] - 838s 620ms/step - loss: 0.0201 - accuracy: 0.9957 - val_loss: 0.3746 - val_accuracy: 0.9385\n",
            "Epoch 9/10\n",
            "1352/1352 [==============================] - 836s 618ms/step - loss: 0.0193 - accuracy: 0.9965 - val_loss: 0.3521 - val_accuracy: 0.9399\n",
            "Epoch 10/10\n",
            "1352/1352 [==============================] - 843s 624ms/step - loss: 0.0154 - accuracy: 0.9971 - val_loss: 0.3837 - val_accuracy: 0.9418\n"
          ]
        },
        {
          "data": {
            "text/plain": [
              "<keras.src.callbacks.History at 0x7f78e0e8aef0>"
            ]
          },
          "execution_count": 22,
          "metadata": {},
          "output_type": "execute_result"
        }
      ],
      "source": [
        "siamese_model.fit([X1_train, X2_train], y_train, epochs=10, batch_size=32, validation_data=([X1_test, X2_test], y_test))"
      ]
    },
    {
      "cell_type": "code",
      "execution_count": null,
      "metadata": {
        "colab": {
          "base_uri": "https://localhost:8080/"
        },
        "id": "9WeVJfGADFsy",
        "outputId": "590ebe79-8913-4ec2-e517-6e3daf9bd832"
      },
      "outputs": [
        {
          "name": "stderr",
          "output_type": "stream",
          "text": [
            "/usr/local/lib/python3.10/dist-packages/keras/src/engine/training.py:3103: UserWarning: You are saving your model as an HDF5 file via `model.save()`. This file format is considered legacy. We recommend using instead the native Keras format, e.g. `model.save('my_model.keras')`.\n",
            "  saving_api.save_model(\n"
          ]
        }
      ],
      "source": [
        "# siamese_model.save_weights(\"/content/drive/MyDrive/HK2_2023-2024/NT522/Result/models/siamese/siamese_model_weights.h5\")\n",
        "# siamese_model.save(\"/content/drive/MyDrive/HK2_2023-2024/NT522/Result/models/siamese/siamese_model.h5\")"
      ]
    },
    {
      "cell_type": "code",
      "execution_count": null,
      "metadata": {
        "colab": {
          "base_uri": "https://localhost:8080/"
        },
        "id": "eMJYNe14CCiJ",
        "outputId": "8386965f-22d9-4b6f-c2d6-e596eadc9770"
      },
      "outputs": [
        {
          "output_type": "stream",
          "name": "stdout",
          "text": [
            "338/338 [==============================] - 71s 206ms/step\n",
            "+---------------------------+-----------+\n",
            "| Metric                    |     Score |\n",
            "+===========================+===========+\n",
            "| Precision                 | 0.932761  |\n",
            "+---------------------------+-----------+\n",
            "| Recall                    | 0.95136   |\n",
            "+---------------------------+-----------+\n",
            "| F1 Score                  | 0.941969  |\n",
            "+---------------------------+-----------+\n",
            "| Accuracy                  | 0.941813  |\n",
            "+---------------------------+-----------+\n",
            "| False Positive Rate (FPR) | 0.0675974 |\n",
            "+---------------------------+-----------+\n",
            "| False Negative Rate (FNR) | 0.0486396 |\n",
            "+---------------------------+-----------+\n"
          ]
        }
      ],
      "source": [
        "siamese_model = tf.keras.models.load_model(\"/content/drive/MyDrive/HK2_2023-2024/NT522/Result/models/siamese/siamese_model.h5\")\n",
        "from sklearn.metrics import precision_score, recall_score, f1_score, accuracy_score, confusion_matrix\n",
        "from tabulate import tabulate\n",
        "\n",
        "def evaluate_siamese_model(model, X1_test, X2_test, y_test):\n",
        "    \"\"\"\n",
        "    Evaluate the Siamese model and print various performance metrics.\n",
        "\n",
        "    :param model: Trained Siamese model\n",
        "    :param X1_test: Test features from the first input\n",
        "    :param X2_test: Test features from the second input\n",
        "    :param y_test: True labels for the test set\n",
        "    \"\"\"\n",
        "    # Get predictions\n",
        "    y_pred = model.predict([X1_test, X2_test])\n",
        "\n",
        "    # Convert predictions to binary labels based on a threshold\n",
        "    threshold = 0.5\n",
        "    y_pred_binary = (y_pred > threshold).astype(int)\n",
        "\n",
        "    # Calculate metrics\n",
        "    precision = precision_score(y_test, y_pred_binary)\n",
        "    recall = recall_score(y_test, y_pred_binary)\n",
        "    f1 = f1_score(y_test, y_pred_binary)\n",
        "    accuracy = accuracy_score(y_test, y_pred_binary)\n",
        "\n",
        "    # Compute confusion matrix\n",
        "    tn, fp, fn, tp = confusion_matrix(y_test, y_pred_binary).ravel()\n",
        "\n",
        "    # Calculate FPR and FNR\n",
        "    fpr = fp / (fp + tn)\n",
        "    fnr = fn / (fn + tp)\n",
        "\n",
        "    # Create table\n",
        "    table_data = [\n",
        "        [\"Metric\", \"Score\"],\n",
        "        [\"Precision\", precision],\n",
        "        [\"Recall\", recall],\n",
        "        [\"F1 Score\", f1],\n",
        "        [\"Accuracy\", accuracy],\n",
        "        [\"False Positive Rate (FPR)\", fpr],\n",
        "        [\"False Negative Rate (FNR)\", fnr]\n",
        "    ]\n",
        "\n",
        "    # Print table\n",
        "    print(tabulate(table_data, headers=\"firstrow\", tablefmt='grid'))\n",
        "\n",
        "# Assuming you have a trained model and test data available\n",
        "evaluate_siamese_model(siamese_model, X1_test, X2_test, y_test)\n"
      ]
    },
    {
      "cell_type": "code",
      "source": [
        "assert len(X1_test) == len(X2_test) == len(y_test), \"Test data and labels must have the same number of samples\"\n"
      ],
      "metadata": {
        "id": "orIWfA2iPtbM"
      },
      "execution_count": null,
      "outputs": []
    },
    {
      "cell_type": "code",
      "source": [
        "import numpy as np\n",
        "from sklearn.metrics import roc_curve, roc_auc_score\n",
        "import matplotlib.pyplot as plt\n",
        "import tensorflow as tf\n",
        "\n",
        "# Load the model\n",
        "siamese_model = tf.keras.models.load_model(\"/content/drive/MyDrive/HK2_2023-2024/NT522/Result/models/siamese/siamese_model.h5\")\n",
        "\n",
        "\n",
        "y_pred = siamese_model.predict([X1_test, X2_test])\n",
        "\n",
        "# Compute ROC curve and AUC using continuous scores\n",
        "fpr, tpr, thresholds = roc_curve(y_test, y_pred)\n",
        "roc_auc = roc_auc_score(y_test, y_pred)\n",
        "\n",
        "# Plot ROC curve\n",
        "plt.figure()\n",
        "plt.plot(fpr, tpr, color='blue', lw=2, label=f'ROC curve opcode+oprand (area = {roc_auc:.2f})')\n",
        "plt.plot([0, 1], [0, 1], color='gray', lw=1, linestyle='--')\n",
        "plt.xlim([0.0, 1.0])\n",
        "plt.ylim([0.0, 1.05])\n",
        "plt.xlabel('False Positive Rate')\n",
        "plt.ylabel('True Positive Rate')\n",
        "plt.title('Receiver Operating Characteristic for opcode+oprand(ROC)')\n",
        "plt.legend(loc=\"lower right\")\n",
        "plt.show()\n",
        "\n",
        "# Print ROC AUC score\n",
        "print(f'ROC AUC: {roc_auc:.2f}')\n"
      ],
      "metadata": {
        "colab": {
          "base_uri": "https://localhost:8080/",
          "height": 508
        },
        "id": "FhVNs5wXNN3t",
        "outputId": "f46ed3f5-92e5-4f4d-f95f-1b57c36850d7"
      },
      "execution_count": null,
      "outputs": [
        {
          "output_type": "stream",
          "name": "stdout",
          "text": [
            "338/338 [==============================] - 72s 202ms/step\n"
          ]
        },
        {
          "output_type": "display_data",
          "data": {
            "text/plain": [
              "<Figure size 640x480 with 1 Axes>"
            ],
            "image/png": "[encoded data removed]"
          },
          "metadata": {}
        },
        {
          "output_type": "stream",
          "name": "stdout",
          "text": [
            "ROC AUC: 0.98\n"
          ]
        }
      ]
    },
    {
      "cell_type": "code",
      "source": [
        "import numpy as np\n",
        "import matplotlib.pyplot as plt\n",
        "import seaborn as sns\n",
        "from sklearn.metrics import confusion_matrix\n",
        "\n",
        "\n",
        "\n",
        "# Compute the confusion matrix\n",
        "y_pred_bin = np.round(y_pred).astype(int)\n",
        "cm = confusion_matrix(y_pred_bin , y_test)\n",
        "\n",
        "# Plotting the confusion matrix\n",
        "plt.figure(figsize=(8, 6))\n",
        "sns.heatmap(cm, annot=True, fmt='d', cmap='Blues', xticklabels=['Predicted 0', 'Predicted 1'], yticklabels=['True 0', 'True 1'])\n",
        "plt.xlabel('Predicted Labels')\n",
        "plt.ylabel('True Labels')\n",
        "plt.title('Confusion Matrix model CNN+LSTM feature opcode + operand')\n",
        "plt.show()\n"
      ],
      "metadata": {
        "colab": {
          "base_uri": "https://localhost:8080/",
          "height": 564
        },
        "id": "GbqSxYVw3_HC",
        "outputId": "1a9bc6b4-7dd2-44ae-843d-3f55e972bcab"
      },
      "execution_count": null,
      "outputs": [
        {
          "output_type": "display_data",
          "data": {
            "text/plain": [
              "<Figure size 800x600 with 2 Axes>"
            ],
            "image/png": "[encoded data removed]"
          },
          "metadata": {}
        }
      ]
    },
    {
      "cell_type": "markdown",
      "metadata": {
        "id": "jdBvZt4NdH6p"
      },
      "source": [
        "# kết luận cho đặc tính opcode + mnemonic\n",
        "\n",
        "Đối tượng nghiên cứu: The same architecure, Cross-optimization, Cross-compiler\n",
        "\n",
        "Với dataset gồm cùng kiến trúc x86 hoặc x64 và khác optimization hoặc khác complier với tổng số mẫu là 27 000 hàm có điều kiện như trên là giống nhau và 27000 hàm là khác nhau. Mô hình BinDeep của tác giả cho ra kết quả khá cao với Accuracy là 0.94 trên tập test.\n",
        "\n",
        "Tỉ lệ dương tính sai và âm tính sai thấp, điều nay cho thấy hiệu quả của mô hình binDeep trong việc xác định độ tương đồng của các hàm trong mã nhị phân của các file nhị phân có cùng kiến trúc và khác cross-complier và cross-optimization.\n",
        "\n",
        "\n"
      ]
    },
    {
      "cell_type": "markdown",
      "metadata": {
        "id": "dJQJHIgtiOP3"
      },
      "source": [
        "# model CNN+LSTM  features Opcode sequence"
      ]
    },
    {
      "cell_type": "code",
      "execution_count": null,
      "metadata": {
        "colab": {
          "base_uri": "https://localhost:8080/"
        },
        "id": "CGMRCZ9DjGsO",
        "outputId": "8643ba7f-bc77-47a9-eda5-5981a36308dc"
      },
      "outputs": [
        {
          "output_type": "stream",
          "name": "stdout",
          "text": [
            "/content/drive/MyDrive/HK2_2023-2024/NT522/ProcessData/extract_data/data_37828-43232.csv\n",
            "/content/drive/MyDrive/HK2_2023-2024/NT522/ProcessData/extract_data/data_27020-32424.csv\n",
            "/content/drive/MyDrive/HK2_2023-2024/NT522/ProcessData/extract_data/data_21616-27020.csv\n",
            "/content/drive/MyDrive/HK2_2023-2024/NT522/ProcessData/extract_data/data_32424-37828.csv\n",
            "/content/drive/MyDrive/HK2_2023-2024/NT522/ProcessData/extract_data/data_16212-21616.csv\n",
            "/content/drive/MyDrive/HK2_2023-2024/NT522/ProcessData/extract_data/data_10808-16212.csv\n",
            "/content/drive/MyDrive/HK2_2023-2024/NT522/ProcessData/extract_data/data_43232-48636.csv\n",
            "/content/drive/MyDrive/HK2_2023-2024/NT522/ProcessData/extract_data/data_5404-10808.csv\n",
            "/content/drive/MyDrive/HK2_2023-2024/NT522/ProcessData/extract_data/data_0-5404.csv\n",
            "/content/drive/MyDrive/HK2_2023-2024/NT522/ProcessData/extract_data/data_48636-54046.csv\n",
            "                                               function1  \\\n",
            "0      push TypeOne,push TypeOne,push TypeOne,mov Typ...   \n",
            "1      push TypeOne,mov TypeOne TypeOne,push TypeOne,...   \n",
            "2      push TypeOne,mov TypeOne TypeOne,push TypeOne,...   \n",
            "3      push TypeOne,push TypeOne,sub TypeOne TypeFive...   \n",
            "4      push TypeOne,push TypeOne,push TypeOne,push Ty...   \n",
            "...                                                  ...   \n",
            "54041  push TypeOne,mov TypeOne TypeOne,sub TypeOne T...   \n",
            "54042  push TypeOne,push TypeOne,push TypeOne,push Ty...   \n",
            "54043  push TypeOne,mov TypeOne TypeOne,sub TypeOne T...   \n",
            "54044  push TypeOne,push TypeOne,call TypeSix,add Typ...   \n",
            "54045  push TypeOne,mov TypeOne TypeOne,sub TypeOne T...   \n",
            "\n",
            "                                               function2  label  \n",
            "0      sub TypeOne TypeFive,mov TypeOne TypeFour,mov ...      0  \n",
            "1      push TypeOne,mov TypeOne TypeOne,push TypeOne,...      0  \n",
            "2      push TypeOne,push TypeOne,push TypeOne,push Ty...      0  \n",
            "3      push TypeOne,push TypeOne,sub TypeOne TypeFive...      0  \n",
            "4      sub TypeOne TypeFive,push TypeFive,push TypeFi...      0  \n",
            "...                                                  ...    ...  \n",
            "54041  push TypeOne,mov TypeOne TypeOne,sub TypeOne T...      0  \n",
            "54042  push TypeOne,mov TypeOne TypeOne,sub TypeOne T...      0  \n",
            "54043  mov TypeOne TypeThree,call TypeSix,add TypeOne...      0  \n",
            "54044  push TypeOne,mov TypeOne TypeOne,sub TypeOne T...      0  \n",
            "54045  push TypeOne,push TypeOne,mov TypeOne TypeOne,...      0  \n",
            "\n",
            "[54046 rows x 3 columns]\n"
          ]
        }
      ],
      "source": [
        "\n",
        "directory = '/content/drive/MyDrive/HK2_2023-2024/NT522/ProcessData/extract_data'\n",
        "\n",
        "\n",
        "all_files = os.listdir(directory)\n",
        "\n",
        "\n",
        "csv_files = [file for file in all_files if file.endswith('.csv')]\n",
        "\n",
        "\n",
        "dfs = []\n",
        "\n",
        "# Loop through the CSV files and read them into DataFrames\n",
        "for file in csv_files:\n",
        "    file_path = os.path.join(directory, file)\n",
        "    print(file_path)\n",
        "    df = pd.read_csv(file_path)\n",
        "    dfs.append(df)\n",
        "\n",
        "# Concatenate all DataFrames into a single DataFrame\n",
        "combined_df = pd.concat(dfs, ignore_index=True)\n",
        "\n",
        "print(combined_df)"
      ]
    },
    {
      "cell_type": "code",
      "execution_count": null,
      "metadata": {
        "id": "8R6saBIYjNTP"
      },
      "outputs": [],
      "source": [
        "df = combined_df.copy()"
      ]
    },
    {
      "cell_type": "code",
      "execution_count": null,
      "metadata": {
        "id": "C36DCokniWYQ"
      },
      "outputs": [],
      "source": [
        "def pad_or_truncate_instructions_opcode(instruction_sequence, max_length=1000):\n",
        "    instruction_sequence = [item.split()[0] for item in instruction_sequence]\n",
        "    if len(instruction_sequence) < max_length:\n",
        "        # Pad with \"nop\" instructions\n",
        "        instruction_sequence += [\"nop\"] * (max_length - len(instruction_sequence))\n",
        "    elif len(instruction_sequence) > max_length:\n",
        "        # Truncate to keep only the first max_length instructions\n",
        "        instruction_sequence = instruction_sequence[:max_length]\n",
        "    return ' '.join(instruction_sequence)\n",
        "\n",
        "# Split each cell by commas and apply padding/truncating\n",
        "df['function1'] = df['function1'].apply(lambda x: pad_or_truncate_instructions_opcode(x.split(',')))\n",
        "df['function2'] = df['function2'].apply(lambda x: pad_or_truncate_instructions_opcode(x.split(',')))\n"
      ]
    },
    {
      "cell_type": "code",
      "execution_count": null,
      "metadata": {
        "colab": {
          "base_uri": "https://localhost:8080/",
          "height": 206
        },
        "id": "o3wEvEFQkVKB",
        "outputId": "3d92a4af-0a15-41fd-88b5-128058de8396"
      },
      "outputs": [
        {
          "output_type": "execute_result",
          "data": {
            "text/plain": [
              "                                           function1  \\\n",
              "0  push push push mov mov call add mov mov lea cm...   \n",
              "1  push mov push push push sub call pop add mov m...   \n",
              "2  push mov push sub call add mov mov test jz mov...   \n",
              "3  push push sub call test jz mov call test mov j...   \n",
              "4  push push push push push sub mov mov mov xor c...   \n",
              "\n",
              "                                           function2  label  \n",
              "0  sub mov mov mov mov xor cmp jz mov mov mov mov...      0  \n",
              "1  push mov push push push sub mov mov mov mov mo...      0  \n",
              "2  push push push push sub call add mov mov push ...      0  \n",
              "3  push push sub call mov mov call lea call mov m...      0  \n",
              "4  sub push push push push call add push push pus...      0  "
            ],
            "text/html": [
              "\n",
              "  <div id=\"df-389a0b7e-b81d-4898-8874-f1262417c014\" class=\"colab-df-container\">\n",
              "    <div>\n",
              "<style scoped>\n",
              "    .dataframe tbody tr th:only-of-type {\n",
              "        vertical-align: middle;\n",
              "    }\n",
              "\n",
              "    .dataframe tbody tr th {\n",
              "        vertical-align: top;\n",
              "    }\n",
              "\n",
              "    .dataframe thead th {\n",
              "        text-align: right;\n",
              "    }\n",
              "</style>\n",
              "<table border=\"1\" class=\"dataframe\">\n",
              "  <thead>\n",
              "    <tr style=\"text-align: right;\">\n",
              "      <th></th>\n",
              "      <th>function1</th>\n",
              "      <th>function2</th>\n",
              "      <th>label</th>\n",
              "    </tr>\n",
              "  </thead>\n",
              "  <tbody>\n",
              "    <tr>\n",
              "      <th>0</th>\n",
              "      <td>push push push mov mov call add mov mov lea cm...</td>\n",
              "      <td>sub mov mov mov mov xor cmp jz mov mov mov mov...</td>\n",
              "      <td>0</td>\n",
              "    </tr>\n",
              "    <tr>\n",
              "      <th>1</th>\n",
              "      <td>push mov push push push sub call pop add mov m...</td>\n",
              "      <td>push mov push push push sub mov mov mov mov mo...</td>\n",
              "      <td>0</td>\n",
              "    </tr>\n",
              "    <tr>\n",
              "      <th>2</th>\n",
              "      <td>push mov push sub call add mov mov test jz mov...</td>\n",
              "      <td>push push push push sub call add mov mov push ...</td>\n",
              "      <td>0</td>\n",
              "    </tr>\n",
              "    <tr>\n",
              "      <th>3</th>\n",
              "      <td>push push sub call test jz mov call test mov j...</td>\n",
              "      <td>push push sub call mov mov call lea call mov m...</td>\n",
              "      <td>0</td>\n",
              "    </tr>\n",
              "    <tr>\n",
              "      <th>4</th>\n",
              "      <td>push push push push push sub mov mov mov xor c...</td>\n",
              "      <td>sub push push push push call add push push pus...</td>\n",
              "      <td>0</td>\n",
              "    </tr>\n",
              "  </tbody>\n",
              "</table>\n",
              "</div>\n",
              "    <div class=\"colab-df-buttons\">\n",
              "\n",
              "  <div class=\"colab-df-container\">\n",
              "    <button class=\"colab-df-convert\" onclick=\"convertToInteractive('df-389a0b7e-b81d-4898-8874-f1262417c014')\"\n",
              "            title=\"Convert this dataframe to an interactive table.\"\n",
              "            style=\"display:none;\">\n",
              "\n",
              "  <svg xmlns=\"http://www.w3.org/2000/svg\" height=\"24px\" viewBox=\"0 -960 960 960\">\n",
              "    <path d=\"M120-120v-720h720v720H120Zm60-500h600v-160H180v160Zm220 220h160v-160H400v160Zm0 220h160v-160H400v160ZM180-400h160v-160H180v160Zm440 0h160v-160H620v160ZM180-180h160v-160H180v160Zm440 0h160v-160H620v160Z\"/>\n",
              "  </svg>\n",
              "    </button>\n",
              "\n",
              "  <style>\n",
              "    .colab-df-container {\n",
              "      display:flex;\n",
              "      gap: 12px;\n",
              "    }\n",
              "\n",
              "    .colab-df-convert {\n",
              "      background-color: #E8F0FE;\n",
              "      border: none;\n",
              "      border-radius: 50%;\n",
              "      cursor: pointer;\n",
              "      display: none;\n",
              "      fill: #1967D2;\n",
              "      height: 32px;\n",
              "      padding: 0 0 0 0;\n",
              "      width: 32px;\n",
              "    }\n",
              "\n",
              "    .colab-df-convert:hover {\n",
              "      background-color: #E2EBFA;\n",
              "      box-shadow: 0px 1px 2px rgba(60, 64, 67, 0.3), 0px 1px 3px 1px rgba(60, 64, 67, 0.15);\n",
              "      fill: #174EA6;\n",
              "    }\n",
              "\n",
              "    .colab-df-buttons div {\n",
              "      margin-bottom: 4px;\n",
              "    }\n",
              "\n",
              "    [theme=dark] .colab-df-convert {\n",
              "      background-color: #3B4455;\n",
              "      fill: #D2E3FC;\n",
              "    }\n",
              "\n",
              "    [theme=dark] .colab-df-convert:hover {\n",
              "      background-color: #434B5C;\n",
              "      box-shadow: 0px 1px 3px 1px rgba(0, 0, 0, 0.15);\n",
              "      filter: drop-shadow(0px 1px 2px rgba(0, 0, 0, 0.3));\n",
              "      fill: #FFFFFF;\n",
              "    }\n",
              "  </style>\n",
              "\n",
              "    <script>\n",
              "      const buttonEl =\n",
              "        document.querySelector('#df-389a0b7e-b81d-4898-8874-f1262417c014 button.colab-df-convert');\n",
              "      buttonEl.style.display =\n",
              "        google.colab.kernel.accessAllowed ? 'block' : 'none';\n",
              "\n",
              "      async function convertToInteractive(key) {\n",
              "        const element = document.querySelector('#df-389a0b7e-b81d-4898-8874-f1262417c014');\n",
              "        const dataTable =\n",
              "          await google.colab.kernel.invokeFunction('convertToInteractive',\n",
              "                                                    [key], {});\n",
              "        if (!dataTable) return;\n",
              "\n",
              "        const docLinkHtml = 'Like what you see? Visit the ' +\n",
              "          '<a target=\"_blank\" href=https://colab.research.google.com/notebooks/data_table.ipynb>data table notebook</a>'\n",
              "          + ' to learn more about interactive tables.';\n",
              "        element.innerHTML = '';\n",
              "        dataTable['output_type'] = 'display_data';\n",
              "        await google.colab.output.renderOutput(dataTable, element);\n",
              "        const docLink = document.createElement('div');\n",
              "        docLink.innerHTML = docLinkHtml;\n",
              "        element.appendChild(docLink);\n",
              "      }\n",
              "    </script>\n",
              "  </div>\n",
              "\n",
              "\n",
              "<div id=\"df-1a2d1e01-176a-416f-b5b2-79014d0889f0\">\n",
              "  <button class=\"colab-df-quickchart\" onclick=\"quickchart('df-1a2d1e01-176a-416f-b5b2-79014d0889f0')\"\n",
              "            title=\"Suggest charts\"\n",
              "            style=\"display:none;\">\n",
              "\n",
              "<svg xmlns=\"http://www.w3.org/2000/svg\" height=\"24px\"viewBox=\"0 0 24 24\"\n",
              "     width=\"24px\">\n",
              "    <g>\n",
              "        <path d=\"M19 3H5c-1.1 0-2 .9-2 2v14c0 1.1.9 2 2 2h14c1.1 0 2-.9 2-2V5c0-1.1-.9-2-2-2zM9 17H7v-7h2v7zm4 0h-2V7h2v10zm4 0h-2v-4h2v4z\"/>\n",
              "    </g>\n",
              "</svg>\n",
              "  </button>\n",
              "\n",
              "<style>\n",
              "  .colab-df-quickchart {\n",
              "      --bg-color: #E8F0FE;\n",
              "      --fill-color: #1967D2;\n",
              "      --hover-bg-color: #E2EBFA;\n",
              "      --hover-fill-color: #174EA6;\n",
              "      --disabled-fill-color: #AAA;\n",
              "      --disabled-bg-color: #DDD;\n",
              "  }\n",
              "\n",
              "  [theme=dark] .colab-df-quickchart {\n",
              "      --bg-color: #3B4455;\n",
              "      --fill-color: #D2E3FC;\n",
              "      --hover-bg-color: #434B5C;\n",
              "      --hover-fill-color: #FFFFFF;\n",
              "      --disabled-bg-color: #3B4455;\n",
              "      --disabled-fill-color: #666;\n",
              "  }\n",
              "\n",
              "  .colab-df-quickchart {\n",
              "    background-color: var(--bg-color);\n",
              "    border: none;\n",
              "    border-radius: 50%;\n",
              "    cursor: pointer;\n",
              "    display: none;\n",
              "    fill: var(--fill-color);\n",
              "    height: 32px;\n",
              "    padding: 0;\n",
              "    width: 32px;\n",
              "  }\n",
              "\n",
              "  .colab-df-quickchart:hover {\n",
              "    background-color: var(--hover-bg-color);\n",
              "    box-shadow: 0 1px 2px rgba(60, 64, 67, 0.3), 0 1px 3px 1px rgba(60, 64, 67, 0.15);\n",
              "    fill: var(--button-hover-fill-color);\n",
              "  }\n",
              "\n",
              "  .colab-df-quickchart-complete:disabled,\n",
              "  .colab-df-quickchart-complete:disabled:hover {\n",
              "    background-color: var(--disabled-bg-color);\n",
              "    fill: var(--disabled-fill-color);\n",
              "    box-shadow: none;\n",
              "  }\n",
              "\n",
              "  .colab-df-spinner {\n",
              "    border: 2px solid var(--fill-color);\n",
              "    border-color: transparent;\n",
              "    border-bottom-color: var(--fill-color);\n",
              "    animation:\n",
              "      spin 1s steps(1) infinite;\n",
              "  }\n",
              "\n",
              "  @keyframes spin {\n",
              "    0% {\n",
              "      border-color: transparent;\n",
              "      border-bottom-color: var(--fill-color);\n",
              "      border-left-color: var(--fill-color);\n",
              "    }\n",
              "    20% {\n",
              "      border-color: transparent;\n",
              "      border-left-color: var(--fill-color);\n",
              "      border-top-color: var(--fill-color);\n",
              "    }\n",
              "    30% {\n",
              "      border-color: transparent;\n",
              "      border-left-color: var(--fill-color);\n",
              "      border-top-color: var(--fill-color);\n",
              "      border-right-color: var(--fill-color);\n",
              "    }\n",
              "    40% {\n",
              "      border-color: transparent;\n",
              "      border-right-color: var(--fill-color);\n",
              "      border-top-color: var(--fill-color);\n",
              "    }\n",
              "    60% {\n",
              "      border-color: transparent;\n",
              "      border-right-color: var(--fill-color);\n",
              "    }\n",
              "    80% {\n",
              "      border-color: transparent;\n",
              "      border-right-color: var(--fill-color);\n",
              "      border-bottom-color: var(--fill-color);\n",
              "    }\n",
              "    90% {\n",
              "      border-color: transparent;\n",
              "      border-bottom-color: var(--fill-color);\n",
              "    }\n",
              "  }\n",
              "</style>\n",
              "\n",
              "  <script>\n",
              "    async function quickchart(key) {\n",
              "      const quickchartButtonEl =\n",
              "        document.querySelector('#' + key + ' button');\n",
              "      quickchartButtonEl.disabled = true;  // To prevent multiple clicks.\n",
              "      quickchartButtonEl.classList.add('colab-df-spinner');\n",
              "      try {\n",
              "        const charts = await google.colab.kernel.invokeFunction(\n",
              "            'suggestCharts', [key], {});\n",
              "      } catch (error) {\n",
              "        console.error('Error during call to suggestCharts:', error);\n",
              "      }\n",
              "      quickchartButtonEl.classList.remove('colab-df-spinner');\n",
              "      quickchartButtonEl.classList.add('colab-df-quickchart-complete');\n",
              "    }\n",
              "    (() => {\n",
              "      let quickchartButtonEl =\n",
              "        document.querySelector('#df-1a2d1e01-176a-416f-b5b2-79014d0889f0 button');\n",
              "      quickchartButtonEl.style.display =\n",
              "        google.colab.kernel.accessAllowed ? 'block' : 'none';\n",
              "    })();\n",
              "  </script>\n",
              "</div>\n",
              "\n",
              "    </div>\n",
              "  </div>\n"
            ],
            "application/vnd.google.colaboratory.intrinsic+json": {
              "type": "dataframe",
              "variable_name": "df",
              "summary": "{\n  \"name\": \"df\",\n  \"rows\": 54046,\n  \"fields\": [\n    {\n      \"column\": \"function1\",\n      \"properties\": {\n        \"dtype\": \"string\",\n        \"num_unique_values\": 37972,\n        \"samples\": [\n          \"push mov sub mov mov mov mov mov mov cmp cmovbe mov mov and test jz mov mov mov call test jnz cmp jz and mov and test jz mov mov mov call test jnz and mov and test jz mov and test jz and mov and test jz cmp jbe and mov and test jz cmp jbe and cmp jnz mov jmp mov mov mov mov leave retn nop nop nop nop nop nop nop nop nop nop nop nop nop nop nop nop nop nop nop nop nop nop nop nop nop nop nop nop nop nop nop nop nop nop nop nop nop nop nop nop nop nop nop nop nop nop nop nop nop nop nop nop nop nop nop nop nop nop nop nop nop nop nop nop nop nop nop nop nop nop nop nop nop nop nop nop nop nop nop nop nop nop nop nop nop nop nop nop nop nop nop nop nop nop nop nop nop nop nop nop nop nop nop nop nop nop nop nop nop nop nop nop nop nop nop nop nop nop nop nop nop nop nop nop nop nop nop nop nop nop nop nop nop nop nop nop nop nop nop nop nop nop nop nop nop nop nop nop nop nop nop nop nop nop nop nop nop nop nop nop nop nop nop nop nop nop nop nop nop nop nop nop nop nop nop nop nop nop nop nop nop nop nop nop nop nop nop nop nop nop nop nop nop nop nop nop nop nop nop nop nop nop nop nop nop nop nop nop nop nop nop nop nop nop nop nop nop nop nop nop nop nop nop nop nop nop nop nop nop nop nop nop nop nop nop nop nop nop nop nop nop nop nop nop nop nop nop nop nop nop nop nop nop nop nop nop nop nop nop nop nop nop nop nop nop nop nop nop nop nop nop nop nop nop nop nop nop nop nop nop nop nop nop nop nop nop nop nop nop nop nop nop nop nop nop nop nop nop nop nop nop nop nop nop nop nop nop nop nop nop nop nop nop nop nop nop nop nop nop nop nop nop nop nop nop nop nop nop nop nop nop nop nop nop nop nop nop nop nop nop nop nop nop nop nop nop nop nop nop nop nop nop nop nop nop nop nop nop nop nop nop nop nop nop nop nop nop nop nop nop nop nop nop nop nop nop nop nop nop nop nop nop nop nop nop nop nop nop nop nop nop nop nop nop nop nop nop nop nop nop nop nop nop nop nop nop nop nop nop nop nop nop nop nop nop nop nop nop nop nop nop nop nop nop nop nop nop nop nop nop nop nop nop nop nop nop nop nop nop nop nop nop nop nop nop nop nop nop nop nop nop nop nop nop nop nop nop nop nop nop nop nop nop nop nop nop nop nop nop nop nop nop nop nop nop nop nop nop nop nop nop nop nop nop nop nop nop nop nop nop nop nop nop nop nop nop nop nop nop nop nop nop nop nop nop nop nop nop nop nop nop nop nop nop nop nop nop nop nop nop nop nop nop nop nop nop nop nop nop nop nop nop nop nop nop nop nop nop nop nop nop nop nop nop nop nop nop nop nop nop nop nop nop nop nop nop nop nop nop nop nop nop nop nop nop nop nop nop nop nop nop nop nop nop nop nop nop nop nop nop nop nop nop nop nop nop nop nop nop nop nop nop nop nop nop nop nop nop nop nop nop nop nop nop nop nop nop nop nop nop nop nop nop nop nop nop nop nop nop nop nop nop nop nop nop nop nop nop nop nop nop nop nop nop nop nop nop nop nop nop nop nop nop nop nop nop nop nop nop nop nop nop nop nop nop nop nop nop nop nop nop nop nop nop nop nop nop nop nop nop nop nop nop nop nop nop nop nop nop nop nop nop nop nop nop nop nop nop nop nop nop nop nop nop nop nop nop nop nop nop nop nop nop nop nop nop nop nop nop nop nop nop nop nop nop nop nop nop nop nop nop nop nop nop nop nop nop nop nop nop nop nop nop nop nop nop nop nop nop nop nop nop nop nop nop nop nop nop nop nop nop nop nop nop nop nop nop nop nop nop nop nop nop nop nop nop nop nop nop nop nop nop nop nop nop nop nop nop nop nop nop nop nop nop nop nop nop nop nop nop nop nop nop nop nop nop nop nop nop nop nop nop nop nop nop nop nop nop nop nop nop nop nop nop nop nop nop nop nop nop nop nop nop nop nop nop nop nop nop nop nop nop nop nop nop nop nop nop nop nop nop nop nop nop nop nop nop nop nop nop nop nop nop nop nop nop nop nop nop nop nop nop nop nop nop nop nop nop nop nop nop nop nop nop nop nop nop nop nop nop nop nop nop nop nop nop nop nop nop nop nop nop nop nop nop nop nop nop nop nop nop nop nop nop nop nop nop nop nop nop nop nop nop nop nop nop nop nop nop nop nop nop nop nop nop nop nop nop nop nop nop\",\n          \"push mov push sub call add mov mov mov mov xor mov movzx test jnz mov mov mov mov lea mov sub push call add mov mov jmp mov mov add movzx cmp jnz add mov mov add movzx movsx cmp jz cmp jz cmp jz jmp mov lea mov mov mov cmp jz sub push call add add jmp mov add mov add jmp mov add mov add jmp mov add mov add jmp nop jmp nop add mov sub cmp jb mov add cmp ja mov lea mov jmp sub push call add mov cmp jnz mov lea mov jmp mov mov lea mov mov push push push push call add mov lea mov add mov mov movzx cmp jnz movzx test jnz mov mov mov mov add sub push lea push push call add jmp mov movzx cmp jnz movzx test jnz mov mov mov mov add sub push lea push push call add jmp movzx test jnz mov movzx cmp jnz movzx test jnz movzx test jnz mov mov mov mov add sub push lea push push call add jmp mov movzx cmp jnz movzx test jz mov add sub push push call add jmp mov movzx cmp jnz mov add sub push push call add jmp sub push push call add mov mov cmp jnz mov mov sub push call add cmp jbe sub push call add jmp nop mov xor jz call mov leave retn nop nop nop nop nop nop nop nop nop nop nop nop nop nop nop nop nop nop nop nop nop nop nop nop nop nop nop nop nop nop nop nop nop nop nop nop nop nop nop nop nop nop nop nop nop nop nop nop nop nop nop nop nop nop nop nop nop nop nop nop nop nop nop nop nop nop nop nop nop nop nop nop nop nop nop nop nop nop nop nop nop nop nop nop nop nop nop nop nop nop nop nop nop nop nop nop nop nop nop nop nop nop nop nop nop nop nop nop nop nop nop nop nop nop nop nop nop nop nop nop nop nop nop nop nop nop nop nop nop nop nop nop nop nop nop nop nop nop nop nop nop nop nop nop nop nop nop nop nop nop nop nop nop nop nop nop nop nop nop nop nop nop nop nop nop nop nop nop nop nop nop nop nop nop nop nop nop nop nop nop nop nop nop nop nop nop nop nop nop nop nop nop nop nop nop nop nop nop nop nop nop nop nop nop nop nop nop nop nop nop nop nop nop nop nop nop nop nop nop nop nop nop nop nop nop nop nop nop nop nop nop nop nop nop nop nop nop nop nop nop nop nop nop nop nop nop nop nop nop nop nop nop nop nop nop nop nop nop nop nop nop nop nop nop nop nop nop nop nop nop nop nop nop nop nop nop nop nop nop nop nop nop nop nop nop nop nop nop nop nop nop nop nop nop nop nop nop nop nop nop nop nop nop nop nop nop nop nop nop nop nop nop nop nop nop nop nop nop nop nop nop nop nop nop nop nop nop nop nop nop nop nop nop nop nop nop nop nop nop nop nop nop nop nop nop nop nop nop nop nop nop nop nop nop nop nop nop nop nop nop nop nop nop nop nop nop nop nop nop nop nop nop nop nop nop nop nop nop nop nop nop nop nop nop nop nop nop nop nop nop nop nop nop nop nop nop nop nop nop nop nop nop nop nop nop nop nop nop nop nop nop nop nop nop nop nop nop nop nop nop nop nop nop nop nop nop nop nop nop nop nop nop nop nop nop nop nop nop nop nop nop nop nop nop nop nop nop nop nop nop nop nop nop nop nop nop nop nop nop nop nop nop nop nop nop nop nop nop nop nop nop nop nop nop nop nop nop nop nop nop nop nop nop nop nop nop nop nop nop nop nop nop nop nop nop nop nop nop nop nop nop nop nop nop nop nop nop nop nop nop nop nop nop nop nop nop nop nop nop nop nop nop nop nop nop nop nop nop nop nop nop nop nop nop nop nop nop nop nop nop nop nop nop nop nop nop nop nop nop nop nop nop nop nop nop nop nop nop nop nop nop nop nop nop nop nop nop nop nop nop nop nop nop nop nop nop nop nop nop nop nop nop nop nop nop nop nop nop nop nop nop nop nop nop nop nop nop nop nop nop nop nop nop nop nop nop nop nop nop nop nop nop nop nop nop nop nop nop nop nop nop nop nop nop nop nop nop nop nop nop nop nop nop nop nop nop nop nop nop nop nop nop nop nop nop nop nop nop nop nop nop nop nop nop nop nop nop nop nop nop nop nop nop nop nop nop nop nop nop nop nop nop nop nop nop nop nop nop nop nop nop nop nop nop nop nop nop nop nop nop nop nop nop nop nop nop nop nop nop nop nop nop nop nop nop nop nop nop nop nop nop nop nop nop nop nop nop nop nop nop nop nop nop nop nop nop nop nop nop nop nop nop nop nop nop nop nop nop nop nop nop nop nop nop nop nop nop nop nop nop nop nop nop nop nop nop nop nop nop\",\n          \"push push push push call add sub mov mov mov lea mov add mov xor mov mov mov xor cmp jle lea lea mov cmp jz mov cmp jle mov lea lea mov cmp jg mov jz cmp jz test jnz test jnz mov cmp jz lea lea test jz add cmp jg mov add pop pop pop pop retn align mov cmp jnz cmp jnz add jmp align cmp jz cmp jz test jz add add jmp align cmp jnz mov cmp jz add jmp align mov mov add pop pop pop pop retn align lea mov lea mov cmp jnz mov cmp jnz test jnz lea lea add jmp nop nop nop nop nop nop nop nop nop nop nop nop nop nop nop nop nop nop nop nop nop nop nop nop nop nop nop nop nop nop nop nop nop nop nop nop nop nop nop nop nop nop nop nop nop nop nop nop nop nop nop nop nop nop nop nop nop nop nop nop nop nop nop nop nop nop nop nop nop nop nop nop nop nop nop nop nop nop nop nop nop nop nop nop nop nop nop nop nop nop nop nop nop nop nop nop nop nop nop nop nop nop nop nop nop nop nop nop nop nop nop nop nop nop nop nop nop nop nop nop nop nop nop nop nop nop nop nop nop nop nop nop nop nop nop nop nop nop nop nop nop nop nop nop nop nop nop nop nop nop nop nop nop nop nop nop nop nop nop nop nop nop nop nop nop nop nop nop nop nop nop nop nop nop nop nop nop nop nop nop nop nop nop nop nop nop nop nop nop nop nop nop nop nop nop nop nop nop nop nop nop nop nop nop nop nop nop nop nop nop nop nop nop nop nop nop nop nop nop nop nop nop nop nop nop nop nop nop nop nop nop nop nop nop nop nop nop nop nop nop nop nop nop nop nop nop nop nop nop nop nop nop nop nop nop nop nop nop nop nop nop nop nop nop nop nop nop nop nop nop nop nop nop nop nop nop nop nop nop nop nop nop nop nop nop nop nop nop nop nop nop nop nop nop nop nop nop nop nop nop nop nop nop nop nop nop nop nop nop nop nop nop nop nop nop nop nop nop nop nop nop nop nop nop nop nop nop nop nop nop nop nop nop nop nop nop nop nop nop nop nop nop nop nop nop nop nop nop nop nop nop nop nop nop nop nop nop nop nop nop nop nop nop nop nop nop nop nop nop nop nop nop nop nop nop nop nop nop nop nop nop nop nop nop nop nop nop nop nop nop nop nop nop nop nop nop nop nop nop nop nop nop nop nop nop nop nop nop nop nop nop nop nop nop nop nop nop nop nop nop nop nop nop nop nop nop nop nop nop nop nop nop nop nop nop nop nop nop nop nop nop nop nop nop nop nop nop nop nop nop nop nop nop nop nop nop nop nop nop nop nop nop nop nop nop nop nop nop nop nop nop nop nop nop nop nop nop nop nop nop nop nop nop nop nop nop nop nop nop nop nop nop nop nop nop nop nop nop nop nop nop nop nop nop nop nop nop nop nop nop nop nop nop nop nop nop nop nop nop nop nop nop nop nop nop nop nop nop nop nop nop nop nop nop nop nop nop nop nop nop nop nop nop nop nop nop nop nop nop nop nop nop nop nop nop nop nop nop nop nop nop nop nop nop nop nop nop nop nop nop nop nop nop nop nop nop nop nop nop nop nop nop nop nop nop nop nop nop nop nop nop nop nop nop nop nop nop nop nop nop nop nop nop nop nop nop nop nop nop nop nop nop nop nop nop nop nop nop nop nop nop nop nop nop nop nop nop nop nop nop nop nop nop nop nop nop nop nop nop nop nop nop nop nop nop nop nop nop nop nop nop nop nop nop nop nop nop nop nop nop nop nop nop nop nop nop nop nop nop nop nop nop nop nop nop nop nop nop nop nop nop nop nop nop nop nop nop nop nop nop nop nop nop nop nop nop nop nop nop nop nop nop nop nop nop nop nop nop nop nop nop nop nop nop nop nop nop nop nop nop nop nop nop nop nop nop nop nop nop nop nop nop nop nop nop nop nop nop nop nop nop nop nop nop nop nop nop nop nop nop nop nop nop nop nop nop nop nop nop nop nop nop nop nop nop nop nop nop nop nop nop nop nop nop nop nop nop nop nop nop nop nop nop nop nop nop nop nop nop nop nop nop nop nop nop nop nop nop nop nop nop nop nop nop nop nop nop nop nop nop nop nop nop nop nop nop nop nop nop nop nop nop nop nop nop nop nop nop nop nop nop nop nop nop nop nop nop nop nop nop nop nop nop nop nop nop nop nop nop nop nop nop nop nop nop nop nop nop nop nop nop nop nop nop nop nop nop nop nop nop nop nop nop nop nop nop nop nop nop nop nop nop nop nop nop nop nop nop nop\"\n        ],\n        \"semantic_type\": \"\",\n        \"description\": \"\"\n      }\n    },\n    {\n      \"column\": \"function2\",\n      \"properties\": {\n        \"dtype\": \"string\",\n        \"num_unique_values\": 36357,\n        \"samples\": [\n          \"push push push push sub mov call pop add sub push push call add xor test jz lea lea push push push push call add test jz mov mov mov push push push push lea push push push push push push push push call add test jz sub push push call add mov mov add pop pop pop pop retn nop nop nop nop nop nop nop nop nop nop nop nop nop nop nop nop nop nop nop nop nop nop nop nop nop nop nop nop nop nop nop nop nop nop nop nop nop nop nop nop nop nop nop nop nop nop nop nop nop nop nop nop nop nop nop nop nop nop nop nop nop nop nop nop nop nop nop nop nop nop nop nop nop nop nop nop nop nop nop nop nop nop nop nop nop nop nop nop nop nop nop nop nop nop nop nop nop nop nop nop nop nop nop nop nop nop nop nop nop nop nop nop nop nop nop nop nop nop nop nop nop nop nop nop nop nop nop nop nop nop nop nop nop nop nop nop nop nop nop nop nop nop nop nop nop nop nop nop nop nop nop nop nop nop nop nop nop nop nop nop nop nop nop nop nop nop nop nop nop nop nop nop nop nop nop nop nop nop nop nop nop nop nop nop nop nop nop nop nop nop nop nop nop nop nop nop nop nop nop nop nop nop nop nop nop nop nop nop nop nop nop nop nop nop nop nop nop nop nop nop nop nop nop nop nop nop nop nop nop nop nop nop nop nop nop nop nop nop nop nop nop nop nop nop nop nop nop nop nop nop nop nop nop nop nop nop nop nop nop nop nop nop nop nop nop nop nop nop nop nop nop nop nop nop nop nop nop nop nop nop nop nop nop nop nop nop nop nop nop nop nop nop nop nop nop nop nop nop nop nop nop nop nop nop nop nop nop nop nop nop nop nop nop nop nop nop nop nop nop nop nop nop nop nop nop nop nop nop nop nop nop nop nop nop nop nop nop nop nop nop nop nop nop nop nop nop nop nop nop nop nop nop nop nop nop nop nop nop nop nop nop nop nop nop nop nop nop nop nop nop nop nop nop nop nop nop nop nop nop nop nop nop nop nop nop nop nop nop nop nop nop nop nop nop nop nop nop nop nop nop nop nop nop nop nop nop nop nop nop nop nop nop nop nop nop nop nop nop nop nop nop nop nop nop nop nop nop nop nop nop nop nop nop nop nop nop nop nop nop nop nop nop nop nop nop nop nop nop nop nop nop nop nop nop nop nop nop nop nop nop nop nop nop nop nop nop nop nop nop nop nop nop nop nop nop nop nop nop nop nop nop nop nop nop nop nop nop nop nop nop nop nop nop nop nop nop nop nop nop nop nop nop nop nop nop nop nop nop nop nop nop nop nop nop nop nop nop nop nop nop nop nop nop nop nop nop nop nop nop nop nop nop nop nop nop nop nop nop nop nop nop nop nop nop nop nop nop nop nop nop nop nop nop nop nop nop nop nop nop nop nop nop nop nop nop nop nop nop nop nop nop nop nop nop nop nop nop nop nop nop nop nop nop nop nop nop nop nop nop nop nop nop nop nop nop nop nop nop nop nop nop nop nop nop nop nop nop nop nop nop nop nop nop nop nop nop nop nop nop nop nop nop nop nop nop nop nop nop nop nop nop nop nop nop nop nop nop nop nop nop nop nop nop nop nop nop nop nop nop nop nop nop nop nop nop nop nop nop nop nop nop nop nop nop nop nop nop nop nop nop nop nop nop nop nop nop nop nop nop nop nop nop nop nop nop nop nop nop nop nop nop nop nop nop nop nop nop nop nop nop nop nop nop nop nop nop nop nop nop nop nop nop nop nop nop nop nop nop nop nop nop nop nop nop nop nop nop nop nop nop nop nop nop nop nop nop nop nop nop nop nop nop nop nop nop nop nop nop nop nop nop nop nop nop nop nop nop nop nop nop nop nop nop nop nop nop nop nop nop nop nop nop nop nop nop nop nop nop nop nop nop nop nop nop nop nop nop nop nop nop nop nop nop nop nop nop nop nop nop nop nop nop nop nop nop nop nop nop nop nop nop nop nop nop nop nop nop nop nop nop nop nop nop nop nop nop nop nop nop nop nop nop nop nop nop nop nop nop nop nop nop nop nop nop nop nop nop nop nop nop nop nop nop nop nop nop nop nop nop nop nop nop nop nop nop nop nop nop nop nop nop nop nop nop nop nop nop nop nop nop nop nop nop nop nop nop nop nop nop nop nop nop nop nop nop nop nop nop nop nop nop nop nop nop nop nop nop nop nop nop nop nop nop nop nop nop nop nop nop nop nop nop nop nop nop nop nop nop nop nop nop nop nop nop nop nop nop nop nop nop\",\n          \"push mov push push push sub call pop add mov mov mov mov mov mov mov mov mov mov mov mov mov cmp jnz mov lea mov jmp mov lea mov mov mov sub mov mov ja mov mov mov add jmp mov mov mov mov mov mov mov mov mov mov mov mov mov mov call mov jmp mov lea mov mov mov mov mov mov call mov lea mov mov mov mov mov mov call mov lea mov mov mov mov mov mov call mov lea mov mov mov mov mov mov call mov lea mov mov mov mov mov mov call mov lea mov mov mov mov mov mov call mov lea mov mov mov mov mov mov call mov lea mov mov mov mov mov mov call mov lea mov mov mov mov mov mov call mov lea mov mov mov mov mov mov call mov lea mov mov mov mov mov mov call mov lea mov mov mov mov mov mov call mov lea mov mov mov mov mov mov call mov lea mov mov mov mov call mov lea mov mov mov mov call mov lea mov mov mov mov mov mov call mov lea mov mov mov mov call mov lea mov mov mov mov call mov lea mov mov mov mov call mov lea mov mov mov mov call mov mov mov mov mov mov mov mov mov mov mov mov mov mov mov mov mov mov call mov jmp mov lea mov mov mov mov mov mov call mov lea mov mov mov mov mov mov call mov lea mov mov mov mov mov mov call mov lea mov mov mov mov call mov lea mov mov mov mov mov mov call mov lea mov mov mov mov mov mov call mov lea mov mov mov mov mov mov call mov lea mov mov mov mov mov mov call mov lea mov mov mov mov call mov lea mov mov mov mov mov mov call mov lea mov mov mov mov mov mov call mov call mov add pop pop pop pop retn nop nop nop nop nop nop nop nop nop nop nop nop nop nop nop nop nop nop nop nop nop nop nop nop nop nop nop nop nop nop nop nop nop nop nop nop nop nop nop nop nop nop nop nop nop nop nop nop nop nop nop nop nop nop nop nop nop nop nop nop nop nop nop nop nop nop nop nop nop nop nop nop nop nop nop nop nop nop nop nop nop nop nop nop nop nop nop nop nop nop nop nop nop nop nop nop nop nop nop nop nop nop nop nop nop nop nop nop nop nop nop nop nop nop nop nop nop nop nop nop nop nop nop nop nop nop nop nop nop nop nop nop nop nop nop nop nop nop nop nop nop nop nop nop nop nop nop nop nop nop nop nop nop nop nop nop nop nop nop nop nop nop nop nop nop nop nop nop nop nop nop nop nop nop nop nop nop nop nop nop nop nop nop nop nop nop nop nop nop nop nop nop nop nop nop nop nop nop nop nop nop nop nop nop nop nop nop nop nop nop nop nop nop nop nop nop nop nop nop nop nop nop nop nop nop nop nop nop nop nop nop nop nop nop nop nop nop nop nop nop nop nop nop nop nop nop nop nop nop nop nop nop nop nop nop nop nop nop nop nop nop nop nop nop nop nop nop nop nop nop nop nop nop nop nop nop nop nop nop nop nop nop nop nop nop nop nop nop nop nop nop nop nop nop nop nop nop nop nop nop nop nop nop nop nop nop nop nop nop nop nop nop nop nop nop nop nop nop nop nop nop nop nop nop nop nop nop nop nop nop nop nop nop nop nop nop nop nop nop nop nop nop nop nop nop nop nop nop nop nop nop nop nop nop nop nop nop nop nop nop nop nop nop nop nop nop nop nop nop nop nop nop nop nop nop nop nop nop nop nop nop nop nop nop nop nop nop nop nop nop nop nop nop nop nop nop nop nop nop nop nop nop nop nop nop nop nop nop nop nop nop nop nop nop nop nop nop nop nop nop nop nop nop nop nop nop nop nop nop nop nop nop nop nop nop nop nop nop nop nop nop nop nop nop nop nop nop nop nop nop nop nop nop nop nop nop nop nop nop nop nop nop nop nop nop nop nop nop nop nop nop nop nop nop nop nop nop nop nop nop nop nop nop nop nop nop nop nop nop nop nop nop nop nop nop nop nop nop nop nop nop nop nop nop nop nop nop nop nop nop nop nop nop nop nop nop nop nop nop nop nop nop nop nop nop nop nop nop nop nop nop nop nop nop nop nop nop nop nop nop nop nop nop nop nop nop nop nop nop nop nop nop nop nop nop nop nop nop nop nop nop nop nop nop nop nop nop nop nop nop nop nop nop nop nop nop nop nop nop nop nop nop nop nop nop nop nop nop nop nop nop nop nop nop nop nop nop nop nop nop nop nop nop nop nop nop nop nop nop nop nop nop nop nop nop nop nop nop nop nop nop nop nop nop nop nop nop nop nop nop nop nop nop nop nop nop nop nop nop nop nop nop nop nop nop nop nop nop\",\n          \"push push push push sub mov mov mov mov mov mov mov mov call mov lea lea mov xor mov jmp mov nop nop call inc cmp ja jmp call mov jmp align call mov mov mov call test jnz jmp call mov jmp call mov jmp mov test jnz call test jz mov mov call mov mov mov mov call test jnz jmp call test jz mov mov mov mov call mov xor xor mov mov xor call mov call mov call mov call mov mov call mov add pop pop pop pop retn mov call mov xor mov xor xor xor jmp cmp mov mov jz mov call test jz mov call test jz mov mov call mov mov mov call mov mov mov mov mov call test jz call test jz test mov jz mov mov call call test jz cmp mov mov mov mov jz mov call mov test mov jle xor mov mov mov call mov mov call test js mov inc call mov cmp mov jl mov mov mov mov call test jz mov mov mov cmp jz cmp jnz mov mov call jmp mov mov mov mov mov call test jz mov mov cmp jz cmp jnz mov mov call jmp mov mov mov xor mov jmp mov xor xor mov mov mov jmp xor mov xor mov jmp mov mov mov mov call mov test jnz mov mov mov call mov mov call mov mov xor mov xor jmp mov mov xor mov mov jmp mov xor xor mov xor jmp mov mov mov mov xor jmp mov mov mov call mov mov call mov mov xor mov jmp mov mov call mov mov mov test jz mov mov xor jmp mov mov mov call mov mov call mov jmp nop nop nop nop nop nop nop nop nop nop nop nop nop nop nop nop nop nop nop nop nop nop nop nop nop nop nop nop nop nop nop nop nop nop nop nop nop nop nop nop nop nop nop nop nop nop nop nop nop nop nop nop nop nop nop nop nop nop nop nop nop nop nop nop nop nop nop nop nop nop nop nop nop nop nop nop nop nop nop nop nop nop nop nop nop nop nop nop nop nop nop nop nop nop nop nop nop nop nop nop nop nop nop nop nop nop nop nop nop nop nop nop nop nop nop nop nop nop nop nop nop nop nop nop nop nop nop nop nop nop nop nop nop nop nop nop nop nop nop nop nop nop nop nop nop nop nop nop nop nop nop nop nop nop nop nop nop nop nop nop nop nop nop nop nop nop nop nop nop nop nop nop nop nop nop nop nop nop nop nop nop nop nop nop nop nop nop nop nop nop nop nop nop nop nop nop nop nop nop nop nop nop nop nop nop nop nop nop nop nop nop nop nop nop nop nop nop nop nop nop nop nop nop nop nop nop nop nop nop nop nop nop nop nop nop nop nop nop nop nop nop nop nop nop nop nop nop nop nop nop nop nop nop nop nop nop nop nop nop nop nop nop nop nop nop nop nop nop nop nop nop nop nop nop nop nop nop nop nop nop nop nop nop nop nop nop nop nop nop nop nop nop nop nop nop nop nop nop nop nop nop nop nop nop nop nop nop nop nop nop nop nop nop nop nop nop nop nop nop nop nop nop nop nop nop nop nop nop nop nop nop nop nop nop nop nop nop nop nop nop nop nop nop nop nop nop nop nop nop nop nop nop nop nop nop nop nop nop nop nop nop nop nop nop nop nop nop nop nop nop nop nop nop nop nop nop nop nop nop nop nop nop nop nop nop nop nop nop nop nop nop nop nop nop nop nop nop nop nop nop nop nop nop nop nop nop nop nop nop nop nop nop nop nop nop nop nop nop nop nop nop nop nop nop nop nop nop nop nop nop nop nop nop nop nop nop nop nop nop nop nop nop nop nop nop nop nop nop nop nop nop nop nop nop nop nop nop nop nop nop nop nop nop nop nop nop nop nop nop nop nop nop nop nop nop nop nop nop nop nop nop nop nop nop nop nop nop nop nop nop nop nop nop nop nop nop nop nop nop nop nop nop nop nop nop nop nop nop nop nop nop nop nop nop nop nop nop nop nop nop nop nop nop nop nop nop nop nop nop nop nop nop nop nop nop nop nop nop nop nop nop nop nop nop nop nop nop nop nop nop nop nop nop nop nop nop nop nop nop nop nop nop nop nop nop nop nop nop nop nop nop nop nop nop nop nop nop nop nop nop nop nop nop nop nop nop nop nop nop nop nop nop nop nop nop nop nop nop nop nop nop nop nop nop nop nop nop nop nop nop nop nop nop nop nop nop nop nop nop nop nop nop nop nop nop nop nop nop nop nop nop nop nop nop nop nop nop nop nop nop nop nop nop nop nop nop nop nop nop nop nop nop nop nop nop nop nop nop nop nop nop nop nop nop nop nop nop nop nop nop nop nop nop nop nop nop nop nop nop nop nop nop nop nop nop nop nop nop nop nop nop nop nop nop nop nop nop nop nop nop nop nop\"\n        ],\n        \"semantic_type\": \"\",\n        \"description\": \"\"\n      }\n    },\n    {\n      \"column\": \"label\",\n      \"properties\": {\n        \"dtype\": \"number\",\n        \"std\": 0,\n        \"min\": 0,\n        \"max\": 1,\n        \"num_unique_values\": 2,\n        \"samples\": [\n          1,\n          0\n        ],\n        \"semantic_type\": \"\",\n        \"description\": \"\"\n      }\n    }\n  ]\n}"
            }
          },
          "metadata": {},
          "execution_count": 23
        }
      ],
      "source": [
        "df.head()"
      ]
    },
    {
      "cell_type": "code",
      "execution_count": null,
      "metadata": {
        "id": "tkQVJUTMkDYy"
      },
      "outputs": [],
      "source": [
        "# Combine both function1 and function2 into a single list of instructions\n",
        "instructions_opcode = df['function1'].tolist() + df['function2'].tolist()\n",
        "\n",
        "# Tokenize instructions\n",
        "tokenized_instructions_opcode = [instr.split() for instr in instructions_opcode]\n",
        "\n",
        "# Train Word2Vec model\n",
        "word2vec_model_opcode = Word2Vec(sentences=tokenized_instructions_opcode, vector_size=300, window=5, min_count=1, sg=1)"
      ]
    },
    {
      "cell_type": "code",
      "execution_count": null,
      "metadata": {
        "id": "0axzWLuFkYbA"
      },
      "outputs": [],
      "source": [
        "model_path_opcode = \"/content/drive/MyDrive/HK2_2023-2024/NT522/ProcessData/word2vecmodel/word2vec_model_opcode.model\"\n",
        "# word2vec_model_opcode.save(model_path_opcode)"
      ]
    },
    {
      "cell_type": "code",
      "execution_count": null,
      "metadata": {
        "id": "gCdCVxWZlVUD"
      },
      "outputs": [],
      "source": [
        "word2vec_model_opcode= Word2Vec.load(model_path_opcode)"
      ]
    },
    {
      "cell_type": "code",
      "execution_count": null,
      "metadata": {
        "id": "oZXSqEfpku-p"
      },
      "outputs": [],
      "source": [
        "from tensorflow.keras.preprocessing.sequence import pad_sequences\n",
        "# Tokenize the instructions\n",
        "df['function1'] = df['function1'].apply(lambda x: x.split())\n",
        "df['function2'] = df['function2'].apply(lambda x: x.split())\n",
        "\n",
        "\n",
        "\n",
        "# Create a dictionary mapping from words to their index in the Word2Vec vocabulary\n",
        "word_index = {word: idx for idx, word in enumerate(word2vec_model_opcode.wv.index_to_key)}\n",
        "\n",
        "# Function to convert instructions to their corresponding indices\n",
        "def instructions_to_indices(instructions, word_index):\n",
        "    return [word_index[word] if word in word_index else 0 for word in instructions]\n",
        "\n",
        "# Convert instructions to indices\n",
        "df['function1_indices'] = df['function1'].apply(lambda x: instructions_to_indices(x, word_index))\n",
        "df['function2_indices'] = df['function2'].apply(lambda x: instructions_to_indices(x, word_index))\n",
        "\n",
        "# Pad or truncate the instruction sequences\n",
        "max_length = 1000\n",
        "df['function1_indices'] = pad_sequences(df['function1_indices'], maxlen=max_length, padding='post', truncating='post').tolist()\n",
        "df['function2_indices'] = pad_sequences(df['function2_indices'], maxlen=max_length, padding='post', truncating='post').tolist()\n",
        "\n",
        "# Prepare the input data\n",
        "X1 = np.array(df['function1_indices'].tolist())\n",
        "X2 = np.array(df['function2_indices'].tolist())\n",
        "y = np.array(df['label'].values)\n",
        "\n",
        "# Split the data into training and testing sets\n",
        "X1_train, X1_test, X2_train, X2_test, y_train, y_test = train_test_split(X1, X2, y, test_size=0.2, random_state=42)"
      ]
    },
    {
      "cell_type": "code",
      "execution_count": null,
      "metadata": {
        "colab": {
          "base_uri": "https://localhost:8080/"
        },
        "id": "YOxaJwXgkyAp",
        "outputId": "deb3f880-3195-4139-cfc5-3cc3736d9a3b"
      },
      "outputs": [
        {
          "output_type": "stream",
          "name": "stdout",
          "text": [
            "Model: \"model_3\"\n",
            "__________________________________________________________________________________________________\n",
            " Layer (type)                Output Shape                 Param #   Connected to                  \n",
            "==================================================================================================\n",
            " input_5 (InputLayer)        [(None, 1000)]               0         []                            \n",
            "                                                                                                  \n",
            " input_6 (InputLayer)        [(None, 1000)]               0         []                            \n",
            "                                                                                                  \n",
            " model_2 (Functional)        (None, 300)                  4495578   ['input_5[0][0]',             \n",
            "                                                          0          'input_6[0][0]']             \n",
            "                                                                                                  \n",
            " lambda_1 (Lambda)           (None, 300)                  0         ['model_2[0][0]',             \n",
            "                                                                     'model_2[1][0]']             \n",
            "                                                                                                  \n",
            " dense_3 (Dense)             (None, 1)                    301       ['lambda_1[0][0]']            \n",
            "                                                                                                  \n",
            "==================================================================================================\n",
            "Total params: 44956081 (171.49 MB)\n",
            "Trainable params: 44876581 (171.19 MB)\n",
            "Non-trainable params: 79500 (310.55 KB)\n",
            "__________________________________________________________________________________________________\n"
          ]
        }
      ],
      "source": [
        "\n",
        "\n",
        "class SiameseNetwork:\n",
        "    def __init__(self, input_shape, word2vec_model):\n",
        "        self.input_shape = input_shape\n",
        "        self.word2vec_model = word2vec_model\n",
        "\n",
        "    def build_network_branch(self):\n",
        "        input_layer = Input(shape=self.input_shape)\n",
        "\n",
        "        # Embedding layer\n",
        "        embedding_layer = Embedding(input_dim=len(self.word2vec_model.wv),  # Vocabulary size from Word2Vec\n",
        "                                    output_dim=300,  # Output dimension as specified\n",
        "                                    weights=[self.word2vec_model.wv.vectors],  # Pre-trained weights from Word2Vec\n",
        "                                    input_length=self.input_shape[0],  # Input sequence length\n",
        "                                    trainable=False)(input_layer)\n",
        "\n",
        "        # LSTM layer\n",
        "        lstm_layer = LSTM(units=20, return_sequences=True)(embedding_layer)\n",
        "\n",
        "        # CNN layer\n",
        "        cnn_layer = Conv1D(filters=300, kernel_size=5, strides=1, activation='relu')(lstm_layer)\n",
        "\n",
        "        # Max pooling layer\n",
        "        max_pooling_layer = MaxPooling1D(pool_size=2, strides=2)(cnn_layer)\n",
        "\n",
        "        # Flatten the output\n",
        "        flatten_layer = Flatten()(max_pooling_layer)\n",
        "\n",
        "        # Dense layer\n",
        "        dense_layer = Dense(units=300, activation='relu')(flatten_layer)\n",
        "\n",
        "        return Model(inputs=input_layer, outputs=dense_layer)\n",
        "\n",
        "    def build_siamese_network(self):\n",
        "        # Build the two branches of the Siamese network\n",
        "        siamese_branch = self.build_network_branch()\n",
        "\n",
        "        # Input layers for the two functions\n",
        "        input_1 = Input(shape=self.input_shape)\n",
        "        input_2 = Input(shape=self.input_shape)\n",
        "\n",
        "        # Generate the embeddings for the two functions\n",
        "        processed_1 = siamese_branch(input_1)\n",
        "        processed_2 = siamese_branch(input_2)\n",
        "\n",
        "        # Calculate the absolute difference between the two embeddings\n",
        "        L1_layer = Lambda(lambda tensors: K.abs(tensors[0] - tensors[1]))\n",
        "        L1_distance = L1_layer([processed_1, processed_2])\n",
        "\n",
        "        # Final Dense layer for classification\n",
        "        output_layer = Dense(units=1, activation='sigmoid')(L1_distance)\n",
        "\n",
        "        # Create the Siamese network model\n",
        "        siamese_model = Model(inputs=[input_1, input_2], outputs=output_layer)\n",
        "        return siamese_model\n",
        "\n",
        "\n",
        "\n",
        "# Define input shape\n",
        "input_shape = (1000,)\n",
        "\n",
        "# Instantiate the SiameseNetwork class\n",
        "siamese_network = SiameseNetwork(input_shape=input_shape, word2vec_model=word2vec_model_opcode)\n",
        "\n",
        "# Build the Siamese network\n",
        "siamese_model_opcode = siamese_network.build_siamese_network()\n",
        "\n",
        "# Compile the model\n",
        "siamese_model_opcode.compile(optimizer=Adam(), loss='binary_crossentropy', metrics=['accuracy'])\n",
        "\n",
        "# Display the model summary\n",
        "siamese_model_opcode.summary()"
      ]
    },
    {
      "cell_type": "code",
      "execution_count": null,
      "metadata": {
        "colab": {
          "base_uri": "https://localhost:8080/"
        },
        "id": "IHvNNqkDlA0z",
        "outputId": "90a645a6-28c1-4569-9d40-c32d94434e9f"
      },
      "outputs": [
        {
          "output_type": "stream",
          "name": "stdout",
          "text": [
            "Epoch 1/10\n",
            "1352/1352 [==============================] - 903s 664ms/step - loss: 0.3513 - accuracy: 0.8650 - val_loss: 0.2712 - val_accuracy: 0.9070\n",
            "Epoch 2/10\n",
            "1352/1352 [==============================] - 831s 615ms/step - loss: 0.1995 - accuracy: 0.9322 - val_loss: 0.2068 - val_accuracy: 0.9315\n",
            "Epoch 3/10\n",
            "1352/1352 [==============================] - 818s 605ms/step - loss: 0.1229 - accuracy: 0.9602 - val_loss: 0.2139 - val_accuracy: 0.9383\n",
            "Epoch 4/10\n",
            "1352/1352 [==============================] - 799s 591ms/step - loss: 0.0846 - accuracy: 0.9758 - val_loss: 0.2611 - val_accuracy: 0.9393\n",
            "Epoch 5/10\n",
            "1352/1352 [==============================] - 789s 584ms/step - loss: 0.0603 - accuracy: 0.9835 - val_loss: 0.2547 - val_accuracy: 0.9412\n",
            "Epoch 6/10\n",
            "1352/1352 [==============================] - 771s 570ms/step - loss: 0.0460 - accuracy: 0.9895 - val_loss: 0.3208 - val_accuracy: 0.9331\n",
            "Epoch 7/10\n",
            "1352/1352 [==============================] - 783s 579ms/step - loss: 0.0342 - accuracy: 0.9918 - val_loss: 0.3187 - val_accuracy: 0.9386\n",
            "Epoch 8/10\n",
            "1352/1352 [==============================] - 845s 625ms/step - loss: 0.0276 - accuracy: 0.9952 - val_loss: 0.3357 - val_accuracy: 0.9417\n",
            "Epoch 9/10\n",
            "1352/1352 [==============================] - 805s 596ms/step - loss: 0.0312 - accuracy: 0.9946 - val_loss: 0.3447 - val_accuracy: 0.9399\n",
            "Epoch 10/10\n",
            "1352/1352 [==============================] - 865s 640ms/step - loss: 0.0272 - accuracy: 0.9948 - val_loss: 0.4289 - val_accuracy: 0.9402\n"
          ]
        },
        {
          "output_type": "stream",
          "name": "stderr",
          "text": [
            "/usr/local/lib/python3.10/dist-packages/keras/src/engine/training.py:3103: UserWarning: You are saving your model as an HDF5 file via `model.save()`. This file format is considered legacy. We recommend using instead the native Keras format, e.g. `model.save('my_model.keras')`.\n",
            "  saving_api.save_model(\n"
          ]
        }
      ],
      "source": [
        "siamese_model_opcode.fit([X1_train, X2_train], y_train, epochs=10, batch_size=32, validation_data=([X1_test, X2_test], y_test))\n",
        "siamese_model_opcode.save_weights(\"/content/drive/MyDrive/HK2_2023-2024/NT522/Result/models/siamese/opcode_siamese_model_weights.h5\")\n",
        "siamese_model_opcode.save(\"/content/drive/MyDrive/HK2_2023-2024/NT522/Result/models/siamese/opcode_siamese_model.h5\")"
      ]
    },
    {
      "cell_type": "code",
      "execution_count": null,
      "metadata": {
        "id": "tSmAHRh5n71w"
      },
      "outputs": [],
      "source": [
        "\n",
        "\n",
        "siamese_model_opcode = tf.keras.models.load_model(\"/content/drive/MyDrive/HK2_2023-2024/NT522/Result/models/siamese/opcode_siamese_model.h5\")\n"
      ]
    },
    {
      "cell_type": "code",
      "execution_count": null,
      "metadata": {
        "id": "kgshdtIloO71",
        "colab": {
          "base_uri": "https://localhost:8080/"
        },
        "outputId": "6833af21-8d56-4c4f-da79-5e7f902ee453"
      },
      "outputs": [
        {
          "output_type": "stream",
          "name": "stdout",
          "text": [
            "338/338 [==============================] - 49s 144ms/step\n",
            "+---------------------------+-----------+\n",
            "| Metric                    |     Score |\n",
            "+===========================+===========+\n",
            "| Precision                 | 0.955071  |\n",
            "+---------------------------+-----------+\n",
            "| Recall                    | 0.923034  |\n",
            "+---------------------------+-----------+\n",
            "| F1 Score                  | 0.938779  |\n",
            "+---------------------------+-----------+\n",
            "| Accuracy                  | 0.940241  |\n",
            "+---------------------------+-----------+\n",
            "| False Positive Rate (FPR) | 0.0427994 |\n",
            "+---------------------------+-----------+\n",
            "| False Negative Rate (FNR) | 0.0769661 |\n",
            "+---------------------------+-----------+\n"
          ]
        }
      ],
      "source": [
        "from sklearn.metrics import precision_score, recall_score, f1_score, accuracy_score, confusion_matrix\n",
        "from tabulate import tabulate\n",
        "\n",
        "def evaluate_siamese_model(model, X1_test, X2_test, y_test):\n",
        "    \"\"\"\n",
        "    Evaluate the Siamese model and print various performance metrics.\n",
        "\n",
        "    :param model: Trained Siamese model\n",
        "    :param X1_test: Test features from the first input\n",
        "    :param X2_test: Test features from the second input\n",
        "    :param y_test: True labels for the test set\n",
        "    \"\"\"\n",
        "    # Get predictions\n",
        "    y_pred = model.predict([X1_test, X2_test])\n",
        "\n",
        "    # Convert predictions to binary labels based on a threshold\n",
        "    threshold = 0.5\n",
        "    y_pred_binary = (y_pred > threshold).astype(int)\n",
        "\n",
        "    # Calculate metrics\n",
        "    precision = precision_score(y_test, y_pred_binary)\n",
        "    recall = recall_score(y_test, y_pred_binary)\n",
        "    f1 = f1_score(y_test, y_pred_binary)\n",
        "    accuracy = accuracy_score(y_test, y_pred_binary)\n",
        "\n",
        "    # Compute confusion matrix\n",
        "    tn, fp, fn, tp = confusion_matrix(y_test, y_pred_binary).ravel()\n",
        "\n",
        "    # Calculate FPR and FNR\n",
        "    fpr = fp / (fp + tn)\n",
        "    fnr = fn / (fn + tp)\n",
        "\n",
        "    # Create table\n",
        "    table_data = [\n",
        "        [\"Metric\", \"Score\"],\n",
        "        [\"Precision\", precision],\n",
        "        [\"Recall\", recall],\n",
        "        [\"F1 Score\", f1],\n",
        "        [\"Accuracy\", accuracy],\n",
        "        [\"False Positive Rate (FPR)\", fpr],\n",
        "        [\"False Negative Rate (FNR)\", fnr]\n",
        "    ]\n",
        "\n",
        "    # Print table\n",
        "    print(tabulate(table_data, headers=\"firstrow\", tablefmt='grid'))\n",
        "\n",
        "# Assuming you have a trained model and test data available\n",
        "evaluate_siamese_model(siamese_model_opcode, X1_test, X2_test, y_test)\n"
      ]
    },
    {
      "cell_type": "code",
      "source": [
        "import numpy as np\n",
        "from sklearn.metrics import roc_curve, roc_auc_score\n",
        "import matplotlib.pyplot as plt\n",
        "import tensorflow as tf\n",
        "\n",
        "# Load the model\n",
        "\n",
        "\n",
        "\n",
        "y_pred = siamese_model_opcode.predict([X1_test, X2_test])\n",
        "\n",
        "# Compute ROC curve and AUC using continuous scores\n",
        "fpr, tpr, thresholds = roc_curve(y_test, y_pred)\n",
        "roc_auc = roc_auc_score(y_test, y_pred)\n",
        "\n",
        "# Plot ROC curve\n",
        "plt.figure()\n",
        "plt.plot(fpr, tpr, color='blue', lw=2, label=f'ROC curve opcode (area = {roc_auc:.2f})')\n",
        "plt.plot([0, 1], [0, 1], color='gray', lw=1, linestyle='--')\n",
        "plt.xlim([0.0, 1.0])\n",
        "plt.ylim([0.0, 1.05])\n",
        "plt.xlabel('False Positive Rate')\n",
        "plt.ylabel('True Positive Rate')\n",
        "plt.title(' opcode ROC')\n",
        "plt.legend(loc=\"lower right\")\n",
        "plt.show()\n",
        "\n",
        "# Print ROC AUC score\n",
        "print(f'ROC AUC: {roc_auc:.2f}')\n"
      ],
      "metadata": {
        "colab": {
          "base_uri": "https://localhost:8080/",
          "height": 508
        },
        "id": "8JJHNLpEYPsw",
        "outputId": "ec9523ce-e0bb-47c6-b5b8-954464d8a992"
      },
      "execution_count": null,
      "outputs": [
        {
          "output_type": "stream",
          "name": "stdout",
          "text": [
            "338/338 [==============================] - 68s 200ms/step\n"
          ]
        },
        {
          "output_type": "display_data",
          "data": {
            "text/plain": [
              "<Figure size 640x480 with 1 Axes>"
            ],
            "image/png": "[encoded data removed]"
          },
          "metadata": {}
        },
        {
          "output_type": "stream",
          "name": "stdout",
          "text": [
            "ROC AUC: 0.98\n"
          ]
        }
      ]
    },
    {
      "cell_type": "code",
      "source": [
        "# Compute the confusion matrix\n",
        "y_pred_bin = np.round(y_pred).astype(int)\n",
        "cm = confusion_matrix(y_pred_bin , y_test)\n",
        "\n",
        "# Plotting the confusion matrix\n",
        "plt.figure(figsize=(8, 6))\n",
        "sns.heatmap(cm, annot=True, fmt='d', cmap='Blues', xticklabels=['Predicted 0', 'Predicted 1'], yticklabels=['True 0', 'True 1'])\n",
        "plt.xlabel('Predicted Labels')\n",
        "plt.ylabel('True Labels')\n",
        "plt.title('Confusion Matrix model CNN+LSTM feature opcode sequence')\n",
        "plt.show()\n"
      ],
      "metadata": {
        "colab": {
          "base_uri": "https://localhost:8080/",
          "height": 564
        },
        "id": "tSmR8Cej6KkB",
        "outputId": "9ce2fa13-b2f0-47ab-f1db-17a7291b7ff3"
      },
      "execution_count": null,
      "outputs": [
        {
          "output_type": "display_data",
          "data": {
            "text/plain": [
              "<Figure size 800x600 with 2 Axes>"
            ],
            "image/png": "[encoded data removed]"
          },
          "metadata": {}
        }
      ]
    },
    {
      "cell_type": "markdown",
      "metadata": {
        "id": "sbNVHsePU5Yx"
      },
      "source": [
        "# demo mô hình học máy\n",
        "Kịch bản: demo trên trang web streamlit.io\n",
        "\n",
        "Dạng đầu vào là 2 mã hợp ngữ của hai hàm dưới dạng list python  ví dụ\n",
        "Hàm ```[\"test    rdi, rdi\",\n",
        "        \"jz      loc_28D18\",\n",
        "        \"push    rbp\",\n",
        "        \"mov     eax, 1\",\n",
        "        \"mov     rbp, rdi\", ]````\n",
        "\n",
        "ứng dụng sẽ tiền xủ lý 2 hàm này và cho vào mô hình để dự đoạn xem 2 đoạn code có tương đồng hay không.\n",
        "\n",
        "Đối tượng là 2 binary có cùng kiến trúc x86, x64 và và khác optimizer, hay khác complier\n"
      ]
    },
    {
      "cell_type": "markdown",
      "source": [
        "### demo cho đặc tính opcode+mnemonic"
      ],
      "metadata": {
        "id": "z6RFq4THCiW6"
      }
    },
    {
      "cell_type": "code",
      "execution_count": null,
      "metadata": {
        "id": "lEo7IX7Qbax7"
      },
      "outputs": [],
      "source": [
        "from tensorflow.keras.preprocessing.sequence import pad_sequences\n",
        "import numpy as np\n",
        "import tensorflow as tf"
      ]
    },
    {
      "cell_type": "code",
      "execution_count": null,
      "metadata": {
        "id": "nZ5O0zmRWGoq"
      },
      "outputs": [],
      "source": [
        "\n",
        "\n",
        "\n",
        "with open(\"/content/x64-gcc-9-O1_curl.json\", 'r') as json_file:\n",
        "    data1 = json.load(json_file)\n",
        "    # print(data1\n",
        "\n",
        "with open(\"/content/x86-clang-9-O3_curl.json\", 'r') as json_file:\n",
        "    data2 = json.load(json_file)\n",
        "    # print(data2\n"
      ]
    },
    {
      "cell_type": "code",
      "source": [
        "for d2, d1 in zip(data1[\"libcurl_generate_slist\"][:20], data2[\"libcurl_generate_slist\"][:20]):\n",
        "    print(f\"{d2:<20}                                      {d1:<20}\")"
      ],
      "metadata": {
        "colab": {
          "base_uri": "https://localhost:8080/"
        },
        "id": "ArcMy9S4GwMA",
        "outputId": "e0b6616c-a8e5-473e-8310-28ab7d12f5e3"
      },
      "execution_count": null,
      "outputs": [
        {
          "output_type": "stream",
          "name": "stdout",
          "text": [
            "push    r14                                               push    ebp         \n",
            "push    r13                                               push    ebx         \n",
            "push    r12                                               push    edi         \n",
            "push    rbp                                               push    esi         \n",
            "push    rbx                                               sub     esp, 0Ch    \n",
            "mov     rbp, rdi                                          mov     esi, edx    \n",
            "mov     r12, rsi                                          mov     edi, ecx    \n",
            "mov     eax, cs:easysrc_slist_count                                      mov     eax, ds:easysrc_slist_count\n",
            "lea     edx, [rax+1]                                      inc     eax         \n",
            "mov     cs:easysrc_slist_count, edx                                      mov     ds:easysrc_slist_count, eax\n",
            "mov     [rsi], edx                                        mov     [edx], eax  \n",
            "lea     rsi, aStructCurl_sli; \"struct curl_slist *slist%d;\"                                      sub     esp, 4      \n",
            "lea     rdi, easysrc_decl                                      push    eax         \n",
            "mov     eax, 0                                            push    offset aStructCurl_sli; \"struct curl_slist *slist%d;\"\n",
            "call    easysrc_addf                                      push    offset easysrc_decl\n",
            "mov     ebx, eax                                          call    easysrc_addf\n",
            "mov     r13d, 0                                           add     esp, 10h    \n",
            "test    eax, eax                                          xor     ebx, ebx    \n",
            "jz      short loc_1EE1D                                      test    eax, eax    \n",
            "mov     rdi, r13        ; ptr                                      jnz     short loc_805C9CA\n"
          ]
        }
      ]
    },
    {
      "cell_type": "code",
      "execution_count": null,
      "metadata": {
        "id": "EfZP5sq_YH5s"
      },
      "outputs": [],
      "source": [
        "function1 = list(normalize_function(data2[\"libcurl_generate_slist\"]))\n",
        "function2 = list(normalize_function(data1[\"libcurl_generate_slist\"]))"
      ]
    },
    {
      "cell_type": "code",
      "source": [
        "for f2, f1 in zip(function1[:20], function2[:20]):\n",
        "    print(f\"{f2:<20}                             {f1:<20}\")"
      ],
      "metadata": {
        "colab": {
          "base_uri": "https://localhost:8080/"
        },
        "id": "DI6Iyru2FdA4",
        "outputId": "8b0811c7-f49d-48ad-a553-98783f6e60c4"
      },
      "execution_count": null,
      "outputs": [
        {
          "output_type": "stream",
          "name": "stdout",
          "text": [
            "push TypeOne                                     push TypeOne        \n",
            "push TypeOne                                     push TypeOne        \n",
            "push TypeOne                                     push TypeOne        \n",
            "push TypeOne                                     push TypeOne        \n",
            "sub TypeOne TypeFive                             push TypeOne        \n",
            "mov TypeOne TypeOne                              mov TypeOne TypeOne \n",
            "mov TypeOne TypeOne                              mov TypeOne TypeOne \n",
            "mov TypeOne TypeEight                             mov TypeOne TypeEight\n",
            "inc TypeOne                                      lea TypeOne TypeThree\n",
            "mov TypeEight TypeOne                             mov TypeEight TypeOne\n",
            "mov TypeTwo TypeOne                              mov TypeTwo TypeOne \n",
            "sub TypeOne TypeFive                             lea TypeOne TypeEight\n",
            "push TypeOne                                     lea TypeOne TypeEight\n",
            "push TypeEight TypeEight                             mov TypeOne TypeFive\n",
            "push TypeEight TypeEight                             call TypeSix        \n",
            "call TypeSix                                     mov TypeOne TypeOne \n",
            "add TypeOne TypeFive                             mov TypeFive TypeFive\n",
            "xor TypeOne TypeOne                              test TypeOne TypeOne\n",
            "test TypeOne TypeOne                             jz TypeSeven        \n",
            "jnz TypeSeven                                    mov TypeOne TypeOne \n"
          ]
        }
      ]
    },
    {
      "cell_type": "code",
      "execution_count": null,
      "metadata": {
        "id": "X7OcOAGQaDDO"
      },
      "outputs": [],
      "source": [
        "# Create a dictionary mapping from words to their index in the Word2Vec vocabulary\n",
        "word_index = {word: idx for idx, word in enumerate(word2vec_model.wv.index_to_key)}\n",
        "# Function to convert instructions to their corresponding indices\n",
        "def instructions_to_indices(instructions, word_index):\n",
        "    return [word_index[word] if word in word_index else 0 for word in instructions]\n",
        "\n"
      ]
    },
    {
      "cell_type": "code",
      "execution_count": null,
      "metadata": {
        "id": "cERxjztAbEdY"
      },
      "outputs": [],
      "source": [
        "def pad_or_truncate_instructions(instruction_sequence, max_length=1000):\n",
        "    if len(instruction_sequence) < max_length:\n",
        "        # Pad with \"nop\" instructions\n",
        "        instruction_sequence += [\"nop\"] * (max_length - len(instruction_sequence))\n",
        "    elif len(instruction_sequence) > max_length:\n",
        "        # Truncate to keep only the first max_length instructions\n",
        "        instruction_sequence = instruction_sequence[:max_length]\n",
        "    return ' '.join(instruction_sequence)"
      ]
    },
    {
      "cell_type": "code",
      "execution_count": null,
      "metadata": {
        "id": "DcESWWfsbAH1"
      },
      "outputs": [],
      "source": [
        "x1 = pad_or_truncate_instructions(function1)\n",
        "x2 = pad_or_truncate_instructions(function2)\n"
      ]
    },
    {
      "cell_type": "code",
      "execution_count": null,
      "metadata": {
        "id": "BJk-Ks8Db_DF"
      },
      "outputs": [],
      "source": [
        "x1 = instructions_to_indices(x1.split(), word_index)\n",
        "x2 = instructions_to_indices(x2.split(), word_index)"
      ]
    },
    {
      "cell_type": "code",
      "execution_count": null,
      "metadata": {
        "id": "uBBbUngvcGA2"
      },
      "outputs": [],
      "source": [
        "x1 = pad_sequences([x1], maxlen=1000, padding='post', truncating='post').tolist()\n",
        "x2 = pad_sequences([x2], maxlen=1000, padding='post', truncating='post').tolist()"
      ]
    },
    {
      "cell_type": "code",
      "execution_count": null,
      "metadata": {
        "id": "byixI8qMchJW"
      },
      "outputs": [],
      "source": [
        "x1 = np.array(x1)\n",
        "x2 = np.array(x2)"
      ]
    },
    {
      "cell_type": "code",
      "execution_count": null,
      "metadata": {
        "id": "Ob19bpD0ci7D"
      },
      "outputs": [],
      "source": [
        "model = tf.keras.models.load_model(\"/content/drive/MyDrive/HK2_2023-2024/NT522/Result/models/siamese/siamese_model.h5\")"
      ]
    },
    {
      "cell_type": "code",
      "execution_count": null,
      "metadata": {
        "colab": {
          "base_uri": "https://localhost:8080/"
        },
        "id": "J5cSXE2wdCZP",
        "outputId": "6eb0078a-0c26-4701-8af1-b78585e83b54"
      },
      "outputs": [
        {
          "output_type": "stream",
          "name": "stdout",
          "text": [
            "1/1 [==============================] - 0s 119ms/step\n"
          ]
        }
      ],
      "source": [
        "y_pred = model.predict([x1, x2])"
      ]
    },
    {
      "cell_type": "code",
      "execution_count": null,
      "metadata": {
        "id": "_Ui9jtPLdlCS"
      },
      "outputs": [],
      "source": [
        "threshold = 0.5\n",
        "y_pred_binary = (y_pred > threshold).astype(int)"
      ]
    },
    {
      "cell_type": "code",
      "execution_count": null,
      "metadata": {
        "colab": {
          "base_uri": "https://localhost:8080/"
        },
        "id": "Zod9aAuhdqnJ",
        "outputId": "ef71871a-e772-4c8a-8397-e3d6693e9449"
      },
      "outputs": [
        {
          "output_type": "stream",
          "name": "stdout",
          "text": [
            "Hàm 1 và hàm 2 tương đồng\n"
          ]
        }
      ],
      "source": [
        "if y_pred_binary[0][0] == 1:\n",
        "    print(\"Hàm 1 và hàm 2 tương đồng\")\n",
        "else:\n",
        "    print(\"Hàm 1 và hàm 2 không tương đồng\")"
      ]
    },
    {
      "cell_type": "markdown",
      "source": [
        "# demo cho đặc tính chuỗi opcode"
      ],
      "metadata": {
        "id": "zQWFMWopDFpf"
      }
    },
    {
      "cell_type": "code",
      "source": [
        "def pad_or_truncate_instructions_opcode(instruction_sequence, max_length=1000):\n",
        "    instruction_sequence = [item.split()[0] for item in instruction_sequence]\n",
        "    if len(instruction_sequence) < max_length:\n",
        "        # Pad with \"nop\" instructions\n",
        "        instruction_sequence += [\"nop\"] * (max_length - len(instruction_sequence))\n",
        "    elif len(instruction_sequence) > max_length:\n",
        "        # Truncate to keep only the first max_length instructions\n",
        "        instruction_sequence = instruction_sequence[:max_length]\n",
        "    return ' '.join(instruction_sequence)"
      ],
      "metadata": {
        "id": "yLNgUzIQDQ9G"
      },
      "execution_count": null,
      "outputs": []
    },
    {
      "cell_type": "code",
      "source": [
        "function1 = list(normalize_function(data2[\"libcurl_generate_slist\"]))\n",
        "function2 = list(normalize_function(data1[\"libcurl_generate_slist\"]))"
      ],
      "metadata": {
        "id": "aFiHuYh2ETvU"
      },
      "execution_count": null,
      "outputs": []
    },
    {
      "cell_type": "code",
      "source": [
        "x1 = pad_or_truncate_instructions_opcode(function1)\n",
        "x2 = pad_or_truncate_instructions_opcode(function2)"
      ],
      "metadata": {
        "id": "8ohP6I2dEYuR"
      },
      "execution_count": null,
      "outputs": []
    },
    {
      "cell_type": "code",
      "source": [
        "# Create a dictionary mapping from words to their index in the Word2Vec vocabulary\n",
        "word_index = {word: idx for idx, word in enumerate(word2vec_model_opcode.wv.index_to_key)}\n",
        "\n",
        "# Function to convert instructions to their corresponding indices\n",
        "def instructions_to_indices(instructions, word_index):\n",
        "    return [word_index[word] if word in word_index else 0 for word in instructions]"
      ],
      "metadata": {
        "id": "k7idtmU8FABq"
      },
      "execution_count": null,
      "outputs": []
    },
    {
      "cell_type": "code",
      "source": [
        "x1 = instructions_to_indices(x1.split(), word_index)\n",
        "x2 = instructions_to_indices(x2.split(), word_index)"
      ],
      "metadata": {
        "id": "bAFXYr1PFzGR"
      },
      "execution_count": null,
      "outputs": []
    },
    {
      "cell_type": "code",
      "source": [
        "x1 = pad_sequences([x1], maxlen=1000, padding='post', truncating='post').tolist()\n",
        "x2 = pad_sequences([x2], maxlen=1000, padding='post', truncating='post').tolist()"
      ],
      "metadata": {
        "id": "a7ijUBi4HI4S"
      },
      "execution_count": null,
      "outputs": []
    },
    {
      "cell_type": "code",
      "source": [
        "x1 = np.array(x1)\n",
        "x2 = np.array(x2)"
      ],
      "metadata": {
        "id": "EEd0r5xUGbUn"
      },
      "execution_count": null,
      "outputs": []
    },
    {
      "cell_type": "code",
      "source": [
        "siamese_model_opcode = tf.keras.models.load_model(\"/content/drive/MyDrive/HK2_2023-2024/NT522/Result/models/siamese/opcode_siamese_model.h5\")"
      ],
      "metadata": {
        "id": "ciQkMj-JGh2y"
      },
      "execution_count": null,
      "outputs": []
    },
    {
      "cell_type": "code",
      "source": [
        "y_pred = siamese_model_opcode.predict([x1, x2])"
      ],
      "metadata": {
        "colab": {
          "base_uri": "https://localhost:8080/"
        },
        "id": "I6xHv3QPGzhm",
        "outputId": "9f1f2507-d39c-495a-f8a7-38d0eb932133"
      },
      "execution_count": null,
      "outputs": [
        {
          "output_type": "stream",
          "name": "stdout",
          "text": [
            "1/1 [==============================] - 1s 939ms/step\n"
          ]
        }
      ]
    },
    {
      "cell_type": "code",
      "source": [
        "threshold = 0.5\n",
        "y_pred_binary = (y_pred > threshold).astype(int)"
      ],
      "metadata": {
        "id": "Qa0XDV4_G4gT"
      },
      "execution_count": null,
      "outputs": []
    },
    {
      "cell_type": "code",
      "source": [
        "if y_pred_binary[0][0] == 1:\n",
        "    print(\"Hàm 1 và hàm 2 tương đồng\")\n",
        "else:\n",
        "    print(\"Hàm 1 và hàm 2 không tương đồng\")"
      ],
      "metadata": {
        "colab": {
          "base_uri": "https://localhost:8080/"
        },
        "id": "mhbyYM7CHn4N",
        "outputId": "b297d713-69ee-4c43-c026-257a58e4dad4"
      },
      "execution_count": null,
      "outputs": [
        {
          "output_type": "stream",
          "name": "stdout",
          "text": [
            "Hàm 1 và hàm 2 tương đồng\n"
          ]
        }
      ]
    }
  ],
  "metadata": {
    "colab": {
      "machine_shape": "hm",
      "provenance": [],
      "toc_visible": true
    },
    "kernelspec": {
      "display_name": "Python 3",
      "name": "python3"
    },
    "language_info": {
      "name": "python"
    }
  },
  "nbformat": 4,
  "nbformat_minor": 0
}